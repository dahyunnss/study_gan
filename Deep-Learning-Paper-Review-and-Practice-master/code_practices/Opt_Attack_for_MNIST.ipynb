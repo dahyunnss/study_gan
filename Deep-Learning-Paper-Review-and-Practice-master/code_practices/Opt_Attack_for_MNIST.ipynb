{
  "nbformat": 4,
  "nbformat_minor": 0,
  "metadata": {
    "colab": {
      "name": "Opt Attack for MNIST",
      "provenance": [],
      "collapsed_sections": [],
      "include_colab_link": true
    },
    "kernelspec": {
      "name": "python3",
      "display_name": "Python 3"
    },
    "language_info": {
      "name": "python"
    },
    "accelerator": "GPU"
  },
  "cells": [
    {
      "cell_type": "markdown",
      "metadata": {
        "id": "view-in-github",
        "colab_type": "text"
      },
      "source": [
        "<a href=\"https://colab.research.google.com/github/ndb796/Deep-Learning-Paper-Review-and-Practice/blob/master/code_practices/Opt_Attack_for_MNIST.ipynb\" target=\"_parent\"><img src=\"https://colab.research.google.com/assets/colab-badge.svg\" alt=\"Open In Colab\"/></a>"
      ]
    },
    {
      "cell_type": "markdown",
      "metadata": {
        "id": "OrPgZRyVo_dJ"
      },
      "source": [
        "#### <b>Load Required Libraries</b>"
      ]
    },
    {
      "cell_type": "code",
      "metadata": {
        "colab": {
          "base_uri": "https://localhost:8080/"
        },
        "id": "3NN3tJgCjttX",
        "outputId": "17fce51d-09d2-4885-ed53-ad6c3599e173"
      },
      "source": [
        "!git clone https://github.com/ndb796/attackbox"
      ],
      "execution_count": null,
      "outputs": [
        {
          "output_type": "stream",
          "text": [
            "Cloning into 'attackbox'...\n",
            "remote: Enumerating objects: 594, done.\u001b[K\n",
            "remote: Counting objects: 100% (19/19), done.\u001b[K\n",
            "remote: Compressing objects: 100% (13/13), done.\u001b[K\n",
            "remote: Total 594 (delta 7), reused 14 (delta 6), pack-reused 575\u001b[K\n",
            "Receiving objects: 100% (594/594), 74.55 MiB | 29.25 MiB/s, done.\n",
            "Resolving deltas: 100% (298/298), done.\n",
            "Checking out files: 100% (191/191), done.\n"
          ],
          "name": "stdout"
        }
      ]
    },
    {
      "cell_type": "code",
      "metadata": {
        "id": "orvMQ3aUpNQl"
      },
      "source": [
        "import torch\n",
        "import torch.nn as nn\n",
        "from torch.autograd import Variable\n",
        "import torchvision\n",
        "\n",
        "import numpy as np\n",
        "from numpy import linalg as LA\n",
        "import matplotlib.pyplot as plt\n",
        "\n",
        "import os\n",
        "import time\n",
        "import shutil"
      ],
      "execution_count": null,
      "outputs": []
    },
    {
      "cell_type": "markdown",
      "metadata": {
        "id": "8_8c9VyHpYxN"
      },
      "source": [
        "#### <b>Load Dataset</b>"
      ]
    },
    {
      "cell_type": "code",
      "metadata": {
        "id": "E0pIjQB-pEeA"
      },
      "source": [
        "def load_model(model, filename):\n",
        "    \"\"\" Load the training model \"\"\"\n",
        "    model.load_state_dict(torch.load(filename))\n",
        "\n",
        "\n",
        "def load_mnist_data(batch_size=1):\n",
        "    \"\"\" Load MNIST data from torchvision.datasets \n",
        "        input: None\n",
        "        output: minibatches of train and test sets \n",
        "    \"\"\"\n",
        "    # MNIST Dataset\n",
        "    train_dataset = torchvision.datasets.MNIST(root='./data/mnist', train=True, transform=torchvision.transforms.ToTensor(), download=True)\n",
        "    test_dataset = torchvision.datasets.MNIST(root='./data/mnist', train=False, transform=torchvision.transforms.ToTensor())\n",
        "\n",
        "    # Data Loader (Input Pipeline)\n",
        "    train_loader = torch.utils.data.DataLoader(dataset=train_dataset, batch_size=batch_size, shuffle=False)\n",
        "    test_loader = torch.utils.data.DataLoader(dataset=test_dataset, batch_size=batch_size, shuffle=False)\n",
        "\n",
        "    return train_loader, test_loader, train_dataset, test_dataset\n",
        "\n",
        "\n",
        "test_batch_size = 1\n",
        "train_loader, test_loader, train_dataset, test_dataset = load_mnist_data(test_batch_size)"
      ],
      "execution_count": null,
      "outputs": []
    },
    {
      "cell_type": "markdown",
      "metadata": {
        "id": "qIuRnHrPpO7c"
      },
      "source": [
        "#### <b>Load Pre-trained Classification Model</b>"
      ]
    },
    {
      "cell_type": "code",
      "metadata": {
        "colab": {
          "base_uri": "https://localhost:8080/"
        },
        "id": "DAVI9BjCpJ7t",
        "outputId": "07135fe8-494a-43f7-e2dc-dc9d804a466a"
      },
      "source": [
        "class BasicCNN(nn.Module):\n",
        "    def __init__(self):\n",
        "        super(BasicCNN, self).__init__()        \n",
        "        self.main = nn.Sequential(\n",
        "            nn.Conv2d(1, 20, kernel_size=5),\n",
        "            nn.ReLU(),\n",
        "            nn.MaxPool2d(2, stride=2),\n",
        "            nn.Conv2d(20, 50, kernel_size=5),\n",
        "            nn.ReLU(),\n",
        "            nn.MaxPool2d(2, stride=2))\n",
        "        self.fc = nn.Sequential(\n",
        "            nn.Linear(4*4*50, 500),    \n",
        "            nn.ReLU(),            \n",
        "            nn.Linear(500, 10))\n",
        "    def forward(self, x):\n",
        "        x = self.main(x)\n",
        "        x = x.view(-1, 4*4*50)\n",
        "        x = self.fc(x)\n",
        "        return x\n",
        "\n",
        "\n",
        "model_dir = 'attackbox/model/m_cnn'\n",
        "net = BasicCNN()\n",
        "load_model(net, model_dir)\n",
        "net = torch.nn.DataParallel(net, device_ids=[0])\n",
        "net.cuda()\n",
        "net.eval()"
      ],
      "execution_count": null,
      "outputs": [
        {
          "output_type": "execute_result",
          "data": {
            "text/plain": [
              "DataParallel(\n",
              "  (module): BasicCNN(\n",
              "    (main): Sequential(\n",
              "      (0): Conv2d(1, 20, kernel_size=(5, 5), stride=(1, 1))\n",
              "      (1): ReLU()\n",
              "      (2): MaxPool2d(kernel_size=2, stride=2, padding=0, dilation=1, ceil_mode=False)\n",
              "      (3): Conv2d(20, 50, kernel_size=(5, 5), stride=(1, 1))\n",
              "      (4): ReLU()\n",
              "      (5): MaxPool2d(kernel_size=2, stride=2, padding=0, dilation=1, ceil_mode=False)\n",
              "    )\n",
              "    (fc): Sequential(\n",
              "      (0): Linear(in_features=800, out_features=500, bias=True)\n",
              "      (1): ReLU()\n",
              "      (2): Linear(in_features=500, out_features=10, bias=True)\n",
              "    )\n",
              "  )\n",
              ")"
            ]
          },
          "metadata": {
            "tags": []
          },
          "execution_count": 41
        }
      ]
    },
    {
      "cell_type": "code",
      "metadata": {
        "id": "kLnrkPAbp2Ec"
      },
      "source": [
        "class PytorchModel(object):\n",
        "    def __init__(self,model, bounds, num_classes):\n",
        "        self.model = model\n",
        "        self.model.eval()\n",
        "        self.bounds = bounds\n",
        "        self.num_classes = num_classes\n",
        "        self.num_queries = 0\n",
        "\n",
        "    def predict(self,image):\n",
        "        image = torch.clamp(image,self.bounds[0],self.bounds[1]).cuda()\n",
        "        if len(image.size())!=4:\n",
        "            image = image.unsqueeze(0)\n",
        "        output = self.model(image)\n",
        "        self.num_queries += 1\n",
        "        return output\n",
        " \n",
        "    def predict_prob(self,image):\n",
        "        with torch.no_grad():\n",
        "            image = torch.clamp(image,self.bounds[0],self.bounds[1]).cuda()\n",
        "            if len(image.size())!=4:\n",
        "                image = image.unsqueeze(0)\n",
        "            output = self.model(image)\n",
        "            self.num_queries += image.size(0)\n",
        "        return output\n",
        "\n",
        "    def predict_label(self, image, batch=False):\n",
        "        if isinstance(image, np.ndarray):\n",
        "            image = torch.from_numpy(image).type(torch.FloatTensor)\n",
        "        image = torch.clamp(image,self.bounds[0],self.bounds[1]).cuda()\n",
        "        if len(image.size())!=4:\n",
        "            image = image.unsqueeze(0)\n",
        "        with torch.no_grad():\n",
        "            output = self.model(image)\n",
        "            self.num_queries += image.size(0)\n",
        "        _, predict = torch.max(output.data, 1)\n",
        "        if batch:\n",
        "            return predict\n",
        "        else:\n",
        "            return predict[0]\n",
        "\n",
        "    def predict_ensemble(self, image):\n",
        "        if isinstance(image, np.ndarray):\n",
        "            image = torch.from_numpy(image).type(torch.FloatTensor)\n",
        "        image = torch.clamp(image,self.bounds[0],self.bounds[1]).cuda()\n",
        "        if len(image.size())!=4:\n",
        "            image = image.unsqueeze(0)\n",
        "        with torch.no_grad():\n",
        "            output = self.model(image)\n",
        "            output.zero_()\n",
        "            for i in range(10):\n",
        "                output += self.model(image)\n",
        "                self.num_queries += image.size(0)\n",
        "\n",
        "        _, predict = torch.max(output.data, 1)\n",
        "\n",
        "        return predict[0]\n",
        "\n",
        "    def get_num_queries(self):\n",
        "        return self.num_queries\n",
        "\n",
        "    def get_gradient(self,loss):\n",
        "        loss.backward()"
      ],
      "execution_count": null,
      "outputs": []
    },
    {
      "cell_type": "markdown",
      "metadata": {
        "id": "D8gtuAehpsSu"
      },
      "source": [
        "#### <b>Adversarial Attack</b>"
      ]
    },
    {
      "cell_type": "code",
      "metadata": {
        "id": "5-rNUNmBl2mI"
      },
      "source": [
        "MAX_ITER = 1000\n",
        "\n",
        "\n",
        "class OPT_attack(object):\n",
        "    def __init__(self, model):\n",
        "        self.model = model\n",
        "        self.log = torch.ones(MAX_ITER, 2)\n",
        "\n",
        "    def get_log(self):\n",
        "        return self.log\n",
        "\n",
        "    def attack_untargeted(self, x0, y0, alpha=0.2, beta=0.001, iterations=1500, query_limit=80000):\n",
        "        \"\"\" Attack the original image and return adversarial example\n",
        "            model: (pytorch model)\n",
        "            train_dataset: set of training data\n",
        "            (x0, y0): original image\n",
        "        \"\"\"\n",
        "        model = self.model\n",
        "        if type(x0) is torch.Tensor:\n",
        "            x0 = x0.cpu().numpy()\n",
        "        if type(y0) is torch.Tensor:\n",
        "            y0 = y0.item()\n",
        "        if (model.predict_label(x0) != y0):\n",
        "            print(\"Fail to classify the image. No need to attack.\")\n",
        "            return torch.tensor(x0).cuda()\n",
        "\n",
        "        # 공격을 위한 초기 방향(initial direction) theta 찾기 / g_theta: 거리(짧을수록 좋음)\n",
        "        num_directions = 100\n",
        "        best_theta, g_theta = None, float('inf')\n",
        "        query_count = 0\n",
        "        print(\"Searching for the initial direction on %d random directions: \" % (num_directions))\n",
        "        np.random.seed(args.seed)\n",
        "        timestart = time.time()\n",
        "        for i in range(num_directions):\n",
        "            query_count += 1\n",
        "            theta = np.random.randn(*x0.shape) # 랜덤 theta 샘플링\n",
        "            if model.predict_label(x0 + theta) != y0:\n",
        "                initial_lbd = LA.norm(theta)\n",
        "                theta /= initial_lbd # 단위 방향 벡터\n",
        "                lbd, count = self.fine_grained_binary_search(model, x0, y0, theta, initial_lbd, g_theta)\n",
        "                query_count += count\n",
        "                if lbd < g_theta: # 더 짧은 거리(g_theta)를 찾았다면\n",
        "                    best_theta, g_theta = theta, lbd\n",
        "                    print(\"--------> Found distortion %.4f\" % g_theta)\n",
        "        if g_theta == float('inf'): # 만약 적절한 theta를 찾지 못했다면 500회 더 반복\n",
        "            num_directions = 500\n",
        "            best_theta, g_theta = None, float('inf')\n",
        "            print(\"Searching for the initial direction on %d random directions: \" % (num_directions))\n",
        "            timestart = time.time()\n",
        "            for i in range(num_directions):\n",
        "                query_count += 1\n",
        "                theta = np.random.randn(*x0.shape) # 랜덤 theta 샘플링\n",
        "                if model.predict_label(x0 + theta) != y0:\n",
        "                    initial_lbd = LA.norm(theta)\n",
        "                    theta /= initial_lbd # 단위 방향 벡터\n",
        "                    lbd, count = self.fine_grained_binary_search(model, x0, y0, theta, initial_lbd, g_theta)\n",
        "                    query_count += count\n",
        "                    if lbd < g_theta: # 더 짧은 거리(g_theta)를 찾았다면\n",
        "                        best_theta, g_theta = theta, lbd\n",
        "                        print(\"--------> Found distortion %.4f\" % g_theta)\n",
        "\n",
        "        if g_theta == float('inf'):    \n",
        "            print(\"Couldn't find valid initial, failed\")\n",
        "            return torch.tensor(x0).cuda()\n",
        "        timeend = time.time()\n",
        "        print(\"==========> Found best distortion %.4f in %.4f seconds using %d queries\" % (g_theta, timeend - timestart, query_count))    \n",
        "        self.log[0][0], self.log[0][1] = g_theta, query_count\n",
        "\n",
        "        # 반복적으로 theta를 업데이트하며 공격 수행\n",
        "        timestart = time.time()\n",
        "        g1 = 1.0\n",
        "        theta, g2 = best_theta, g_theta\n",
        "        opt_count = 0\n",
        "        stopping = 0.01\n",
        "        prev_obj = 100000\n",
        "        for i in range(iterations):\n",
        "            # theta의 기울기(gradient) 예측\n",
        "            gradient = np.zeros(theta.shape)\n",
        "            q = 10\n",
        "            min_g1 = float('inf')\n",
        "            for _ in range(q):\n",
        "                u = np.random.randn(*theta.shape)\n",
        "                u /= LA.norm(u)\n",
        "                ttt = theta+beta * u\n",
        "                ttt /= LA.norm(ttt)\n",
        "                g1, count = self.fine_grained_binary_search_local(model, x0, y0, ttt, initial_lbd = g2, tol=beta/500)\n",
        "                opt_count += count\n",
        "                gradient += (g1 - g2) / beta * u # 기울기 구하기\n",
        "                if g1 < min_g1:\n",
        "                    min_g1 = g1\n",
        "                    min_ttt = ttt\n",
        "            gradient = 1.0 / q * gradient\n",
        "\n",
        "            # 쿼리 한도(query limit)를 초과했다면 종료\n",
        "            if opt_count > query_limit:\n",
        "                break\n",
        "\n",
        "            # 공격이 진행되는 상황에서 로깅(logging)\n",
        "            if (i + 1) % 10 == 0:\n",
        "                print(\"Iteration %3d distortion %.4f num_queries %d\" % (i + 1, LA.norm(g2 * theta), opt_count))\n",
        "                prev_obj = g2\n",
        "            self.log[i+1][0], self.log[i+1][1] = g2, opt_count + query_count\n",
        "\n",
        "            if (i + 1) % 100 == 0:\n",
        "                # 화면에 이미지 출력하기\n",
        "                img = torch.tensor(x0 + g2 * theta, dtype=torch.float) # [batch_size, 1, H, W]\n",
        "                img = torch.clamp(img, min=0, max=1).squeeze(0) # [1, H, W]\n",
        "                img = torchvision.transforms.ToPILImage()(img)\n",
        "                plt.imshow(img, cmap='gray') # for grayscale\n",
        "                plt.show()\n",
        "\n",
        "            # 예측된 기울기를 이용하여 theta를 업데이트할 것임\n",
        "            min_theta = theta\n",
        "            min_g2 = g2\n",
        "\n",
        "            for _ in range(15): # 예측된 기울기를 이용해 alpha만큼 업데이트했을 때 거리(g_2)가 줄어드는지 확인하여 기록\n",
        "                new_theta = theta - alpha * gradient\n",
        "                new_theta /= LA.norm(new_theta)\n",
        "                new_g2, count = self.fine_grained_binary_search_local(model, x0, y0, new_theta, initial_lbd = min_g2, tol=beta/500)\n",
        "                opt_count += count\n",
        "                alpha = alpha * 2\n",
        "                if new_g2 < min_g2:\n",
        "                    min_theta = new_theta \n",
        "                    min_g2 = new_g2\n",
        "                else:\n",
        "                    break\n",
        "\n",
        "            if min_g2 >= g2: # 필요하다면 alpha를 조금 더 줄여서 거리(g_2)가 줄어드는지 다시 확인하여 기록\n",
        "                for _ in range(15):\n",
        "                    alpha = alpha * 0.25\n",
        "                    new_theta = theta - alpha * gradient\n",
        "                    new_theta /= LA.norm(new_theta)\n",
        "                    new_g2, count = self.fine_grained_binary_search_local(model, x0, y0, new_theta, initial_lbd = min_g2, tol=beta/500)\n",
        "                    opt_count += count\n",
        "                    if new_g2 < g2:\n",
        "                        min_theta = new_theta \n",
        "                        min_g2 = new_g2\n",
        "                        break\n",
        "\n",
        "            # 결과적으로 theta(방향)와 g_theta(거리) 정보를 업데이트\n",
        "            if min_g2 <= min_g1:\n",
        "                theta, g2 = min_theta, min_g2\n",
        "            else:\n",
        "                theta, g2 = min_ttt, min_g1\n",
        "\n",
        "            if g2 < g_theta:\n",
        "                best_theta, g_theta = theta, g2\n",
        "\n",
        "            if alpha < 1e-4:\n",
        "                alpha = 1.0\n",
        "                print(\"Warning: not moving, g2 %lf gtheta %lf\" % (g2, g_theta))\n",
        "                beta = beta * 0.1\n",
        "                if (beta < 1e-8):\n",
        "                   break\n",
        "\n",
        "        target = model.predict_label(x0 + g_theta * best_theta)\n",
        "        timeend = time.time()\n",
        "        print(\"\\nAdversarial Example Found Successfully: distortion %.4f target %d queries %d \\nTime: %.4f seconds\" % (g_theta, target, query_count + opt_count, timeend-timestart))\n",
        "\n",
        "        self.log[i+1:,0] = g_theta\n",
        "        self.log[i+1:,1] = opt_count + query_count\n",
        "        return torch.tensor(x0 + g_theta * best_theta, dtype=torch.float).cuda()\n",
        "\n",
        "    # theta를 업데이트할 때 사용\n",
        "    def fine_grained_binary_search_local(self, model, x0, y0, theta, initial_lbd=1.0, tol=1e-5):\n",
        "        nquery = 0\n",
        "        lbd = initial_lbd\n",
        "\n",
        "        if model.predict_label(x0 + lbd * theta) == y0:\n",
        "            lbd_lo = lbd\n",
        "            lbd_hi = lbd * 1.01\n",
        "            nquery += 1\n",
        "            while model.predict_label(x0 + lbd_hi * theta) == y0:\n",
        "                lbd_hi = lbd_hi * 1.01\n",
        "                nquery += 1\n",
        "                if lbd_hi > 20:\n",
        "                    return float('inf'), nquery\n",
        "        else:\n",
        "            lbd_hi = lbd\n",
        "            lbd_lo = lbd * 0.99\n",
        "            nquery += 1\n",
        "            while model.predict_label(x0 + lbd_lo * theta) != y0 :\n",
        "                lbd_lo = lbd_lo * 0.99\n",
        "                nquery += 1\n",
        "\n",
        "        while (lbd_hi - lbd_lo) > tol:\n",
        "            lbd_mid = (lbd_lo + lbd_hi) / 2.0\n",
        "            nquery += 1\n",
        "            if model.predict_label(x0 + lbd_mid * theta) != y0:\n",
        "                lbd_hi = lbd_mid\n",
        "            else:\n",
        "                lbd_lo = lbd_mid\n",
        "        return lbd_hi, nquery\n",
        "\n",
        "    # 처음에 initial theta를 찾을 때 사용\n",
        "    def fine_grained_binary_search(self, model, x0, y0, theta, initial_lbd, current_best):\n",
        "        nquery = 0\n",
        "        if initial_lbd > current_best: \n",
        "            if model.predict_label(x0 + current_best * theta) == y0:\n",
        "                nquery += 1\n",
        "                return float('inf'), nquery\n",
        "            lbd = current_best\n",
        "        else:\n",
        "            lbd = initial_lbd\n",
        "\n",
        "        lbd_hi = lbd\n",
        "        lbd_lo = 0.0\n",
        "\n",
        "        while (lbd_hi - lbd_lo) > 1e-5:\n",
        "            lbd_mid = (lbd_lo + lbd_hi) / 2.0\n",
        "            nquery += 1\n",
        "            if model.predict_label(x0 + lbd_mid * theta) != y0:\n",
        "                lbd_hi = lbd_mid\n",
        "            else:\n",
        "                lbd_lo = lbd_mid\n",
        "        return lbd_hi, nquery\n",
        "\n",
        "    def __call__(self, input_xi, label_or_target, TARGETED=False, epsilon=None):\n",
        "        if TARGETED:\n",
        "            print(\"Not Implemented.\")\n",
        "        else:\n",
        "            adv = self.attack_untargeted(input_xi, label_or_target)\n",
        "        return adv"
      ],
      "execution_count": null,
      "outputs": []
    },
    {
      "cell_type": "code",
      "metadata": {
        "id": "ytpMQL5stsQD"
      },
      "source": [
        "# 단순히 p-norm 거리(distance) 계산\n",
        "def distance(x_adv, x, norm='l2'):\n",
        "    diff = (x_adv - x).view(x.size(0), -1)\n",
        "    if norm == 'l2':\n",
        "        out = torch.sqrt(torch.sum(diff * diff)).item()\n",
        "        return out\n",
        "    elif norm == 'linf':\n",
        "        out = torch.sum(torch.max(torch.abs(diff), 1)[0]).item()\n",
        "        return out"
      ],
      "execution_count": null,
      "outputs": []
    },
    {
      "cell_type": "code",
      "metadata": {
        "id": "ksIwqNi9hrEs"
      },
      "source": [
        "from types import SimpleNamespace\n",
        "\n",
        "args = SimpleNamespace()\n",
        "\n",
        "args.attack = 'OPT_attack' # Attack to be used.\n",
        "args.targeted = False # Targeted attack.\n",
        "args.random_start = False # PGD attack with random start.\n",
        "args.epsilon = 1.0\n",
        "args.seed = 123\n",
        "args.norm = 'l2'\n",
        "args.test_batch = 10 # The number of test batch."
      ],
      "execution_count": null,
      "outputs": []
    },
    {
      "cell_type": "code",
      "metadata": {
        "colab": {
          "base_uri": "https://localhost:8080/",
          "height": 1000
        },
        "id": "Ftqcu-xFmF-i",
        "outputId": "e2735636-b8b0-4728-d22b-f616eb302aa9"
      },
      "source": [
        "amodel = PytorchModel(net, bounds=[0, 1], num_classes=10)\n",
        "attack = OPT_attack(amodel)\n",
        "\n",
        "total_r_count = 0\n",
        "total_clean_count = 0\n",
        "total_distance = 0\n",
        "\n",
        "for i, (xi, yi) in enumerate(test_loader):\n",
        "    print(f\"image batch: {i}\")\n",
        "    if i == args.test_batch:\n",
        "        break\n",
        "\n",
        "    xi, yi = xi.cuda(), yi.cuda()\n",
        "    adv = attack(xi, yi, epsilon=args.epsilon, TARGETED=args.targeted)\n",
        "\n",
        "    # 결과 출력(l_2 distortion이 충분히 감소했을 때 성공)\n",
        "    img = torchvision.transforms.ToPILImage()(torch.clamp(adv, min=0, max=1).squeeze(0))\n",
        "    plt.imshow(img, cmap='gray') # for grayscale\n",
        "    plt.show()\n",
        "\n",
        "    if args.targeted == False:\n",
        "        r_count = (torch.max(amodel.predict(adv), 1)[1] == yi).nonzero().shape[0]\n",
        "        clean_count = (torch.max(amodel.predict(xi), 1)[1] == yi).nonzero().shape[0]\n",
        "        total_r_count += r_count\n",
        "        total_clean_count += clean_count\n",
        "        total_distance += distance(adv, xi, norm=args.norm)\n",
        "\n",
        "    if i == 0:\n",
        "        logs = torch.zeros(attack.get_log().size())\n",
        "    logs += attack.get_log()\n",
        "\n",
        "logs /= args.test_batch\n",
        "print(\"saving logs to numpy array\")\n",
        "npy_file = \"log.npy\"\n",
        "np.save(npy_file,logs.numpy())\n",
        "\n",
        "plot_log = np.load(npy_file)\n",
        "plt.plot(plot_log[:,1], plot_log[:,0])\n",
        "plt.ylabel('Distortion')\n",
        "plt.xlabel('Num of queries')\n",
        "plt.show()"
      ],
      "execution_count": null,
      "outputs": [
        {
          "output_type": "stream",
          "text": [
            "image batch: 0\n",
            "Searching for the initial direction on 100 random directions: \n",
            "--------> Found distortion 21.6926\n",
            "--------> Found distortion 15.7801\n",
            "--------> Found distortion 12.9252\n",
            "==========> Found best distortion 12.9252 in 0.1781 seconds using 255 queries\n",
            "Iteration  10 distortion 6.5614 num_queries 2357\n",
            "Iteration  20 distortion 4.5230 num_queries 4498\n",
            "Iteration  30 distortion 3.7154 num_queries 6640\n",
            "Iteration  40 distortion 3.1540 num_queries 8734\n",
            "Iteration  50 distortion 2.8883 num_queries 10664\n",
            "Iteration  60 distortion 2.7302 num_queries 12589\n",
            "Iteration  70 distortion 2.6171 num_queries 14545\n",
            "Iteration  80 distortion 2.4914 num_queries 16400\n",
            "Iteration  90 distortion 2.4219 num_queries 18286\n",
            "Iteration 100 distortion 2.3339 num_queries 20214\n"
          ],
          "name": "stdout"
        },
        {
          "output_type": "display_data",
          "data": {
            "image/png": "[encoded data removed]",
            "text/plain": [
              "<Figure size 432x288 with 1 Axes>"
            ]
          },
          "metadata": {
            "tags": [],
            "needs_background": "light"
          }
        },
        {
          "output_type": "stream",
          "text": [
            "Iteration 110 distortion 2.2563 num_queries 22087\n",
            "Iteration 120 distortion 2.1904 num_queries 23963\n",
            "Iteration 130 distortion 2.1423 num_queries 25861\n",
            "Iteration 140 distortion 2.0967 num_queries 27719\n",
            "Iteration 150 distortion 2.0606 num_queries 29650\n",
            "Iteration 160 distortion 2.0340 num_queries 31528\n",
            "Iteration 170 distortion 2.0167 num_queries 33413\n",
            "Iteration 180 distortion 2.0002 num_queries 35330\n",
            "Iteration 190 distortion 1.9770 num_queries 37205\n",
            "Iteration 200 distortion 1.9600 num_queries 39090\n"
          ],
          "name": "stdout"
        },
        {
          "output_type": "display_data",
          "data": {
            "image/png": "[encoded data removed]",
            "text/plain": [
              "<Figure size 432x288 with 1 Axes>"
            ]
          },
          "metadata": {
            "tags": [],
            "needs_background": "light"
          }
        },
        {
          "output_type": "stream",
          "text": [
            "Iteration 210 distortion 1.9393 num_queries 41015\n",
            "Iteration 220 distortion 1.9253 num_queries 42854\n",
            "Iteration 230 distortion 1.9104 num_queries 44696\n",
            "Iteration 240 distortion 1.9008 num_queries 46547\n",
            "Iteration 250 distortion 1.8883 num_queries 48458\n",
            "Iteration 260 distortion 1.8804 num_queries 50323\n",
            "Iteration 270 distortion 1.8702 num_queries 52213\n",
            "Iteration 280 distortion 1.8611 num_queries 54061\n",
            "Iteration 290 distortion 1.8529 num_queries 55941\n",
            "Iteration 300 distortion 1.8444 num_queries 57861\n"
          ],
          "name": "stdout"
        },
        {
          "output_type": "display_data",
          "data": {
            "image/png": "[encoded data removed]",
            "text/plain": [
              "<Figure size 432x288 with 1 Axes>"
            ]
          },
          "metadata": {
            "tags": [],
            "needs_background": "light"
          }
        },
        {
          "output_type": "stream",
          "text": [
            "Iteration 310 distortion 1.8392 num_queries 59721\n",
            "Iteration 320 distortion 1.8353 num_queries 61581\n",
            "Iteration 330 distortion 1.8307 num_queries 63491\n",
            "Iteration 340 distortion 1.8243 num_queries 65443\n",
            "Iteration 350 distortion 1.8187 num_queries 67318\n",
            "Iteration 360 distortion 1.8142 num_queries 69266\n",
            "Iteration 370 distortion 1.8098 num_queries 71261\n",
            "Iteration 380 distortion 1.8056 num_queries 73196\n",
            "Warning: not moving, g2 1.804643 gtheta 1.804643\n",
            "Warning: not moving, g2 1.804593 gtheta 1.804593\n",
            "Warning: not moving, g2 1.804585 gtheta 1.804585\n",
            "Iteration 390 distortion 1.8044 num_queries 76577\n",
            "Warning: not moving, g2 1.804448 gtheta 1.804448\n",
            "Warning: not moving, g2 1.804429 gtheta 1.804429\n",
            "Warning: not moving, g2 1.804429 gtheta 1.804429\n",
            "\n",
            "Adversarial Example Found Successfully: distortion 1.8044 target 3 queries 80172 \n",
            "Time: 55.8117 seconds\n"
          ],
          "name": "stdout"
        },
        {
          "output_type": "display_data",
          "data": {
            "image/png": "[encoded data removed]",
            "text/plain": [
              "<Figure size 432x288 with 1 Axes>"
            ]
          },
          "metadata": {
            "tags": [],
            "needs_background": "light"
          }
        },
        {
          "output_type": "stream",
          "text": [
            "image batch: 1\n",
            "Searching for the initial direction on 100 random directions: \n",
            "--------> Found distortion 20.2277\n",
            "--------> Found distortion 19.2837\n",
            "--------> Found distortion 18.1427\n",
            "--------> Found distortion 15.4665\n",
            "--------> Found distortion 14.8374\n",
            "--------> Found distortion 14.3282\n",
            "==========> Found best distortion 14.3282 in 0.2209 seconds using 301 queries\n",
            "Iteration  10 distortion 8.0117 num_queries 2257\n",
            "Iteration  20 distortion 6.3727 num_queries 4465\n",
            "Iteration  30 distortion 5.4464 num_queries 6627\n",
            "Iteration  40 distortion 5.0552 num_queries 8629\n",
            "Iteration  50 distortion 4.6529 num_queries 10668\n",
            "Iteration  60 distortion 4.3012 num_queries 12690\n",
            "Iteration  70 distortion 4.0992 num_queries 14683\n",
            "Iteration  80 distortion 3.9484 num_queries 16714\n",
            "Iteration  90 distortion 3.8415 num_queries 18801\n",
            "Iteration 100 distortion 3.7545 num_queries 20765\n"
          ],
          "name": "stdout"
        },
        {
          "output_type": "display_data",
          "data": {
            "image/png": "[encoded data removed]",
            "text/plain": [
              "<Figure size 432x288 with 1 Axes>"
            ]
          },
          "metadata": {
            "tags": [],
            "needs_background": "light"
          }
        },
        {
          "output_type": "stream",
          "text": [
            "Iteration 110 distortion 3.5999 num_queries 22772\n",
            "Iteration 120 distortion 3.5066 num_queries 24775\n",
            "Iteration 130 distortion 3.4393 num_queries 26755\n",
            "Iteration 140 distortion 3.3914 num_queries 28778\n",
            "Iteration 150 distortion 3.3420 num_queries 30724\n",
            "Iteration 160 distortion 3.2745 num_queries 32702\n",
            "Iteration 170 distortion 3.2387 num_queries 34605\n",
            "Iteration 180 distortion 3.1933 num_queries 36491\n",
            "Iteration 190 distortion 3.1603 num_queries 38313\n",
            "Iteration 200 distortion 3.1253 num_queries 40206\n"
          ],
          "name": "stdout"
        },
        {
          "output_type": "display_data",
          "data": {
            "image/png": "[encoded data removed]",
            "text/plain": [
              "<Figure size 432x288 with 1 Axes>"
            ]
          },
          "metadata": {
            "tags": [],
            "needs_background": "light"
          }
        },
        {
          "output_type": "stream",
          "text": [
            "Iteration 210 distortion 3.0983 num_queries 42077\n",
            "Iteration 220 distortion 3.0676 num_queries 43922\n",
            "Iteration 230 distortion 3.0381 num_queries 45820\n",
            "Iteration 240 distortion 3.0092 num_queries 47697\n",
            "Warning: not moving, g2 2.994199 gtheta 2.994199\n",
            "Warning: not moving, g2 2.992342 gtheta 2.992342\n",
            "Warning: not moving, g2 2.992333 gtheta 2.992333\n",
            "Warning: not moving, g2 2.992326 gtheta 2.992326\n",
            "Warning: not moving, g2 2.991897 gtheta 2.991897\n",
            "Iteration 250 distortion 2.9919 num_queries 52735\n",
            "Warning: not moving, g2 2.991888 gtheta 2.991888\n",
            "\n",
            "Adversarial Example Found Successfully: distortion 2.9919 target 8 queries 54557 \n",
            "Time: 37.9156 seconds\n"
          ],
          "name": "stdout"
        },
        {
          "output_type": "display_data",
          "data": {
            "image/png": "[encoded data removed]",
            "text/plain": [
              "<Figure size 432x288 with 1 Axes>"
            ]
          },
          "metadata": {
            "tags": [],
            "needs_background": "light"
          }
        },
        {
          "output_type": "stream",
          "text": [
            "image batch: 2\n",
            "Searching for the initial direction on 100 random directions: \n",
            "--------> Found distortion 11.0326\n",
            "--------> Found distortion 9.4533\n",
            "--------> Found distortion 8.1595\n",
            "--------> Found distortion 7.3981\n",
            "--------> Found distortion 7.1213\n",
            "==========> Found best distortion 7.1213 in 0.2130 seconds using 298 queries\n",
            "Iteration  10 distortion 4.1717 num_queries 2167\n",
            "Iteration  20 distortion 3.1347 num_queries 4198\n",
            "Iteration  30 distortion 2.7153 num_queries 6204\n",
            "Iteration  40 distortion 2.4456 num_queries 8186\n",
            "Iteration  50 distortion 2.2099 num_queries 10172\n",
            "Iteration  60 distortion 2.0605 num_queries 12074\n",
            "Iteration  70 distortion 1.9230 num_queries 13995\n",
            "Iteration  80 distortion 1.8426 num_queries 15867\n",
            "Iteration  90 distortion 1.7795 num_queries 17754\n",
            "Iteration 100 distortion 1.7043 num_queries 19687\n"
          ],
          "name": "stdout"
        },
        {
          "output_type": "display_data",
          "data": {
            "image/png": "[encoded data removed]",
            "text/plain": [
              "<Figure size 432x288 with 1 Axes>"
            ]
          },
          "metadata": {
            "tags": [],
            "needs_background": "light"
          }
        },
        {
          "output_type": "stream",
          "text": [
            "Iteration 110 distortion 1.6644 num_queries 21535\n",
            "Iteration 120 distortion 1.6168 num_queries 23436\n",
            "Iteration 130 distortion 1.5839 num_queries 25205\n",
            "Iteration 140 distortion 1.5513 num_queries 26962\n",
            "Iteration 150 distortion 1.5200 num_queries 28755\n",
            "Iteration 160 distortion 1.5009 num_queries 30504\n",
            "Iteration 170 distortion 1.4834 num_queries 32238\n",
            "Iteration 180 distortion 1.4665 num_queries 33986\n",
            "Iteration 190 distortion 1.4580 num_queries 35718\n",
            "Iteration 200 distortion 1.4455 num_queries 37460\n"
          ],
          "name": "stdout"
        },
        {
          "output_type": "display_data",
          "data": {
            "image/png": "[encoded data removed]",
            "text/plain": [
              "<Figure size 432x288 with 1 Axes>"
            ]
          },
          "metadata": {
            "tags": [],
            "needs_background": "light"
          }
        },
        {
          "output_type": "stream",
          "text": [
            "Iteration 210 distortion 1.4318 num_queries 39218\n",
            "Iteration 220 distortion 1.4222 num_queries 40949\n",
            "Iteration 230 distortion 1.4134 num_queries 42699\n",
            "Iteration 240 distortion 1.4044 num_queries 44414\n",
            "Iteration 250 distortion 1.3971 num_queries 46143\n",
            "Iteration 260 distortion 1.3917 num_queries 47853\n",
            "Iteration 270 distortion 1.3824 num_queries 49563\n",
            "Iteration 280 distortion 1.3754 num_queries 51306\n",
            "Iteration 290 distortion 1.3696 num_queries 53046\n",
            "Iteration 300 distortion 1.3603 num_queries 54758\n"
          ],
          "name": "stdout"
        },
        {
          "output_type": "display_data",
          "data": {
            "image/png": "[encoded data removed]",
            "text/plain": [
              "<Figure size 432x288 with 1 Axes>"
            ]
          },
          "metadata": {
            "tags": [],
            "needs_background": "light"
          }
        },
        {
          "output_type": "stream",
          "text": [
            "Iteration 310 distortion 1.3547 num_queries 56482\n",
            "Iteration 320 distortion 1.3494 num_queries 58236\n",
            "Iteration 330 distortion 1.3455 num_queries 59972\n",
            "Iteration 340 distortion 1.3416 num_queries 61712\n",
            "Iteration 350 distortion 1.3376 num_queries 63408\n",
            "Warning: not moving, g2 1.335398 gtheta 1.335398\n",
            "Warning: not moving, g2 1.335396 gtheta 1.335396\n",
            "Warning: not moving, g2 1.335396 gtheta 1.335396\n",
            "Warning: not moving, g2 1.335396 gtheta 1.335396\n",
            "Iteration 360 distortion 1.3354 num_queries 66819\n",
            "Warning: not moving, g2 1.335396 gtheta 1.335396\n",
            "Warning: not moving, g2 1.335394 gtheta 1.335394\n",
            "\n",
            "Adversarial Example Found Successfully: distortion 1.3354 target 8 queries 69675 \n",
            "Time: 49.8736 seconds\n"
          ],
          "name": "stdout"
        },
        {
          "output_type": "display_data",
          "data": {
            "image/png": "[encoded data removed]",
            "text/plain": [
              "<Figure size 432x288 with 1 Axes>"
            ]
          },
          "metadata": {
            "tags": [],
            "needs_background": "light"
          }
        },
        {
          "output_type": "stream",
          "text": [
            "image batch: 3\n",
            "Searching for the initial direction on 100 random directions: \n",
            "--------> Found distortion 23.6498\n",
            "--------> Found distortion 20.7610\n",
            "--------> Found distortion 20.7439\n",
            "--------> Found distortion 17.3456\n",
            "==========> Found best distortion 17.3456 in 0.1623 seconds using 221 queries\n",
            "Iteration  10 distortion 9.3120 num_queries 2355\n",
            "Iteration  20 distortion 7.1715 num_queries 4629\n",
            "Iteration  30 distortion 5.4653 num_queries 6854\n",
            "Iteration  40 distortion 4.8085 num_queries 8988\n",
            "Iteration  50 distortion 4.4135 num_queries 11101\n",
            "Iteration  60 distortion 4.0934 num_queries 13186\n",
            "Iteration  70 distortion 3.8067 num_queries 15194\n",
            "Iteration  80 distortion 3.6572 num_queries 17180\n",
            "Iteration  90 distortion 3.4646 num_queries 19261\n",
            "Iteration 100 distortion 3.3341 num_queries 21284\n"
          ],
          "name": "stdout"
        },
        {
          "output_type": "display_data",
          "data": {
            "image/png": "[encoded data removed]",
            "text/plain": [
              "<Figure size 432x288 with 1 Axes>"
            ]
          },
          "metadata": {
            "tags": [],
            "needs_background": "light"
          }
        },
        {
          "output_type": "stream",
          "text": [
            "Iteration 110 distortion 3.2430 num_queries 23226\n",
            "Iteration 120 distortion 3.1915 num_queries 25115\n",
            "Iteration 130 distortion 3.1226 num_queries 26988\n",
            "Iteration 140 distortion 3.0539 num_queries 28884\n",
            "Iteration 150 distortion 2.9924 num_queries 30774\n",
            "Iteration 160 distortion 2.9570 num_queries 32651\n",
            "Iteration 170 distortion 2.9154 num_queries 34555\n",
            "Iteration 180 distortion 2.8836 num_queries 36393\n",
            "Iteration 190 distortion 2.8453 num_queries 38233\n",
            "Iteration 200 distortion 2.8207 num_queries 40091\n"
          ],
          "name": "stdout"
        },
        {
          "output_type": "display_data",
          "data": {
            "image/png": "[encoded data removed]",
            "text/plain": [
              "<Figure size 432x288 with 1 Axes>"
            ]
          },
          "metadata": {
            "tags": [],
            "needs_background": "light"
          }
        },
        {
          "output_type": "stream",
          "text": [
            "Iteration 210 distortion 2.8043 num_queries 41940\n",
            "Iteration 220 distortion 2.7745 num_queries 43776\n",
            "Iteration 230 distortion 2.7517 num_queries 45628\n",
            "Iteration 240 distortion 2.7358 num_queries 47492\n",
            "Iteration 250 distortion 2.7215 num_queries 49326\n",
            "Iteration 260 distortion 2.7041 num_queries 51195\n",
            "Iteration 270 distortion 2.6871 num_queries 53015\n",
            "Iteration 280 distortion 2.6741 num_queries 54883\n",
            "Iteration 290 distortion 2.6593 num_queries 56748\n",
            "Iteration 300 distortion 2.6501 num_queries 58683\n"
          ],
          "name": "stdout"
        },
        {
          "output_type": "display_data",
          "data": {
            "image/png": "[encoded data removed]",
            "text/plain": [
              "<Figure size 432x288 with 1 Axes>"
            ]
          },
          "metadata": {
            "tags": [],
            "needs_background": "light"
          }
        },
        {
          "output_type": "stream",
          "text": [
            "Iteration 310 distortion 2.6432 num_queries 60545\n",
            "Iteration 320 distortion 2.6333 num_queries 62454\n",
            "Iteration 330 distortion 2.6236 num_queries 64393\n",
            "Iteration 340 distortion 2.6142 num_queries 66255\n",
            "Warning: not moving, g2 2.607182 gtheta 2.607182\n",
            "Iteration 350 distortion 2.6072 num_queries 68370\n",
            "Warning: not moving, g2 2.606903 gtheta 2.606903\n",
            "Warning: not moving, g2 2.606076 gtheta 2.606076\n",
            "Warning: not moving, g2 2.606057 gtheta 2.606057\n",
            "Warning: not moving, g2 2.606057 gtheta 2.606057\n",
            "Warning: not moving, g2 2.606056 gtheta 2.606056\n",
            "\n",
            "Adversarial Example Found Successfully: distortion 2.6061 target 4 queries 74435 \n",
            "Time: 51.8625 seconds\n"
          ],
          "name": "stdout"
        },
        {
          "output_type": "display_data",
          "data": {
            "image/png": "[encoded data removed]",
            "text/plain": [
              "<Figure size 432x288 with 1 Axes>"
            ]
          },
          "metadata": {
            "tags": [],
            "needs_background": "light"
          }
        },
        {
          "output_type": "stream",
          "text": [
            "image batch: 4\n",
            "Searching for the initial direction on 100 random directions: \n",
            "--------> Found distortion 22.1668\n",
            "--------> Found distortion 18.3034\n",
            "--------> Found distortion 16.1457\n",
            "--------> Found distortion 15.0462\n",
            "--------> Found distortion 14.0748\n",
            "==========> Found best distortion 14.0748 in 0.1763 seconds using 256 queries\n",
            "Iteration  10 distortion 5.4833 num_queries 2467\n",
            "Iteration  20 distortion 3.7117 num_queries 4704\n",
            "Iteration  30 distortion 3.0331 num_queries 6807\n",
            "Iteration  40 distortion 2.6412 num_queries 8845\n",
            "Iteration  50 distortion 2.3391 num_queries 10805\n",
            "Iteration  60 distortion 2.1541 num_queries 12761\n",
            "Iteration  70 distortion 2.0816 num_queries 14674\n",
            "Iteration  80 distortion 1.9935 num_queries 16610\n",
            "Iteration  90 distortion 1.9405 num_queries 18597\n",
            "Iteration 100 distortion 1.8726 num_queries 20500\n"
          ],
          "name": "stdout"
        },
        {
          "output_type": "display_data",
          "data": {
            "image/png": "[encoded data removed]",
            "text/plain": [
              "<Figure size 432x288 with 1 Axes>"
            ]
          },
          "metadata": {
            "tags": [],
            "needs_background": "light"
          }
        },
        {
          "output_type": "stream",
          "text": [
            "Iteration 110 distortion 1.8309 num_queries 22403\n",
            "Iteration 120 distortion 1.7800 num_queries 24330\n",
            "Iteration 130 distortion 1.7447 num_queries 26409\n",
            "Iteration 140 distortion 1.7050 num_queries 28347\n",
            "Iteration 150 distortion 1.6700 num_queries 30230\n",
            "Iteration 160 distortion 1.6502 num_queries 32079\n",
            "Iteration 170 distortion 1.6253 num_queries 33957\n",
            "Iteration 180 distortion 1.6016 num_queries 35751\n",
            "Iteration 190 distortion 1.5790 num_queries 37495\n",
            "Iteration 200 distortion 1.5661 num_queries 39240\n"
          ],
          "name": "stdout"
        },
        {
          "output_type": "display_data",
          "data": {
            "image/png": "[encoded data removed]",
            "text/plain": [
              "<Figure size 432x288 with 1 Axes>"
            ]
          },
          "metadata": {
            "tags": [],
            "needs_background": "light"
          }
        },
        {
          "output_type": "stream",
          "text": [
            "Iteration 210 distortion 1.5491 num_queries 41130\n",
            "Iteration 220 distortion 1.5367 num_queries 42884\n",
            "Iteration 230 distortion 1.5283 num_queries 44610\n",
            "Warning: not moving, g2 1.523693 gtheta 1.523693\n",
            "Iteration 240 distortion 1.5237 num_queries 46616\n",
            "Warning: not moving, g2 1.522981 gtheta 1.522981\n",
            "Warning: not moving, g2 1.522977 gtheta 1.522977\n",
            "Warning: not moving, g2 1.522962 gtheta 1.522962\n",
            "Warning: not moving, g2 1.522901 gtheta 1.522901\n",
            "Warning: not moving, g2 1.522869 gtheta 1.522869\n",
            "\n",
            "Adversarial Example Found Successfully: distortion 1.5229 target 9 queries 53594 \n",
            "Time: 37.3649 seconds\n"
          ],
          "name": "stdout"
        },
        {
          "output_type": "display_data",
          "data": {
            "image/png": "[encoded data removed]",
            "text/plain": [
              "<Figure size 432x288 with 1 Axes>"
            ]
          },
          "metadata": {
            "tags": [],
            "needs_background": "light"
          }
        },
        {
          "output_type": "stream",
          "text": [
            "image batch: 5\n",
            "Searching for the initial direction on 100 random directions: \n",
            "--------> Found distortion 14.2197\n",
            "--------> Found distortion 12.1809\n",
            "--------> Found distortion 11.1767\n",
            "--------> Found distortion 10.2726\n",
            "--------> Found distortion 10.2309\n",
            "--------> Found distortion 9.9485\n",
            "--------> Found distortion 9.5018\n",
            "--------> Found distortion 9.0070\n",
            "==========> Found best distortion 9.0070 in 0.2479 seconds using 357 queries\n",
            "Iteration  10 distortion 5.4451 num_queries 2262\n",
            "Iteration  20 distortion 3.9805 num_queries 4530\n",
            "Iteration  30 distortion 3.3886 num_queries 6698\n",
            "Iteration  40 distortion 3.0639 num_queries 8676\n",
            "Iteration  50 distortion 2.8318 num_queries 10637\n",
            "Iteration  60 distortion 2.6765 num_queries 12581\n",
            "Iteration  70 distortion 2.5445 num_queries 14472\n",
            "Iteration  80 distortion 2.4477 num_queries 16354\n",
            "Iteration  90 distortion 2.3535 num_queries 18256\n",
            "Iteration 100 distortion 2.2842 num_queries 20100\n"
          ],
          "name": "stdout"
        },
        {
          "output_type": "display_data",
          "data": {
            "image/png": "[encoded data removed]",
            "text/plain": [
              "<Figure size 432x288 with 1 Axes>"
            ]
          },
          "metadata": {
            "tags": [],
            "needs_background": "light"
          }
        },
        {
          "output_type": "stream",
          "text": [
            "Iteration 110 distortion 2.2260 num_queries 22021\n",
            "Iteration 120 distortion 2.1609 num_queries 23957\n",
            "Iteration 130 distortion 2.1178 num_queries 25830\n",
            "Iteration 140 distortion 2.0742 num_queries 27730\n",
            "Iteration 150 distortion 2.0322 num_queries 29610\n",
            "Iteration 160 distortion 1.9967 num_queries 31511\n",
            "Iteration 170 distortion 1.9696 num_queries 33333\n",
            "Iteration 180 distortion 1.9523 num_queries 35237\n",
            "Iteration 190 distortion 1.9275 num_queries 37094\n",
            "Iteration 200 distortion 1.9076 num_queries 38955\n"
          ],
          "name": "stdout"
        },
        {
          "output_type": "display_data",
          "data": {
            "image/png": "[encoded data removed]",
            "text/plain": [
              "<Figure size 432x288 with 1 Axes>"
            ]
          },
          "metadata": {
            "tags": [],
            "needs_background": "light"
          }
        },
        {
          "output_type": "stream",
          "text": [
            "Iteration 210 distortion 1.8905 num_queries 40845\n",
            "Warning: not moving, g2 1.890442 gtheta 1.890442\n",
            "Warning: not moving, g2 1.890426 gtheta 1.890426\n",
            "Warning: not moving, g2 1.890421 gtheta 1.890421\n",
            "Warning: not moving, g2 1.889648 gtheta 1.889648\n",
            "Iteration 220 distortion 1.8896 num_queries 44476\n",
            "Warning: not moving, g2 1.889098 gtheta 1.889098\n",
            "Warning: not moving, g2 1.888660 gtheta 1.888660\n",
            "\n",
            "Adversarial Example Found Successfully: distortion 1.8887 target 8 queries 47789 \n",
            "Time: 32.7883 seconds\n"
          ],
          "name": "stdout"
        },
        {
          "output_type": "display_data",
          "data": {
            "image/png": "[encoded data removed]",
            "text/plain": [
              "<Figure size 432x288 with 1 Axes>"
            ]
          },
          "metadata": {
            "tags": [],
            "needs_background": "light"
          }
        },
        {
          "output_type": "stream",
          "text": [
            "image batch: 6\n",
            "Searching for the initial direction on 100 random directions: \n",
            "--------> Found distortion 10.9227\n",
            "--------> Found distortion 10.0284\n",
            "--------> Found distortion 9.1624\n",
            "--------> Found distortion 8.3492\n",
            "--------> Found distortion 8.3489\n",
            "--------> Found distortion 7.9666\n",
            "==========> Found best distortion 7.9666 in 0.2366 seconds using 314 queries\n",
            "Iteration  10 distortion 3.1855 num_queries 2240\n",
            "Iteration  20 distortion 2.5788 num_queries 4191\n",
            "Iteration  30 distortion 2.1809 num_queries 6231\n",
            "Iteration  40 distortion 1.9028 num_queries 8144\n",
            "Iteration  50 distortion 1.6895 num_queries 10126\n",
            "Iteration  60 distortion 1.5970 num_queries 11921\n",
            "Iteration  70 distortion 1.5173 num_queries 13719\n",
            "Iteration  80 distortion 1.4408 num_queries 15474\n",
            "Iteration  90 distortion 1.3985 num_queries 17200\n",
            "Iteration 100 distortion 1.3525 num_queries 19000\n"
          ],
          "name": "stdout"
        },
        {
          "output_type": "display_data",
          "data": {
            "image/png": "[encoded data removed]",
            "text/plain": [
              "<Figure size 432x288 with 1 Axes>"
            ]
          },
          "metadata": {
            "tags": [],
            "needs_background": "light"
          }
        },
        {
          "output_type": "stream",
          "text": [
            "Iteration 110 distortion 1.3118 num_queries 20752\n",
            "Iteration 120 distortion 1.2730 num_queries 22568\n",
            "Iteration 130 distortion 1.2480 num_queries 24328\n",
            "Iteration 140 distortion 1.2282 num_queries 26079\n",
            "Iteration 150 distortion 1.2108 num_queries 27799\n",
            "Iteration 160 distortion 1.1943 num_queries 29548\n",
            "Iteration 170 distortion 1.1722 num_queries 31323\n",
            "Iteration 180 distortion 1.1558 num_queries 33153\n",
            "Iteration 190 distortion 1.1458 num_queries 34919\n",
            "Iteration 200 distortion 1.1339 num_queries 36679\n"
          ],
          "name": "stdout"
        },
        {
          "output_type": "display_data",
          "data": {
            "image/png": "[encoded data removed]",
            "text/plain": [
              "<Figure size 432x288 with 1 Axes>"
            ]
          },
          "metadata": {
            "tags": [],
            "needs_background": "light"
          }
        },
        {
          "output_type": "stream",
          "text": [
            "Iteration 210 distortion 1.1283 num_queries 38431\n",
            "Iteration 220 distortion 1.1198 num_queries 40159\n",
            "Iteration 230 distortion 1.1100 num_queries 41875\n",
            "Iteration 240 distortion 1.1017 num_queries 43615\n",
            "Iteration 250 distortion 1.0953 num_queries 45400\n",
            "Iteration 260 distortion 1.0885 num_queries 47170\n",
            "Iteration 270 distortion 1.0850 num_queries 48936\n",
            "Iteration 280 distortion 1.0800 num_queries 50702\n",
            "Iteration 290 distortion 1.0740 num_queries 52474\n",
            "Warning: not moving, g2 1.074027 gtheta 1.074027\n",
            "Warning: not moving, g2 1.073428 gtheta 1.073428\n",
            "Iteration 300 distortion 1.0734 num_queries 54965\n"
          ],
          "name": "stdout"
        },
        {
          "output_type": "display_data",
          "data": {
            "image/png": "[encoded data removed]",
            "text/plain": [
              "<Figure size 432x288 with 1 Axes>"
            ]
          },
          "metadata": {
            "tags": [],
            "needs_background": "light"
          }
        },
        {
          "output_type": "stream",
          "text": [
            "Warning: not moving, g2 1.073398 gtheta 1.073398\n",
            "Warning: not moving, g2 1.073356 gtheta 1.073356\n",
            "Warning: not moving, g2 1.073356 gtheta 1.073356\n",
            "Warning: not moving, g2 1.073356 gtheta 1.073356\n",
            "\n",
            "Adversarial Example Found Successfully: distortion 1.0734 target 8 queries 60454 \n",
            "Time: 42.0288 seconds\n"
          ],
          "name": "stdout"
        },
        {
          "output_type": "display_data",
          "data": {
            "image/png": "[encoded data removed]",
            "text/plain": [
              "<Figure size 432x288 with 1 Axes>"
            ]
          },
          "metadata": {
            "tags": [],
            "needs_background": "light"
          }
        },
        {
          "output_type": "stream",
          "text": [
            "image batch: 7\n",
            "Searching for the initial direction on 100 random directions: \n",
            "--------> Found distortion 11.0201\n",
            "--------> Found distortion 9.6334\n",
            "--------> Found distortion 9.3704\n",
            "--------> Found distortion 8.1277\n",
            "--------> Found distortion 8.0221\n",
            "==========> Found best distortion 8.0221 in 0.2280 seconds using 298 queries\n",
            "Iteration  10 distortion 3.8324 num_queries 2332\n",
            "Iteration  20 distortion 2.7913 num_queries 4506\n",
            "Iteration  30 distortion 2.5182 num_queries 6416\n",
            "Iteration  40 distortion 2.1687 num_queries 8427\n",
            "Iteration  50 distortion 1.9964 num_queries 10417\n",
            "Iteration  60 distortion 1.9104 num_queries 12345\n",
            "Iteration  70 distortion 1.7952 num_queries 14233\n",
            "Iteration  80 distortion 1.7457 num_queries 16167\n",
            "Iteration  90 distortion 1.6874 num_queries 18094\n",
            "Iteration 100 distortion 1.6291 num_queries 19981\n"
          ],
          "name": "stdout"
        },
        {
          "output_type": "display_data",
          "data": {
            "image/png": "[encoded data removed]",
            "text/plain": [
              "<Figure size 432x288 with 1 Axes>"
            ]
          },
          "metadata": {
            "tags": [],
            "needs_background": "light"
          }
        },
        {
          "output_type": "stream",
          "text": [
            "Iteration 110 distortion 1.5754 num_queries 21751\n",
            "Iteration 120 distortion 1.5431 num_queries 23541\n",
            "Iteration 130 distortion 1.5121 num_queries 25276\n",
            "Iteration 140 distortion 1.4905 num_queries 27130\n",
            "Iteration 150 distortion 1.4658 num_queries 29028\n",
            "Iteration 160 distortion 1.4406 num_queries 30794\n",
            "Iteration 170 distortion 1.4260 num_queries 32516\n",
            "Iteration 180 distortion 1.4133 num_queries 34302\n",
            "Iteration 190 distortion 1.4006 num_queries 36073\n",
            "Warning: not moving, g2 1.387048 gtheta 1.387048\n",
            "Iteration 200 distortion 1.3870 num_queries 37933\n"
          ],
          "name": "stdout"
        },
        {
          "output_type": "display_data",
          "data": {
            "image/png": "[encoded data removed]",
            "text/plain": [
              "<Figure size 432x288 with 1 Axes>"
            ]
          },
          "metadata": {
            "tags": [],
            "needs_background": "light"
          }
        },
        {
          "output_type": "stream",
          "text": [
            "Warning: not moving, g2 1.387041 gtheta 1.387041\n",
            "Warning: not moving, g2 1.387041 gtheta 1.387041\n",
            "Warning: not moving, g2 1.387040 gtheta 1.387040\n",
            "Warning: not moving, g2 1.387040 gtheta 1.387040\n",
            "Warning: not moving, g2 1.387035 gtheta 1.387035\n",
            "\n",
            "Adversarial Example Found Successfully: distortion 1.3870 target 4 queries 43843 \n",
            "Time: 30.4667 seconds\n"
          ],
          "name": "stdout"
        },
        {
          "output_type": "display_data",
          "data": {
            "image/png": "[encoded data removed]",
            "text/plain": [
              "<Figure size 432x288 with 1 Axes>"
            ]
          },
          "metadata": {
            "tags": [],
            "needs_background": "light"
          }
        },
        {
          "output_type": "stream",
          "text": [
            "image batch: 8\n",
            "Searching for the initial direction on 100 random directions: \n",
            "--------> Found distortion 21.9925\n",
            "--------> Found distortion 13.8548\n",
            "--------> Found distortion 13.7946\n",
            "--------> Found distortion 11.9700\n",
            "--------> Found distortion 11.9390\n",
            "--------> Found distortion 10.5300\n",
            "==========> Found best distortion 10.5300 in 0.2325 seconds using 319 queries\n",
            "Iteration  10 distortion 4.6115 num_queries 2340\n",
            "Iteration  20 distortion 3.2478 num_queries 4430\n",
            "Iteration  30 distortion 2.7375 num_queries 6482\n",
            "Iteration  40 distortion 2.3396 num_queries 8483\n",
            "Iteration  50 distortion 2.1509 num_queries 10426\n",
            "Iteration  60 distortion 1.9716 num_queries 12329\n",
            "Iteration  70 distortion 1.8488 num_queries 14231\n",
            "Iteration  80 distortion 1.7941 num_queries 16103\n",
            "Iteration  90 distortion 1.7303 num_queries 17999\n",
            "Iteration 100 distortion 1.6731 num_queries 19905\n"
          ],
          "name": "stdout"
        },
        {
          "output_type": "display_data",
          "data": {
            "image/png": "[encoded data removed]",
            "text/plain": [
              "<Figure size 432x288 with 1 Axes>"
            ]
          },
          "metadata": {
            "tags": [],
            "needs_background": "light"
          }
        },
        {
          "output_type": "stream",
          "text": [
            "Iteration 110 distortion 1.6218 num_queries 21733\n",
            "Iteration 120 distortion 1.5799 num_queries 23499\n",
            "Iteration 130 distortion 1.5496 num_queries 25223\n",
            "Iteration 140 distortion 1.5228 num_queries 26948\n",
            "Iteration 150 distortion 1.4983 num_queries 28708\n",
            "Iteration 160 distortion 1.4700 num_queries 30440\n",
            "Iteration 170 distortion 1.4415 num_queries 32197\n",
            "Iteration 180 distortion 1.4197 num_queries 33931\n",
            "Iteration 190 distortion 1.4040 num_queries 35694\n",
            "Iteration 200 distortion 1.3874 num_queries 37441\n"
          ],
          "name": "stdout"
        },
        {
          "output_type": "display_data",
          "data": {
            "image/png": "[encoded data removed]",
            "text/plain": [
              "<Figure size 432x288 with 1 Axes>"
            ]
          },
          "metadata": {
            "tags": [],
            "needs_background": "light"
          }
        },
        {
          "output_type": "stream",
          "text": [
            "Iteration 210 distortion 1.3708 num_queries 39158\n",
            "Iteration 220 distortion 1.3630 num_queries 40910\n",
            "Iteration 230 distortion 1.3517 num_queries 42674\n",
            "Iteration 240 distortion 1.3468 num_queries 44398\n",
            "Iteration 250 distortion 1.3396 num_queries 46194\n",
            "Iteration 260 distortion 1.3343 num_queries 47944\n",
            "Iteration 270 distortion 1.3268 num_queries 49679\n",
            "Warning: not moving, g2 1.320521 gtheta 1.320521\n",
            "Iteration 280 distortion 1.3205 num_queries 51669\n",
            "Warning: not moving, g2 1.320497 gtheta 1.320497\n",
            "Warning: not moving, g2 1.320496 gtheta 1.320496\n",
            "Warning: not moving, g2 1.320404 gtheta 1.320404\n",
            "Iteration 290 distortion 1.3197 num_queries 56580\n",
            "Warning: not moving, g2 1.319671 gtheta 1.319671\n",
            "Warning: not moving, g2 1.319668 gtheta 1.319668\n",
            "\n",
            "Adversarial Example Found Successfully: distortion 1.3197 target 6 queries 58765 \n",
            "Time: 40.9462 seconds\n"
          ],
          "name": "stdout"
        },
        {
          "output_type": "display_data",
          "data": {
            "image/png": "[encoded data removed]",
            "text/plain": [
              "<Figure size 432x288 with 1 Axes>"
            ]
          },
          "metadata": {
            "tags": [],
            "needs_background": "light"
          }
        },
        {
          "output_type": "stream",
          "text": [
            "image batch: 9\n",
            "Searching for the initial direction on 100 random directions: \n",
            "--------> Found distortion 10.2435\n",
            "--------> Found distortion 9.5930\n",
            "--------> Found distortion 8.3625\n",
            "==========> Found best distortion 8.3625 in 0.1863 seconds using 259 queries\n",
            "Iteration  10 distortion 4.7027 num_queries 2164\n",
            "Iteration  20 distortion 3.4224 num_queries 4372\n",
            "Iteration  30 distortion 2.9647 num_queries 6455\n",
            "Iteration  40 distortion 2.6800 num_queries 8407\n",
            "Iteration  50 distortion 2.4188 num_queries 10390\n",
            "Iteration  60 distortion 2.3124 num_queries 12311\n",
            "Iteration  70 distortion 2.2107 num_queries 14257\n",
            "Iteration  80 distortion 2.1266 num_queries 16299\n",
            "Iteration  90 distortion 2.0559 num_queries 18246\n",
            "Iteration 100 distortion 1.9940 num_queries 20143\n"
          ],
          "name": "stdout"
        },
        {
          "output_type": "display_data",
          "data": {
            "image/png": "[encoded data removed]",
            "text/plain": [
              "<Figure size 432x288 with 1 Axes>"
            ]
          },
          "metadata": {
            "tags": [],
            "needs_background": "light"
          }
        },
        {
          "output_type": "stream",
          "text": [
            "Iteration 110 distortion 1.8980 num_queries 22058\n",
            "Iteration 120 distortion 1.8586 num_queries 23978\n",
            "Iteration 130 distortion 1.8062 num_queries 25881\n",
            "Warning: not moving, g2 1.792409 gtheta 1.792409\n",
            "Warning: not moving, g2 1.792409 gtheta 1.792409\n",
            "Warning: not moving, g2 1.792408 gtheta 1.792408\n",
            "Iteration 140 distortion 1.7891 num_queries 29757\n",
            "Warning: not moving, g2 1.789025 gtheta 1.789025\n",
            "Warning: not moving, g2 1.788392 gtheta 1.788392\n",
            "Warning: not moving, g2 1.788388 gtheta 1.788388\n",
            "\n",
            "Adversarial Example Found Successfully: distortion 1.7884 target 8 queries 33800 \n",
            "Time: 22.9623 seconds\n"
          ],
          "name": "stdout"
        },
        {
          "output_type": "display_data",
          "data": {
            "image/png": "[encoded data removed]",
            "text/plain": [
              "<Figure size 432x288 with 1 Axes>"
            ]
          },
          "metadata": {
            "tags": [],
            "needs_background": "light"
          }
        },
        {
          "output_type": "stream",
          "text": [
            "image batch: 10\n",
            "saving logs to numpy array\n"
          ],
          "name": "stdout"
        },
        {
          "output_type": "display_data",
          "data": {
            "image/png": "[encoded data removed]",
            "text/plain": [
              "<Figure size 432x288 with 1 Axes>"
            ]
          },
          "metadata": {
            "tags": [],
            "needs_background": "light"
          }
        }
      ]
    }
  ]
}