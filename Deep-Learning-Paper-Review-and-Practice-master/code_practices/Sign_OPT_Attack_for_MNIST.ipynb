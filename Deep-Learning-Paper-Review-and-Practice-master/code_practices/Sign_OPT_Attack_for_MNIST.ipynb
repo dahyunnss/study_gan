{
  "nbformat": 4,
  "nbformat_minor": 0,
  "metadata": {
    "colab": {
      "name": "Sign-OPT Attack for MNIST",
      "provenance": [],
      "collapsed_sections": [],
      "include_colab_link": true
    },
    "kernelspec": {
      "name": "python3",
      "display_name": "Python 3"
    },
    "language_info": {
      "name": "python"
    },
    "accelerator": "GPU"
  },
  "cells": [
    {
      "cell_type": "markdown",
      "metadata": {
        "id": "view-in-github",
        "colab_type": "text"
      },
      "source": [
        "<a href=\"https://colab.research.google.com/github/ndb796/Deep-Learning-Paper-Review-and-Practice/blob/master/code_practices/Sign_OPT_Attack_for_MNIST.ipynb\" target=\"_parent\"><img src=\"https://colab.research.google.com/assets/colab-badge.svg\" alt=\"Open In Colab\"/></a>"
      ]
    },
    {
      "cell_type": "markdown",
      "metadata": {
        "id": "OrPgZRyVo_dJ"
      },
      "source": [
        "#### <b>Load Required Libraries</b>"
      ]
    },
    {
      "cell_type": "code",
      "metadata": {
        "colab": {
          "base_uri": "https://localhost:8080/"
        },
        "id": "3NN3tJgCjttX",
        "outputId": "0cd9f416-a201-4b44-d8d7-9aaee2f7c2e5"
      },
      "source": [
        "!git clone https://github.com/ndb796/attackbox"
      ],
      "execution_count": null,
      "outputs": [
        {
          "output_type": "stream",
          "text": [
            "Cloning into 'attackbox'...\n",
            "remote: Enumerating objects: 594, done.\u001b[K\n",
            "remote: Counting objects: 100% (19/19), done.\u001b[K\n",
            "remote: Compressing objects: 100% (13/13), done.\u001b[K\n",
            "remote: Total 594 (delta 7), reused 14 (delta 6), pack-reused 575\u001b[K\n",
            "Receiving objects: 100% (594/594), 74.55 MiB | 34.92 MiB/s, done.\n",
            "Resolving deltas: 100% (298/298), done.\n",
            "Checking out files: 100% (191/191), done.\n"
          ],
          "name": "stdout"
        }
      ]
    },
    {
      "cell_type": "code",
      "metadata": {
        "id": "orvMQ3aUpNQl"
      },
      "source": [
        "import torch\n",
        "import torch.nn as nn\n",
        "from torch.autograd import Variable\n",
        "import torchvision\n",
        "\n",
        "import numpy as np\n",
        "from numpy import linalg as LA\n",
        "import matplotlib.pyplot as plt\n",
        "\n",
        "import os\n",
        "import time\n",
        "import shutil"
      ],
      "execution_count": null,
      "outputs": []
    },
    {
      "cell_type": "markdown",
      "metadata": {
        "id": "8_8c9VyHpYxN"
      },
      "source": [
        "#### <b>Load Dataset</b>"
      ]
    },
    {
      "cell_type": "code",
      "metadata": {
        "id": "E0pIjQB-pEeA"
      },
      "source": [
        "def load_model(model, filename):\n",
        "    \"\"\" Load the training model \"\"\"\n",
        "    model.load_state_dict(torch.load(filename))\n",
        "\n",
        "\n",
        "def load_mnist_data(batch_size=1):\n",
        "    \"\"\" Load MNIST data from torchvision.datasets \n",
        "        input: None\n",
        "        output: minibatches of train and test sets \n",
        "    \"\"\"\n",
        "    # MNIST Dataset\n",
        "    train_dataset = torchvision.datasets.MNIST(root='./data/mnist', train=True, transform=torchvision.transforms.ToTensor(), download=True)\n",
        "    test_dataset = torchvision.datasets.MNIST(root='./data/mnist', train=False, transform=torchvision.transforms.ToTensor())\n",
        "\n",
        "    # Data Loader (Input Pipeline)\n",
        "    train_loader = torch.utils.data.DataLoader(dataset=train_dataset, batch_size=batch_size, shuffle=False)\n",
        "    test_loader = torch.utils.data.DataLoader(dataset=test_dataset, batch_size=batch_size, shuffle=False)\n",
        "\n",
        "    return train_loader, test_loader, train_dataset, test_dataset\n",
        "\n",
        "\n",
        "test_batch_size = 1\n",
        "train_loader, test_loader, train_dataset, test_dataset = load_mnist_data(test_batch_size)"
      ],
      "execution_count": null,
      "outputs": []
    },
    {
      "cell_type": "markdown",
      "metadata": {
        "id": "qIuRnHrPpO7c"
      },
      "source": [
        "#### <b>Load Pre-trained Classification Model</b>"
      ]
    },
    {
      "cell_type": "code",
      "metadata": {
        "colab": {
          "base_uri": "https://localhost:8080/"
        },
        "id": "YKwl6DoNAm94",
        "outputId": "6ffc65a7-e94a-47ee-b027-555b05c62ae1"
      },
      "source": [
        "class BasicCNN(nn.Module):\n",
        "    def __init__(self):\n",
        "        super(BasicCNN, self).__init__()        \n",
        "        self.main = nn.Sequential(\n",
        "            nn.Conv2d(1, 20, kernel_size=5),\n",
        "            nn.ReLU(),\n",
        "            nn.MaxPool2d(2, stride=2),\n",
        "            nn.Conv2d(20, 50, kernel_size=5),\n",
        "            nn.ReLU(),\n",
        "            nn.MaxPool2d(2, stride=2))\n",
        "        self.fc = nn.Sequential(\n",
        "            nn.Linear(4*4*50, 500),    \n",
        "            nn.ReLU(),            \n",
        "            nn.Linear(500, 10))\n",
        "    def forward(self, x):\n",
        "        x = self.main(x)\n",
        "        x = x.view(-1, 4*4*50)\n",
        "        x = self.fc(x)\n",
        "        return x\n",
        "\n",
        "\n",
        "model_dir = 'attackbox/model/m_cnn'\n",
        "net = BasicCNN()\n",
        "load_model(net, model_dir)\n",
        "net = torch.nn.DataParallel(net, device_ids=[0])\n",
        "net.cuda()\n",
        "net.eval()"
      ],
      "execution_count": null,
      "outputs": [
        {
          "output_type": "execute_result",
          "data": {
            "text/plain": [
              "DataParallel(\n",
              "  (module): BasicCNN(\n",
              "    (main): Sequential(\n",
              "      (0): Conv2d(1, 20, kernel_size=(5, 5), stride=(1, 1))\n",
              "      (1): ReLU()\n",
              "      (2): MaxPool2d(kernel_size=2, stride=2, padding=0, dilation=1, ceil_mode=False)\n",
              "      (3): Conv2d(20, 50, kernel_size=(5, 5), stride=(1, 1))\n",
              "      (4): ReLU()\n",
              "      (5): MaxPool2d(kernel_size=2, stride=2, padding=0, dilation=1, ceil_mode=False)\n",
              "    )\n",
              "    (fc): Sequential(\n",
              "      (0): Linear(in_features=800, out_features=500, bias=True)\n",
              "      (1): ReLU()\n",
              "      (2): Linear(in_features=500, out_features=10, bias=True)\n",
              "    )\n",
              "  )\n",
              ")"
            ]
          },
          "metadata": {
            "tags": []
          },
          "execution_count": 8
        }
      ]
    },
    {
      "cell_type": "code",
      "metadata": {
        "id": "kLnrkPAbp2Ec"
      },
      "source": [
        "class PytorchModel(object):\n",
        "    def __init__(self,model, bounds, num_classes):\n",
        "        self.model = model\n",
        "        self.model.eval()\n",
        "        self.bounds = bounds\n",
        "        self.num_classes = num_classes\n",
        "        self.num_queries = 0\n",
        "\n",
        "    def predict(self,image):\n",
        "        image = torch.clamp(image,self.bounds[0],self.bounds[1]).cuda()\n",
        "        if len(image.size())!=4:\n",
        "            image = image.unsqueeze(0)\n",
        "        output = self.model(image)\n",
        "        self.num_queries += 1\n",
        "        return output\n",
        " \n",
        "    def predict_prob(self,image):\n",
        "        with torch.no_grad():\n",
        "            image = torch.clamp(image,self.bounds[0],self.bounds[1]).cuda()\n",
        "            if len(image.size())!=4:\n",
        "                image = image.unsqueeze(0)\n",
        "            output = self.model(image)\n",
        "            self.num_queries += image.size(0)\n",
        "        return output\n",
        "\n",
        "    def predict_label(self, image, batch=False):\n",
        "        if isinstance(image, np.ndarray):\n",
        "            image = torch.from_numpy(image).type(torch.FloatTensor)\n",
        "        image = torch.clamp(image,self.bounds[0],self.bounds[1]).cuda()\n",
        "        if len(image.size())!=4:\n",
        "            image = image.unsqueeze(0)\n",
        "        with torch.no_grad():\n",
        "            output = self.model(image)\n",
        "            self.num_queries += image.size(0)\n",
        "        _, predict = torch.max(output.data, 1)\n",
        "        if batch:\n",
        "            return predict\n",
        "        else:\n",
        "            return predict[0]\n",
        "\n",
        "    def predict_ensemble(self, image):\n",
        "        if isinstance(image, np.ndarray):\n",
        "            image = torch.from_numpy(image).type(torch.FloatTensor)\n",
        "        image = torch.clamp(image,self.bounds[0],self.bounds[1]).cuda()\n",
        "        if len(image.size())!=4:\n",
        "            image = image.unsqueeze(0)\n",
        "        with torch.no_grad():\n",
        "            output = self.model(image)\n",
        "            output.zero_()\n",
        "            for i in range(10):\n",
        "                output += self.model(image)\n",
        "                self.num_queries += image.size(0)\n",
        "\n",
        "        _, predict = torch.max(output.data, 1)\n",
        "\n",
        "        return predict[0]\n",
        "\n",
        "    def get_num_queries(self):\n",
        "        return self.num_queries\n",
        "\n",
        "    def get_gradient(self,loss):\n",
        "        loss.backward()"
      ],
      "execution_count": null,
      "outputs": []
    },
    {
      "cell_type": "markdown",
      "metadata": {
        "id": "D8gtuAehpsSu"
      },
      "source": [
        "#### <b>Adversarial Attack</b>"
      ]
    },
    {
      "cell_type": "code",
      "metadata": {
        "id": "5-rNUNmBl2mI"
      },
      "source": [
        "start_learning_rate = 1.0\n",
        "MAX_ITER = 1000\n",
        "\n",
        "\n",
        "def quad_solver(Q, b):\n",
        "    \"\"\"\n",
        "    Solve min_a  0.5*aQa + b^T a s.t. a>=0\n",
        "    \"\"\"\n",
        "    K = Q.shape[0]\n",
        "    alpha = np.zeros((K,))\n",
        "    g = b\n",
        "    Qdiag = np.diag(Q)\n",
        "    for i in range(20000):\n",
        "        delta = np.maximum(alpha - g / Qdiag, 0) - alpha\n",
        "        idx = np.argmax(abs(delta))\n",
        "        val = delta[idx]\n",
        "        if abs(val) < 1e-7: \n",
        "            break\n",
        "        g = g + val * Q[:,idx]\n",
        "        alpha[idx] += val\n",
        "    return alpha\n",
        "\n",
        "\n",
        "def sign(y):\n",
        "    \"\"\"\n",
        "    y -- numpy array of shape (m,)\n",
        "    Returns an element-wise indication of the sign of a number.\n",
        "    The sign function returns -1 if y < 0, 1 if x >= 0. nan is returned for nan inputs.\n",
        "    \"\"\"\n",
        "    y_sign = np.sign(y)\n",
        "    y_sign[y_sign==0] = 1\n",
        "    return y_sign\n",
        "\n",
        "\n",
        "class OPT_attack_sign_SGD(object):\n",
        "    def __init__(self, model, k=200, train_dataset=None):\n",
        "        self.model = model\n",
        "        self.k = k\n",
        "        self.train_dataset = train_dataset \n",
        "        self.log = torch.ones(MAX_ITER, 2)\n",
        "\n",
        "    def get_log(self):\n",
        "        return self.log\n",
        "\n",
        "    def attack_untargeted(self, x0, y0, alpha = 0.2, beta = 0.001, iterations = 1000, query_limit=20000,\n",
        "                          distortion=None, svm=False, momentum=0.0, stopping=0.0001):\n",
        "        \"\"\" Attack the original image and return adversarial example\n",
        "            model: (pytorch model)\n",
        "            train_dataset: set of training data\n",
        "            (x0, y0): original image\n",
        "        \"\"\"\n",
        "        model = self.model\n",
        "        y0 = y0[0]\n",
        "        query_count = 0\n",
        "        ls_total = 0\n",
        "\n",
        "        if (model.predict_label(x0) != y0):\n",
        "            print(\"Fail to classify the image. No need to attack.\")\n",
        "            return x0, 0, True, 0, None\n",
        "\n",
        "        # 공격을 위한 초기 방향(initial direction) theta 찾기 / g_theta: 거리(짧을수록 좋음)\n",
        "        # init: Calculate a good starting point (direction)\n",
        "        num_directions = 100\n",
        "        best_theta, g_theta = None, float('inf')\n",
        "        print(\"Searching for the initial direction on %d random directions: \" % (num_directions))\n",
        "        timestart = time.time()\n",
        "        for i in range(num_directions):\n",
        "            query_count += 1\n",
        "            theta = np.random.randn(*x0.shape) # gaussian distortion\n",
        "            # register adv directions\n",
        "            if model.predict_label(x0 + torch.tensor(theta, dtype=torch.float).cuda()) != y0: \n",
        "                initial_lbd = LA.norm(theta)\n",
        "                theta /= initial_lbd # l2 normalize\n",
        "                lbd, count = self.fine_grained_binary_search(model, x0, y0, theta, initial_lbd, g_theta)\n",
        "                query_count += count\n",
        "                if lbd < g_theta:\n",
        "                    best_theta, g_theta = theta, lbd\n",
        "                    print(\"--------> Found distortion %.4f\" % g_theta)\n",
        "        timeend = time.time()\n",
        "        \n",
        "        # fail if cannot find a adv direction within 200 Gaussian\n",
        "        if g_theta == float('inf'):\n",
        "            print(\"Couldn't find valid initial, failed\")\n",
        "            return x0, 0, False, query_count, best_theta\n",
        "        print(\"==========> Found best distortion %.4f in %.4f seconds \"\n",
        "              \"using %d queries\" % (g_theta, timeend-timestart, query_count))\n",
        "        self.log[0][0], self.log[0][1] = g_theta, query_count\n",
        "\n",
        "        # 반복적으로 theta를 업데이트하며 공격 수행\n",
        "        # Begin Gradient Descent.\n",
        "        timestart = time.time()\n",
        "        xg, gg = best_theta, g_theta\n",
        "        vg = np.zeros_like(xg)\n",
        "        learning_rate = start_learning_rate\n",
        "        prev_obj = 100000\n",
        "        distortions = [gg]\n",
        "        for i in range(iterations):\n",
        "            # 기울기(gradient) 예측\n",
        "            # gradient estimation at x0 + theta (init)\n",
        "            if svm == True:\n",
        "                sign_gradient, grad_queries = self.sign_grad_svm(x0, y0, xg, initial_lbd=gg, h=beta)\n",
        "            else:\n",
        "                sign_gradient, grad_queries = self.sign_grad_v1(x0, y0, xg, initial_lbd=gg, h=beta)\n",
        "\n",
        "            # Line search of the step size of gradient descent\n",
        "            ls_count = 0\n",
        "            min_theta = xg # next theta\n",
        "            min_g2 = gg # current g_theta\n",
        "            min_vg = vg # velocity (for momentum only)\n",
        "            for _ in range(15):\n",
        "                # update theta by one step sgd\n",
        "                if momentum > 0:\n",
        "                    new_vg = momentum * vg - alpha*sign_gradient\n",
        "                    new_theta = xg + new_vg\n",
        "                else:\n",
        "                    new_theta = xg - alpha * sign_gradient\n",
        "                new_theta /= LA.norm(new_theta)\n",
        "\n",
        "                new_g2, count = self.fine_grained_binary_search_local(\n",
        "                    model, x0, y0, new_theta, initial_lbd = min_g2, tol=beta/500)\n",
        "                ls_count += count\n",
        "                alpha = alpha * 2 # gradually increasing step size\n",
        "                if new_g2 < min_g2:\n",
        "                    min_theta = new_theta\n",
        "                    min_g2 = new_g2\n",
        "                    if momentum > 0:\n",
        "                        min_vg = new_vg\n",
        "                else:\n",
        "                    break\n",
        "\n",
        "            if min_g2 >= gg: # if the above code failed for the init alpha, we then try to decrease alpha\n",
        "                for _ in range(15):\n",
        "                    alpha = alpha * 0.25\n",
        "                    if momentum > 0:\n",
        "                        new_vg = momentum * vg - alpha * sign_gradient\n",
        "                        new_theta = xg + new_vg\n",
        "                    else:\n",
        "                        new_theta = xg - alpha * sign_gradient\n",
        "                    new_theta /= LA.norm(new_theta)\n",
        "                    new_g2, count = self.fine_grained_binary_search_local(\n",
        "                        model, x0, y0, new_theta, initial_lbd = min_g2, tol=beta/500)\n",
        "                    ls_count += count\n",
        "                    if new_g2 < gg:\n",
        "                        min_theta = new_theta \n",
        "                        min_g2 = new_g2\n",
        "                        if momentum > 0:\n",
        "                            min_vg = new_vg\n",
        "                        break\n",
        "\n",
        "            if alpha < 1e-4: # if the above two blocks of code failed\n",
        "                alpha = 1.0\n",
        "                print(\"Warning: not moving\")\n",
        "                beta = beta * 0.1\n",
        "                if (beta < 1e-8):\n",
        "                    break\n",
        "            \n",
        "            # if all attemps failed, min_theta, min_g2 will be the current theta (i.e. not moving)\n",
        "            xg, gg = min_theta, min_g2\n",
        "            vg = min_vg\n",
        "\n",
        "            query_count += (grad_queries + ls_count)\n",
        "            ls_total += ls_count\n",
        "            distortions.append(gg)\n",
        "\n",
        "            if query_count > query_limit:\n",
        "                break\n",
        "\n",
        "            # 공격이 진행되는 상황에서 로깅(logging)\n",
        "            if (i + 1) % 10 == 0:\n",
        "                print(\"Iteration %3d distortion %.4f num_queries %d\" % (i+1, gg, query_count))\n",
        "            self.log[i + 1][0], self.log[i + 1][1] = gg, query_count\n",
        "\n",
        "            if (i + 1) % 100 == 0:\n",
        "                # 화면에 이미지 출력하기\n",
        "                img = x0.cpu() + torch.tensor(gg * xg, dtype=torch.float) # [batch_size, 1, H, W]\n",
        "                img = torch.clamp(img, min=0, max=1).squeeze(0) # [1, H, W]\n",
        "                img = torchvision.transforms.ToPILImage()(img)\n",
        "                plt.imshow(img, cmap='gray') # for grayscale\n",
        "                plt.show()\n",
        "\n",
        "        if distortion is None or gg < distortion:\n",
        "            target = model.predict_label(x0 + torch.tensor(gg * xg, dtype=torch.float).cuda())\n",
        "            print(\"Succeed distortion {:.4f} target\"\n",
        "                  \" {:d} queries {:d} LS queries {:d}\\n\".format(gg, target, query_count, ls_total))\n",
        "            return x0 + torch.tensor(gg * xg, dtype=torch.float).cuda(), gg, True, query_count, xg\n",
        "\n",
        "        timeend = time.time()\n",
        "        print(\"\\nFailed: distortion %.4f\" % (gg))\n",
        "        \n",
        "        self.log[i+1:,0] = gg\n",
        "        self.log[i+1:,1] = query_count\n",
        "        return x0 + torch.tensor(gg * xg, dtype=torch.float).cuda(), gg, False, query_count, xg\n",
        "\n",
        "\n",
        "    def sign_grad_v1(self, x0, y0, theta, initial_lbd, h=0.001, D=4, target=None):\n",
        "        \"\"\"\n",
        "        Evaluate the sign of gradient by formulat\n",
        "        sign(g) = 1/Q [ \\sum_{q=1}^Q sign( g(theta+h*u_i) - g(theta) )u_i$ ]\n",
        "        \"\"\"\n",
        "        K = self.k # 200 random directions (for estimating the gradient)\n",
        "        sign_grad = np.zeros(theta.shape)\n",
        "        queries = 0\n",
        "\n",
        "        for iii in range(K): # for each u\n",
        "            u = np.random.randn(*theta.shape); u /= LA.norm(u)\n",
        "            new_theta = theta + h * u; new_theta /= LA.norm(new_theta)\n",
        "            sign = 1\n",
        "            \n",
        "            # Targeted case\n",
        "            if (target is not None and \n",
        "                self.model.predict_label(x0 + torch.tensor(initial_lbd * new_theta, dtype=torch.float).cuda()) == target):\n",
        "                sign = -1\n",
        "\n",
        "            # Untargeted case\n",
        "            if (target is None and\n",
        "                self.model.predict_label(x0 + torch.tensor(initial_lbd * new_theta, dtype=torch.float).cuda()) != y0): # success\n",
        "                sign = -1\n",
        "\n",
        "            queries += 1\n",
        "            sign_grad += u*sign\n",
        "        \n",
        "        sign_grad /= K\n",
        "        \n",
        "        return sign_grad, queries\n",
        "\n",
        "\n",
        "    def sign_grad_svm(self, x0, y0, theta, initial_lbd, h=0.001, K=100, lr=5.0, target=None):\n",
        "        \"\"\"\n",
        "        Evaluate the sign of gradient by formulat\n",
        "        sign(g) = 1/Q [ \\sum_{q=1}^Q sign( g(theta+h*u_i) - g(theta) )u_i$ ]\n",
        "        \"\"\"\n",
        "        sign_grad = np.zeros(theta.shape)\n",
        "        queries = 0\n",
        "        dim = np.prod(theta.shape)\n",
        "        X = np.zeros((dim, K))\n",
        "        for iii in range(K):\n",
        "            u = np.random.randn(*theta.shape)\n",
        "            u /= LA.norm(u)\n",
        "            \n",
        "            sign = 1\n",
        "            new_theta = theta + h * u\n",
        "            new_theta /= LA.norm(new_theta)            \n",
        "            \n",
        "            # Targeted case\n",
        "            if (target is not None and \n",
        "                self.model.predict_label(x0 + torch.tensor(initial_lbd * new_theta, dtype=torch.float).cuda()) == target):\n",
        "                sign = -1\n",
        "                \n",
        "            # Untargeted case\n",
        "            if (target is None and\n",
        "                self.model.predict_label(x0 + torch.tensor(initial_lbd * new_theta, dtype=torch.float).cuda()) != y0):\n",
        "                sign = -1\n",
        "                \n",
        "            queries += 1\n",
        "            X[:,iii] = sign * u.reshape((dim,))\n",
        "        \n",
        "        Q = X.transpose().dot(X)\n",
        "        q = -1 * np.ones((K,))\n",
        "        G = np.diag(-1 * np.ones((K,)))\n",
        "        h = np.zeros((K,))\n",
        "        alpha = quad_solver(Q, q)\n",
        "        sign_grad = (X.dot(alpha)).reshape(theta.shape)\n",
        "        \n",
        "        return sign_grad, queries\n",
        "\n",
        "\n",
        "    def fine_grained_binary_search_local(self, model, x0, y0, theta, initial_lbd = 1.0, tol=1e-5):\n",
        "        nquery = 0\n",
        "        lbd = initial_lbd\n",
        "         \n",
        "        # still inside boundary\n",
        "        if model.predict_label(x0 + torch.tensor(lbd * theta, dtype=torch.float).cuda()) == y0:\n",
        "            lbd_lo = lbd\n",
        "            lbd_hi = lbd * 1.01\n",
        "            nquery += 1\n",
        "            while model.predict_label(x0 + torch.tensor(lbd_hi * theta, dtype=torch.float).cuda()) == y0:\n",
        "                lbd_hi = lbd_hi * 1.01\n",
        "                nquery += 1\n",
        "                if lbd_hi > 20:\n",
        "                    return float('inf'), nquery\n",
        "        else:\n",
        "            lbd_hi = lbd\n",
        "            lbd_lo = lbd * 0.99\n",
        "            nquery += 1\n",
        "            while model.predict_label(x0 + torch.tensor(lbd_lo * theta, dtype=torch.float).cuda()) != y0 :\n",
        "                lbd_lo = lbd_lo * 0.99\n",
        "                nquery += 1\n",
        "\n",
        "        while (lbd_hi - lbd_lo) > tol:\n",
        "            lbd_mid = (lbd_lo + lbd_hi) / 2.0\n",
        "            nquery += 1\n",
        "            if model.predict_label(x0 + torch.tensor(lbd_mid * theta, dtype=torch.float).cuda()) != y0:\n",
        "                lbd_hi = lbd_mid\n",
        "            else:\n",
        "                lbd_lo = lbd_mid\n",
        "        return lbd_hi, nquery\n",
        "\n",
        "\n",
        "    def fine_grained_binary_search(self, model, x0, y0, theta, initial_lbd, current_best):\n",
        "        nquery = 0\n",
        "        if initial_lbd > current_best: \n",
        "            if model.predict_label(x0 + torch.tensor(current_best * theta, dtype=torch.float).cuda()) == y0:\n",
        "                nquery += 1\n",
        "                return float('inf'), nquery\n",
        "            lbd = current_best\n",
        "        else:\n",
        "            lbd = initial_lbd\n",
        "\n",
        "        lbd_hi = lbd\n",
        "        lbd_lo = 0.0\n",
        "        \n",
        "        while (lbd_hi - lbd_lo) > 1e-3: # was 1e-5\n",
        "            lbd_mid = (lbd_lo + lbd_hi) / 2.0\n",
        "            nquery += 1\n",
        "            if model.predict_label(x0 + torch.tensor(lbd_mid*theta, dtype=torch.float).cuda()) != y0:\n",
        "                lbd_hi = lbd_mid\n",
        "            else:\n",
        "                lbd_lo = lbd_mid\n",
        "        return lbd_hi, nquery\n",
        "\n",
        "\n",
        "    def __call__(self, input_xi, label_or_target, targeted=False, distortion=None, seed=None,\n",
        "                 svm=False, query_limit=4000, momentum=0.0, stopping=0.0001, args=None):\n",
        "        if targeted:\n",
        "            raise NotImplementedError\n",
        "        else:\n",
        "            adv = self.attack_untargeted(input_xi, label_or_target, distortion=distortion,\n",
        "                                         svm=svm, query_limit=query_limit, momentum=momentum,\n",
        "                                         stopping=stopping)\n",
        "        return adv"
      ],
      "execution_count": null,
      "outputs": []
    },
    {
      "cell_type": "code",
      "metadata": {
        "id": "ytpMQL5stsQD"
      },
      "source": [
        "# 단순히 p-norm 거리(distance) 계산\n",
        "def distance(x_adv, x, norm='l2'):\n",
        "    diff = (x_adv - x).view(x.size(0), -1)\n",
        "    if norm == 'l2':\n",
        "        out = torch.sqrt(torch.sum(diff * diff)).item()\n",
        "        return out\n",
        "    elif norm == 'linf':\n",
        "        out = torch.sum(torch.max(torch.abs(diff), 1)[0]).item()\n",
        "        return out"
      ],
      "execution_count": null,
      "outputs": []
    },
    {
      "cell_type": "code",
      "metadata": {
        "id": "ksIwqNi9hrEs"
      },
      "source": [
        "from types import SimpleNamespace\n",
        "\n",
        "args = SimpleNamespace()\n",
        "\n",
        "args.targeted = False # Targeted attack.\n",
        "args.random_start = False # PGD attack with random start.\n",
        "args.epsilon = 2.0\n",
        "args.seed = 123\n",
        "args.norm = 'l2'\n",
        "args.test_batch = 40 # The number of test batch.\n",
        "args.query = 80000"
      ],
      "execution_count": null,
      "outputs": []
    },
    {
      "cell_type": "code",
      "metadata": {
        "colab": {
          "base_uri": "https://localhost:8080/",
          "height": 1000
        },
        "id": "Ftqcu-xFmF-i",
        "outputId": "869fcf1d-dafc-4740-9485-6b0b388a7727"
      },
      "source": [
        "amodel = PytorchModel(net, bounds=[0, 1], num_classes=10)\n",
        "attack = OPT_attack_sign_SGD(amodel)\n",
        "\n",
        "total_r_count = 0\n",
        "total_clean_count = 0\n",
        "total_distance = 0\n",
        "successes = []\n",
        "stop_queries = []\n",
        "\n",
        "for i, (xi, yi) in enumerate(test_loader):\n",
        "    print(f\"image batch: {i}\")\n",
        "    if i == args.test_batch:\n",
        "        break\n",
        "\n",
        "    xi, yi = xi.cuda(), yi.cuda()\n",
        "    adv, distortion, is_success, nqueries, theta_signopt = attack(xi, yi, targeted=args.targeted, query_limit=args.query, distortion=args.epsilon, args=args)\n",
        "\n",
        "    # 결과 출력(l_2 distortion이 충분히 감소했을 때 성공)\n",
        "    img = torchvision.transforms.ToPILImage()(torch.clamp(adv, min=0, max=1).squeeze(0))\n",
        "    plt.imshow(img, cmap='gray') # for grayscale\n",
        "    plt.show()\n",
        "\n",
        "    if is_success:\n",
        "        stop_queries.append(nqueries)\n",
        "\n",
        "    if args.targeted == False:\n",
        "        r_count = (torch.max(amodel.predict(adv), 1)[1] == yi).nonzero().shape[0]\n",
        "        clean_count = (torch.max(amodel.predict(xi), 1)[1] == yi).nonzero().shape[0]\n",
        "        total_r_count += r_count\n",
        "        total_clean_count += clean_count\n",
        "        total_distance += distance(adv, xi, norm=args.norm)\n",
        "\n",
        "    successes.append(is_success)\n",
        "\n",
        "num_queries = amodel.get_num_queries()\n",
        "print(f\"clean count: {total_clean_count}\")\n",
        "print(f\"acc under attack count: {total_r_count}\")\n",
        "print(f\"avg total queries used: {num_queries}\")\n",
        "print(f\"avg stop queries used: {np.mean(stop_queries)}\")\n",
        "print(f\"average distortion: {total_distance / (args.test_batch * test_batch_size)}\")\n",
        "print(\"robust accuracy: {}\".format(1 - np.mean(successes)))"
      ],
      "execution_count": null,
      "outputs": [
        {
          "output_type": "stream",
          "text": [
            "image batch: 0\n",
            "Searching for the initial direction on 100 random directions: \n",
            "--------> Found distortion 25.5910\n",
            "--------> Found distortion 20.5483\n",
            "--------> Found distortion 13.3080\n",
            "==========> Found best distortion 13.3080 in 0.1645 seconds using 231 queries\n",
            "Iteration  10 distortion 2.5259 num_queries 3159\n",
            "Iteration  20 distortion 2.1667 num_queries 5648\n",
            "Iteration  30 distortion 2.0685 num_queries 8080\n",
            "Iteration  40 distortion 2.0371 num_queries 10463\n",
            "Iteration  50 distortion 2.0105 num_queries 12833\n",
            "Iteration  60 distortion 1.9973 num_queries 15226\n",
            "Iteration  70 distortion 1.9915 num_queries 17586\n",
            "Iteration  80 distortion 1.9863 num_queries 19931\n",
            "Iteration  90 distortion 1.9817 num_queries 22336\n",
            "Iteration 100 distortion 1.9778 num_queries 24681\n"
          ],
          "name": "stdout"
        },
        {
          "output_type": "display_data",
          "data": {
            "image/png": "[encoded data removed]",
            "text/plain": [
              "<Figure size 432x288 with 1 Axes>"
            ]
          },
          "metadata": {
            "tags": [],
            "needs_background": "light"
          }
        },
        {
          "output_type": "stream",
          "text": [
            "Iteration 110 distortion 1.9753 num_queries 27026\n",
            "Iteration 120 distortion 1.9728 num_queries 29416\n",
            "Warning: not moving\n",
            "Warning: not moving\n",
            "Warning: not moving\n",
            "Warning: not moving\n",
            "Warning: not moving\n",
            "Warning: not moving\n",
            "Succeed distortion 1.9728 target 2 queries 32095 LS queries 6664\n",
            "\n"
          ],
          "name": "stdout"
        },
        {
          "output_type": "display_data",
          "data": {
            "image/png": "[encoded data removed]",
            "text/plain": [
              "<Figure size 432x288 with 1 Axes>"
            ]
          },
          "metadata": {
            "tags": [],
            "needs_background": "light"
          }
        },
        {
          "output_type": "stream",
          "text": [
            "image batch: 1\n",
            "Searching for the initial direction on 100 random directions: \n",
            "--------> Found distortion 16.6903\n",
            "--------> Found distortion 15.5137\n",
            "--------> Found distortion 15.3783\n",
            "--------> Found distortion 15.2826\n",
            "==========> Found best distortion 15.2826 in 0.1737 seconds using 237 queries\n",
            "Iteration  10 distortion 3.7677 num_queries 3161\n",
            "Iteration  20 distortion 3.0972 num_queries 5708\n",
            "Iteration  30 distortion 2.9369 num_queries 8181\n",
            "Iteration  40 distortion 2.8667 num_queries 10568\n",
            "Iteration  50 distortion 2.8132 num_queries 12943\n",
            "Iteration  60 distortion 2.7811 num_queries 15317\n",
            "Iteration  70 distortion 2.7554 num_queries 17653\n",
            "Iteration  80 distortion 2.7378 num_queries 20006\n",
            "Iteration  90 distortion 2.7219 num_queries 22400\n",
            "Iteration 100 distortion 2.7082 num_queries 24749\n"
          ],
          "name": "stdout"
        },
        {
          "output_type": "display_data",
          "data": {
            "image/png": "[encoded data removed]",
            "text/plain": [
              "<Figure size 432x288 with 1 Axes>"
            ]
          },
          "metadata": {
            "tags": [],
            "needs_background": "light"
          }
        },
        {
          "output_type": "stream",
          "text": [
            "Iteration 110 distortion 2.7009 num_queries 27154\n",
            "Iteration 120 distortion 2.6960 num_queries 29529\n",
            "Iteration 130 distortion 2.6924 num_queries 31919\n",
            "Iteration 140 distortion 2.6888 num_queries 34309\n",
            "Iteration 150 distortion 2.6843 num_queries 36639\n",
            "Iteration 160 distortion 2.6809 num_queries 38999\n",
            "Warning: not moving\n",
            "Warning: not moving\n",
            "Iteration 170 distortion 2.6790 num_queries 41805\n",
            "Warning: not moving\n",
            "Warning: not moving\n",
            "Warning: not moving\n",
            "Warning: not moving\n",
            "\n",
            "Failed: distortion 2.6790\n"
          ],
          "name": "stdout"
        },
        {
          "output_type": "display_data",
          "data": {
            "image/png": "[encoded data removed]",
            "text/plain": [
              "<Figure size 432x288 with 1 Axes>"
            ]
          },
          "metadata": {
            "tags": [],
            "needs_background": "light"
          }
        },
        {
          "output_type": "stream",
          "text": [
            "image batch: 2\n",
            "Searching for the initial direction on 100 random directions: \n",
            "--------> Found distortion 11.3771\n",
            "--------> Found distortion 10.3015\n",
            "--------> Found distortion 8.5032\n",
            "--------> Found distortion 6.9063\n",
            "==========> Found best distortion 6.9063 in 0.1931 seconds using 253 queries\n",
            "Iteration  10 distortion 1.6945 num_queries 3159\n",
            "Iteration  20 distortion 1.4186 num_queries 5621\n",
            "Iteration  30 distortion 1.3528 num_queries 8018\n",
            "Iteration  40 distortion 1.3272 num_queries 10393\n",
            "Iteration  50 distortion 1.3055 num_queries 12720\n",
            "Iteration  60 distortion 1.2949 num_queries 15054\n",
            "Iteration  70 distortion 1.2886 num_queries 17394\n",
            "Iteration  80 distortion 1.2833 num_queries 19730\n",
            "Iteration  90 distortion 1.2805 num_queries 22052\n",
            "Iteration 100 distortion 1.2787 num_queries 24388\n"
          ],
          "name": "stdout"
        },
        {
          "output_type": "display_data",
          "data": {
            "image/png": "[encoded data removed]",
            "text/plain": [
              "<Figure size 432x288 with 1 Axes>"
            ]
          },
          "metadata": {
            "tags": [],
            "needs_background": "light"
          }
        },
        {
          "output_type": "stream",
          "text": [
            "Iteration 110 distortion 1.2776 num_queries 26682\n",
            "Iteration 120 distortion 1.2760 num_queries 29018\n",
            "Iteration 130 distortion 1.2754 num_queries 31368\n",
            "Iteration 140 distortion 1.2747 num_queries 33718\n",
            "Warning: not moving\n",
            "Warning: not moving\n",
            "Warning: not moving\n",
            "Warning: not moving\n",
            "Warning: not moving\n",
            "Warning: not moving\n",
            "Succeed distortion 1.2746 target 8 queries 36486 LS queries 6833\n",
            "\n"
          ],
          "name": "stdout"
        },
        {
          "output_type": "display_data",
          "data": {
            "image/png": "[encoded data removed]",
            "text/plain": [
              "<Figure size 432x288 with 1 Axes>"
            ]
          },
          "metadata": {
            "tags": [],
            "needs_background": "light"
          }
        },
        {
          "output_type": "stream",
          "text": [
            "image batch: 3\n",
            "Searching for the initial direction on 100 random directions: \n",
            "--------> Found distortion 27.0632\n",
            "--------> Found distortion 27.0169\n",
            "--------> Found distortion 21.5984\n",
            "--------> Found distortion 17.4228\n",
            "--------> Found distortion 16.6055\n",
            "==========> Found best distortion 16.6055 in 0.1658 seconds using 213 queries\n",
            "Iteration  10 distortion 3.2003 num_queries 3143\n",
            "Iteration  20 distortion 2.4151 num_queries 5796\n",
            "Iteration  30 distortion 2.2496 num_queries 8194\n",
            "Iteration  40 distortion 2.1689 num_queries 10639\n",
            "Iteration  50 distortion 2.1250 num_queries 13038\n",
            "Iteration  60 distortion 2.1022 num_queries 15409\n",
            "Iteration  70 distortion 2.0831 num_queries 17820\n",
            "Iteration  80 distortion 2.0743 num_queries 20155\n",
            "Iteration  90 distortion 2.0664 num_queries 22533\n",
            "Iteration 100 distortion 2.0595 num_queries 24893\n"
          ],
          "name": "stdout"
        },
        {
          "output_type": "display_data",
          "data": {
            "image/png": "[encoded data removed]",
            "text/plain": [
              "<Figure size 432x288 with 1 Axes>"
            ]
          },
          "metadata": {
            "tags": [],
            "needs_background": "light"
          }
        },
        {
          "output_type": "stream",
          "text": [
            "Iteration 110 distortion 2.0562 num_queries 27268\n",
            "Iteration 120 distortion 2.0529 num_queries 29673\n",
            "Iteration 130 distortion 2.0498 num_queries 32063\n",
            "Warning: not moving\n",
            "Warning: not moving\n",
            "Warning: not moving\n",
            "Warning: not moving\n",
            "Warning: not moving\n",
            "Iteration 140 distortion 2.0493 num_queries 35689\n",
            "Warning: not moving\n",
            "\n",
            "Failed: distortion 2.0493\n"
          ],
          "name": "stdout"
        },
        {
          "output_type": "display_data",
          "data": {
            "image/png": "[encoded data removed]",
            "text/plain": [
              "<Figure size 432x288 with 1 Axes>"
            ]
          },
          "metadata": {
            "tags": [],
            "needs_background": "light"
          }
        },
        {
          "output_type": "stream",
          "text": [
            "image batch: 4\n",
            "Searching for the initial direction on 100 random directions: \n",
            "--------> Found distortion 21.4078\n",
            "--------> Found distortion 20.8551\n",
            "--------> Found distortion 17.9650\n",
            "--------> Found distortion 16.5911\n",
            "--------> Found distortion 13.2291\n",
            "==========> Found best distortion 13.2291 in 0.1623 seconds using 213 queries\n",
            "Iteration  10 distortion 2.3195 num_queries 3060\n",
            "Iteration  20 distortion 1.6858 num_queries 5662\n",
            "Iteration  30 distortion 1.5328 num_queries 8063\n",
            "Iteration  40 distortion 1.4644 num_queries 10439\n",
            "Iteration  50 distortion 1.4300 num_queries 12819\n",
            "Iteration  60 distortion 1.4068 num_queries 15241\n",
            "Iteration  70 distortion 1.3986 num_queries 17628\n",
            "Iteration  80 distortion 1.3900 num_queries 19982\n",
            "Warning: not moving\n",
            "Warning: not moving\n",
            "Warning: not moving\n",
            "Warning: not moving\n",
            "Warning: not moving\n",
            "Warning: not moving\n",
            "Succeed distortion 1.3900 target 9 queries 22214 LS queries 5001\n",
            "\n"
          ],
          "name": "stdout"
        },
        {
          "output_type": "display_data",
          "data": {
            "image/png": "[encoded data removed]",
            "text/plain": [
              "<Figure size 432x288 with 1 Axes>"
            ]
          },
          "metadata": {
            "tags": [],
            "needs_background": "light"
          }
        },
        {
          "output_type": "stream",
          "text": [
            "image batch: 5\n",
            "Searching for the initial direction on 100 random directions: \n",
            "--------> Found distortion 12.1397\n",
            "--------> Found distortion 10.1095\n",
            "--------> Found distortion 10.0546\n",
            "--------> Found distortion 10.0294\n",
            "--------> Found distortion 9.9137\n",
            "--------> Found distortion 9.4115\n",
            "--------> Found distortion 9.0737\n",
            "==========> Found best distortion 9.0737 in 0.2309 seconds using 292 queries\n",
            "Iteration  10 distortion 2.4581 num_queries 3180\n",
            "Iteration  20 distortion 1.9452 num_queries 5758\n",
            "Iteration  30 distortion 1.8227 num_queries 8199\n",
            "Iteration  40 distortion 1.7706 num_queries 10589\n",
            "Iteration  50 distortion 1.7496 num_queries 12973\n",
            "Iteration  60 distortion 1.7348 num_queries 15324\n",
            "Iteration  70 distortion 1.7266 num_queries 17717\n",
            "Iteration  80 distortion 1.7222 num_queries 20092\n",
            "Iteration  90 distortion 1.7194 num_queries 22437\n",
            "Iteration 100 distortion 1.7171 num_queries 24812\n"
          ],
          "name": "stdout"
        },
        {
          "output_type": "display_data",
          "data": {
            "image/png": "[encoded data removed]",
            "text/plain": [
              "<Figure size 432x288 with 1 Axes>"
            ]
          },
          "metadata": {
            "tags": [],
            "needs_background": "light"
          }
        },
        {
          "output_type": "stream",
          "text": [
            "Iteration 110 distortion 1.7159 num_queries 27157\n",
            "Warning: not moving\n",
            "Iteration 120 distortion 1.7150 num_queries 29682\n",
            "Warning: not moving\n",
            "Warning: not moving\n",
            "Warning: not moving\n",
            "Warning: not moving\n",
            "Iteration 130 distortion 1.7150 num_queries 33018\n",
            "Warning: not moving\n",
            "Succeed distortion 1.7150 target 8 queries 33018 LS queries 6726\n",
            "\n"
          ],
          "name": "stdout"
        },
        {
          "output_type": "display_data",
          "data": {
            "image/png": "[encoded data removed]",
            "text/plain": [
              "<Figure size 432x288 with 1 Axes>"
            ]
          },
          "metadata": {
            "tags": [],
            "needs_background": "light"
          }
        },
        {
          "output_type": "stream",
          "text": [
            "image batch: 6\n",
            "Searching for the initial direction on 100 random directions: \n",
            "--------> Found distortion 17.4475\n",
            "--------> Found distortion 17.0817\n",
            "--------> Found distortion 12.2394\n",
            "--------> Found distortion 9.4896\n",
            "--------> Found distortion 8.1227\n",
            "--------> Found distortion 7.6190\n",
            "==========> Found best distortion 7.6190 in 0.2042 seconds using 271 queries\n",
            "Iteration  10 distortion 1.3166 num_queries 3205\n",
            "Iteration  20 distortion 1.1370 num_queries 5722\n",
            "Iteration  30 distortion 1.0774 num_queries 8121\n",
            "Iteration  40 distortion 1.0484 num_queries 10496\n",
            "Iteration  50 distortion 1.0348 num_queries 12840\n",
            "Iteration  60 distortion 1.0282 num_queries 15137\n",
            "Iteration  70 distortion 1.0225 num_queries 17543\n",
            "Iteration  80 distortion 1.0185 num_queries 19882\n",
            "Iteration  90 distortion 1.0152 num_queries 22232\n",
            "Iteration 100 distortion 1.0126 num_queries 24554\n"
          ],
          "name": "stdout"
        },
        {
          "output_type": "display_data",
          "data": {
            "image/png": "[encoded data removed]",
            "text/plain": [
              "<Figure size 432x288 with 1 Axes>"
            ]
          },
          "metadata": {
            "tags": [],
            "needs_background": "light"
          }
        },
        {
          "output_type": "stream",
          "text": [
            "Warning: not moving\n",
            "Iteration 110 distortion 1.0111 num_queries 27143\n",
            "Warning: not moving\n",
            "Warning: not moving\n",
            "Warning: not moving\n",
            "Warning: not moving\n",
            "Iteration 120 distortion 1.0111 num_queries 30275\n",
            "Warning: not moving\n",
            "Succeed distortion 1.0111 target 8 queries 30715 LS queries 6244\n",
            "\n"
          ],
          "name": "stdout"
        },
        {
          "output_type": "display_data",
          "data": {
            "image/png": "[encoded data removed]",
            "text/plain": [
              "<Figure size 432x288 with 1 Axes>"
            ]
          },
          "metadata": {
            "tags": [],
            "needs_background": "light"
          }
        },
        {
          "output_type": "stream",
          "text": [
            "image batch: 7\n",
            "Searching for the initial direction on 100 random directions: \n",
            "--------> Found distortion 9.3488\n",
            "--------> Found distortion 8.1129\n",
            "--------> Found distortion 7.0274\n",
            "==========> Found best distortion 7.0274 in 0.1817 seconds using 239 queries\n",
            "Iteration  10 distortion 1.6871 num_queries 3187\n",
            "Iteration  20 distortion 1.4176 num_queries 5712\n",
            "Iteration  30 distortion 1.3392 num_queries 8113\n",
            "Iteration  40 distortion 1.2988 num_queries 10538\n",
            "Iteration  50 distortion 1.2784 num_queries 12940\n",
            "Iteration  60 distortion 1.2624 num_queries 15284\n",
            "Iteration  70 distortion 1.2521 num_queries 17632\n",
            "Iteration  80 distortion 1.2450 num_queries 20005\n",
            "Iteration  90 distortion 1.2390 num_queries 22425\n",
            "Iteration 100 distortion 1.2358 num_queries 24775\n"
          ],
          "name": "stdout"
        },
        {
          "output_type": "display_data",
          "data": {
            "image/png": "[encoded data removed]",
            "text/plain": [
              "<Figure size 432x288 with 1 Axes>"
            ]
          },
          "metadata": {
            "tags": [],
            "needs_background": "light"
          }
        },
        {
          "output_type": "stream",
          "text": [
            "Iteration 110 distortion 1.2321 num_queries 27125\n",
            "Warning: not moving\n",
            "Iteration 120 distortion 1.2311 num_queries 29730\n",
            "Warning: not moving\n",
            "Warning: not moving\n",
            "Warning: not moving\n",
            "Warning: not moving\n",
            "Warning: not moving\n",
            "Succeed distortion 1.2311 target 4 queries 32093 LS queries 6654\n",
            "\n"
          ],
          "name": "stdout"
        },
        {
          "output_type": "display_data",
          "data": {
            "image/png": "[encoded data removed]",
            "text/plain": [
              "<Figure size 432x288 with 1 Axes>"
            ]
          },
          "metadata": {
            "tags": [],
            "needs_background": "light"
          }
        },
        {
          "output_type": "stream",
          "text": [
            "image batch: 8\n",
            "Searching for the initial direction on 100 random directions: \n",
            "--------> Found distortion 15.9077\n",
            "--------> Found distortion 10.7278\n",
            "--------> Found distortion 10.5196\n",
            "==========> Found best distortion 10.5196 in 0.1872 seconds using 239 queries\n",
            "Iteration  10 distortion 1.6334 num_queries 3143\n",
            "Iteration  20 distortion 1.3695 num_queries 5655\n",
            "Iteration  30 distortion 1.3080 num_queries 8040\n",
            "Iteration  40 distortion 1.2788 num_queries 10368\n",
            "Iteration  50 distortion 1.2669 num_queries 12710\n",
            "Iteration  60 distortion 1.2587 num_queries 15120\n",
            "Iteration  70 distortion 1.2540 num_queries 17442\n",
            "Iteration  80 distortion 1.2506 num_queries 19806\n",
            "Iteration  90 distortion 1.2475 num_queries 22156\n",
            "Warning: not moving\n",
            "Warning: not moving\n",
            "Warning: not moving\n",
            "Warning: not moving\n",
            "Warning: not moving\n",
            "Iteration 100 distortion 1.2462 num_queries 25387\n"
          ],
          "name": "stdout"
        },
        {
          "output_type": "display_data",
          "data": {
            "image/png": "[encoded data removed]",
            "text/plain": [
              "<Figure size 432x288 with 1 Axes>"
            ]
          },
          "metadata": {
            "tags": [],
            "needs_background": "light"
          }
        },
        {
          "output_type": "stream",
          "text": [
            "Warning: not moving\n",
            "Succeed distortion 1.2462 target 6 queries 25387 LS queries 5148\n",
            "\n"
          ],
          "name": "stdout"
        },
        {
          "output_type": "display_data",
          "data": {
            "image/png": "[encoded data removed]",
            "text/plain": [
              "<Figure size 432x288 with 1 Axes>"
            ]
          },
          "metadata": {
            "tags": [],
            "needs_background": "light"
          }
        },
        {
          "output_type": "stream",
          "text": [
            "image batch: 9\n",
            "Searching for the initial direction on 100 random directions: \n",
            "--------> Found distortion 11.9660\n",
            "--------> Found distortion 9.6800\n",
            "--------> Found distortion 8.5663\n",
            "--------> Found distortion 7.0537\n",
            "==========> Found best distortion 7.0537 in 0.1843 seconds using 253 queries\n",
            "Iteration  10 distortion 1.3367 num_queries 3233\n",
            "Iteration  20 distortion 1.1319 num_queries 5731\n",
            "Iteration  30 distortion 1.0728 num_queries 8106\n",
            "Iteration  40 distortion 1.0469 num_queries 10515\n",
            "Iteration  50 distortion 1.0320 num_queries 12905\n",
            "Iteration  60 distortion 1.0142 num_queries 15260\n",
            "Warning: not moving\n",
            "Iteration  70 distortion 1.0049 num_queries 17769\n",
            "Warning: not moving\n",
            "Iteration  80 distortion 1.0048 num_queries 20297\n",
            "Warning: not moving\n",
            "Warning: not moving\n",
            "Warning: not moving\n",
            "Warning: not moving\n",
            "Succeed distortion 1.0048 target 4 queries 21723 LS queries 4670\n",
            "\n"
          ],
          "name": "stdout"
        },
        {
          "output_type": "display_data",
          "data": {
            "image/png": "[encoded data removed]",
            "text/plain": [
              "<Figure size 432x288 with 1 Axes>"
            ]
          },
          "metadata": {
            "tags": [],
            "needs_background": "light"
          }
        },
        {
          "output_type": "stream",
          "text": [
            "image batch: 10\n",
            "Searching for the initial direction on 100 random directions: \n",
            "--------> Found distortion 21.6580\n",
            "--------> Found distortion 20.1782\n",
            "--------> Found distortion 19.3321\n",
            "--------> Found distortion 17.9746\n",
            "==========> Found best distortion 17.9746 in 0.1674 seconds using 225 queries\n",
            "Iteration  10 distortion 3.3302 num_queries 3247\n",
            "Iteration  20 distortion 2.8202 num_queries 5697\n",
            "Iteration  30 distortion 2.6507 num_queries 8161\n",
            "Iteration  40 distortion 2.5916 num_queries 10572\n",
            "Iteration  50 distortion 2.5685 num_queries 12956\n",
            "Iteration  60 distortion 2.5538 num_queries 15366\n",
            "Iteration  70 distortion 2.5447 num_queries 17728\n",
            "Iteration  80 distortion 2.5395 num_queries 20103\n",
            "Warning: not moving\n",
            "Warning: not moving\n",
            "Warning: not moving\n",
            "Warning: not moving\n",
            "Warning: not moving\n",
            "Iteration  90 distortion 2.5394 num_queries 23607\n",
            "Warning: not moving\n",
            "\n",
            "Failed: distortion 2.5394\n"
          ],
          "name": "stdout"
        },
        {
          "output_type": "display_data",
          "data": {
            "image/png": "[encoded data removed]",
            "text/plain": [
              "<Figure size 432x288 with 1 Axes>"
            ]
          },
          "metadata": {
            "tags": [],
            "needs_background": "light"
          }
        },
        {
          "output_type": "stream",
          "text": [
            "image batch: 11\n",
            "Searching for the initial direction on 100 random directions: \n",
            "--------> Found distortion 12.1545\n",
            "--------> Found distortion 9.9638\n",
            "==========> Found best distortion 9.9638 in 0.1693 seconds using 227 queries\n",
            "Iteration  10 distortion 2.4090 num_queries 3178\n",
            "Iteration  20 distortion 1.9974 num_queries 5667\n",
            "Iteration  30 distortion 1.8683 num_queries 8123\n",
            "Iteration  40 distortion 1.8250 num_queries 10509\n",
            "Warning: not moving\n",
            "Warning: not moving\n",
            "Warning: not moving\n",
            "Warning: not moving\n",
            "Warning: not moving\n",
            "Iteration  50 distortion 1.8057 num_queries 14107\n",
            "Warning: not moving\n",
            "Succeed distortion 1.8057 target 8 queries 14107 LS queries 3880\n",
            "\n"
          ],
          "name": "stdout"
        },
        {
          "output_type": "display_data",
          "data": {
            "image/png": "[encoded data removed]",
            "text/plain": [
              "<Figure size 432x288 with 1 Axes>"
            ]
          },
          "metadata": {
            "tags": [],
            "needs_background": "light"
          }
        },
        {
          "output_type": "stream",
          "text": [
            "image batch: 12\n",
            "Searching for the initial direction on 100 random directions: \n",
            "--------> Found distortion 15.8934\n",
            "--------> Found distortion 9.4037\n",
            "--------> Found distortion 7.5033\n",
            "--------> Found distortion 7.0637\n",
            "==========> Found best distortion 7.0637 in 0.1907 seconds using 252 queries\n",
            "Iteration  10 distortion 1.3769 num_queries 3112\n",
            "Iteration  20 distortion 1.1851 num_queries 5638\n",
            "Iteration  30 distortion 1.1179 num_queries 8127\n",
            "Iteration  40 distortion 1.0975 num_queries 10502\n",
            "Iteration  50 distortion 1.0792 num_queries 12844\n",
            "Iteration  60 distortion 1.0612 num_queries 15214\n",
            "Iteration  70 distortion 1.0498 num_queries 17611\n",
            "Iteration  80 distortion 1.0290 num_queries 19990\n",
            "Iteration  90 distortion 1.0164 num_queries 22365\n",
            "Iteration 100 distortion 1.0063 num_queries 24706\n"
          ],
          "name": "stdout"
        },
        {
          "output_type": "display_data",
          "data": {
            "image/png": "[encoded data removed]",
            "text/plain": [
              "<Figure size 432x288 with 1 Axes>"
            ]
          },
          "metadata": {
            "tags": [],
            "needs_background": "light"
          }
        },
        {
          "output_type": "stream",
          "text": [
            "Iteration 110 distortion 0.9958 num_queries 27020\n",
            "Iteration 120 distortion 0.9884 num_queries 29431\n",
            "Warning: not moving\n",
            "Warning: not moving\n",
            "Iteration 130 distortion 0.9859 num_queries 32238\n",
            "Warning: not moving\n",
            "Warning: not moving\n",
            "Warning: not moving\n",
            "Warning: not moving\n",
            "Succeed distortion 0.9859 target 4 queries 34491 LS queries 7039\n",
            "\n"
          ],
          "name": "stdout"
        },
        {
          "output_type": "display_data",
          "data": {
            "image/png": "[encoded data removed]",
            "text/plain": [
              "<Figure size 432x288 with 1 Axes>"
            ]
          },
          "metadata": {
            "tags": [],
            "needs_background": "light"
          }
        },
        {
          "output_type": "stream",
          "text": [
            "image batch: 13\n",
            "Searching for the initial direction on 100 random directions: \n",
            "--------> Found distortion 25.7919\n",
            "--------> Found distortion 24.2437\n",
            "--------> Found distortion 23.4128\n",
            "--------> Found distortion 18.7014\n",
            "--------> Found distortion 17.6336\n",
            "--------> Found distortion 17.1406\n",
            "--------> Found distortion 16.6515\n",
            "==========> Found best distortion 16.6515 in 0.2107 seconds using 260 queries\n",
            "Iteration  10 distortion 3.7055 num_queries 3133\n",
            "Iteration  20 distortion 3.0857 num_queries 5688\n",
            "Iteration  30 distortion 2.9219 num_queries 8167\n",
            "Iteration  40 distortion 2.8529 num_queries 10525\n",
            "Iteration  50 distortion 2.8180 num_queries 12940\n",
            "Iteration  60 distortion 2.7999 num_queries 15323\n",
            "Iteration  70 distortion 2.7891 num_queries 17691\n",
            "Iteration  80 distortion 2.7813 num_queries 20051\n",
            "Iteration  90 distortion 2.7767 num_queries 22411\n",
            "Iteration 100 distortion 2.7741 num_queries 24741\n"
          ],
          "name": "stdout"
        },
        {
          "output_type": "display_data",
          "data": {
            "image/png": "[encoded data removed]",
            "text/plain": [
              "<Figure size 432x288 with 1 Axes>"
            ]
          },
          "metadata": {
            "tags": [],
            "needs_background": "light"
          }
        },
        {
          "output_type": "stream",
          "text": [
            "Iteration 110 distortion 2.7710 num_queries 27101\n",
            "Iteration 120 distortion 2.7693 num_queries 29521\n",
            "Iteration 130 distortion 2.7676 num_queries 31911\n",
            "Iteration 140 distortion 2.7667 num_queries 34316\n",
            "Iteration 150 distortion 2.7658 num_queries 36721\n",
            "Iteration 160 distortion 2.7649 num_queries 39036\n",
            "Iteration 170 distortion 2.7645 num_queries 41426\n",
            "Iteration 180 distortion 2.7639 num_queries 43756\n",
            "Iteration 190 distortion 2.7637 num_queries 46131\n",
            "Warning: not moving\n",
            "Warning: not moving\n",
            "Warning: not moving\n",
            "Warning: not moving\n",
            "Iteration 200 distortion 2.7637 num_queries 49410\n"
          ],
          "name": "stdout"
        },
        {
          "output_type": "display_data",
          "data": {
            "image/png": "[encoded data removed]",
            "text/plain": [
              "<Figure size 432x288 with 1 Axes>"
            ]
          },
          "metadata": {
            "tags": [],
            "needs_background": "light"
          }
        },
        {
          "output_type": "stream",
          "text": [
            "Warning: not moving\n",
            "Warning: not moving\n",
            "\n",
            "Failed: distortion 2.7637\n"
          ],
          "name": "stdout"
        },
        {
          "output_type": "display_data",
          "data": {
            "image/png": "[encoded data removed]",
            "text/plain": [
              "<Figure size 432x288 with 1 Axes>"
            ]
          },
          "metadata": {
            "tags": [],
            "needs_background": "light"
          }
        },
        {
          "output_type": "stream",
          "text": [
            "image batch: 14\n",
            "Searching for the initial direction on 100 random directions: \n",
            "--------> Found distortion 12.7663\n",
            "--------> Found distortion 10.7100\n",
            "--------> Found distortion 10.5904\n",
            "--------> Found distortion 10.1651\n",
            "--------> Found distortion 8.6264\n",
            "--------> Found distortion 8.5011\n",
            "--------> Found distortion 7.7726\n",
            "==========> Found best distortion 7.7726 in 0.2278 seconds using 292 queries\n",
            "Iteration  10 distortion 2.0969 num_queries 3113\n",
            "Iteration  20 distortion 1.7535 num_queries 5659\n",
            "Iteration  30 distortion 1.6577 num_queries 8066\n",
            "Iteration  40 distortion 1.6208 num_queries 10479\n",
            "Iteration  50 distortion 1.6035 num_queries 12827\n",
            "Iteration  60 distortion 1.5923 num_queries 15157\n",
            "Iteration  70 distortion 1.5874 num_queries 17493\n",
            "Iteration  80 distortion 1.5835 num_queries 19815\n",
            "Iteration  90 distortion 1.5808 num_queries 22221\n",
            "Iteration 100 distortion 1.5792 num_queries 24557\n"
          ],
          "name": "stdout"
        },
        {
          "output_type": "display_data",
          "data": {
            "image/png": "[encoded data removed]",
            "text/plain": [
              "<Figure size 432x288 with 1 Axes>"
            ]
          },
          "metadata": {
            "tags": [],
            "needs_background": "light"
          }
        },
        {
          "output_type": "stream",
          "text": [
            "Iteration 110 distortion 1.5782 num_queries 26879\n",
            "Iteration 120 distortion 1.5768 num_queries 29187\n",
            "Warning: not moving\n",
            "Warning: not moving\n",
            "Warning: not moving\n",
            "Warning: not moving\n",
            "Iteration 130 distortion 1.5765 num_queries 32468\n",
            "Warning: not moving\n",
            "Warning: not moving\n",
            "Succeed distortion 1.5765 target 8 queries 33004 LS queries 6512\n",
            "\n"
          ],
          "name": "stdout"
        },
        {
          "output_type": "display_data",
          "data": {
            "image/png": "[encoded data removed]",
            "text/plain": [
              "<Figure size 432x288 with 1 Axes>"
            ]
          },
          "metadata": {
            "tags": [],
            "needs_background": "light"
          }
        },
        {
          "output_type": "stream",
          "text": [
            "image batch: 15\n",
            "Searching for the initial direction on 100 random directions: \n",
            "--------> Found distortion 11.2962\n",
            "--------> Found distortion 9.5560\n",
            "--------> Found distortion 8.8748\n",
            "==========> Found best distortion 8.8748 in 0.1786 seconds using 240 queries\n",
            "Iteration  10 distortion 1.4790 num_queries 3223\n",
            "Iteration  20 distortion 1.0631 num_queries 5796\n",
            "Iteration  30 distortion 0.9798 num_queries 8258\n",
            "Iteration  40 distortion 0.9472 num_queries 10704\n",
            "Iteration  50 distortion 0.9285 num_queries 13048\n",
            "Iteration  60 distortion 0.9162 num_queries 15391\n",
            "Iteration  70 distortion 0.9076 num_queries 17749\n",
            "Iteration  80 distortion 0.9032 num_queries 20088\n",
            "Iteration  90 distortion 0.8987 num_queries 22399\n",
            "Iteration 100 distortion 0.8954 num_queries 24752\n"
          ],
          "name": "stdout"
        },
        {
          "output_type": "display_data",
          "data": {
            "image/png": "[encoded data removed]",
            "text/plain": [
              "<Figure size 432x288 with 1 Axes>"
            ]
          },
          "metadata": {
            "tags": [],
            "needs_background": "light"
          }
        },
        {
          "output_type": "stream",
          "text": [
            "Warning: not moving\n",
            "Warning: not moving\n",
            "Warning: not moving\n",
            "Warning: not moving\n",
            "Warning: not moving\n",
            "Warning: not moving\n",
            "Succeed distortion 0.8948 target 3 queries 27401 LS queries 5761\n",
            "\n"
          ],
          "name": "stdout"
        },
        {
          "output_type": "display_data",
          "data": {
            "image/png": "[encoded data removed]",
            "text/plain": [
              "<Figure size 432x288 with 1 Axes>"
            ]
          },
          "metadata": {
            "tags": [],
            "needs_background": "light"
          }
        },
        {
          "output_type": "stream",
          "text": [
            "image batch: 16\n",
            "Searching for the initial direction on 100 random directions: \n",
            "--------> Found distortion 11.5925\n",
            "--------> Found distortion 11.5083\n",
            "--------> Found distortion 10.1210\n",
            "--------> Found distortion 9.1166\n",
            "==========> Found best distortion 9.1166 in 0.1998 seconds using 252 queries\n",
            "Iteration  10 distortion 1.4820 num_queries 3243\n",
            "Iteration  20 distortion 1.2493 num_queries 5794\n",
            "Iteration  30 distortion 1.1715 num_queries 8188\n",
            "Iteration  40 distortion 1.1266 num_queries 10547\n",
            "Iteration  50 distortion 1.1022 num_queries 12963\n",
            "Iteration  60 distortion 1.0883 num_queries 15334\n",
            "Iteration  70 distortion 1.0782 num_queries 17688\n",
            "Warning: not moving\n",
            "Iteration  80 distortion 1.0709 num_queries 20168\n",
            "Warning: not moving\n",
            "Iteration  90 distortion 1.0705 num_queries 23009\n",
            "Warning: not moving\n",
            "Warning: not moving\n",
            "Warning: not moving\n",
            "Warning: not moving\n",
            "Succeed distortion 1.0705 target 4 queries 24532 LS queries 5480\n",
            "\n"
          ],
          "name": "stdout"
        },
        {
          "output_type": "display_data",
          "data": {
            "image/png": "[encoded data removed]",
            "text/plain": [
              "<Figure size 432x288 with 1 Axes>"
            ]
          },
          "metadata": {
            "tags": [],
            "needs_background": "light"
          }
        },
        {
          "output_type": "stream",
          "text": [
            "image batch: 17\n",
            "Searching for the initial direction on 100 random directions: \n",
            "--------> Found distortion 18.8420\n",
            "--------> Found distortion 15.3407\n",
            "--------> Found distortion 14.2087\n",
            "--------> Found distortion 13.2868\n",
            "--------> Found distortion 12.4045\n",
            "==========> Found best distortion 12.4045 in 0.1879 seconds using 240 queries\n",
            "Iteration  10 distortion 2.7701 num_queries 3221\n",
            "Iteration  20 distortion 2.3387 num_queries 5769\n",
            "Iteration  30 distortion 2.2176 num_queries 8204\n",
            "Iteration  40 distortion 2.1659 num_queries 10619\n",
            "Iteration  50 distortion 2.1391 num_queries 13047\n",
            "Iteration  60 distortion 2.1205 num_queries 15398\n",
            "Iteration  70 distortion 2.1084 num_queries 17794\n",
            "Iteration  80 distortion 2.1006 num_queries 20169\n",
            "Warning: not moving\n",
            "Warning: not moving\n",
            "Warning: not moving\n",
            "Warning: not moving\n",
            "Iteration  90 distortion 2.0958 num_queries 23569\n",
            "Warning: not moving\n",
            "Warning: not moving\n",
            "\n",
            "Failed: distortion 2.0957\n"
          ],
          "name": "stdout"
        },
        {
          "output_type": "display_data",
          "data": {
            "image/png": "[encoded data removed]",
            "text/plain": [
              "<Figure size 432x288 with 1 Axes>"
            ]
          },
          "metadata": {
            "tags": [],
            "needs_background": "light"
          }
        },
        {
          "output_type": "stream",
          "text": [
            "image batch: 18\n",
            "Searching for the initial direction on 100 random directions: \n",
            "--------> Found distortion 15.0548\n",
            "--------> Found distortion 14.9795\n",
            "--------> Found distortion 9.3201\n",
            "--------> Found distortion 8.4094\n",
            "--------> Found distortion 8.0645\n",
            "==========> Found best distortion 8.0645 in 0.2130 seconds using 265 queries\n",
            "Iteration  10 distortion 1.4835 num_queries 3145\n",
            "Iteration  20 distortion 1.3106 num_queries 5541\n",
            "Iteration  30 distortion 1.2145 num_queries 7954\n",
            "Iteration  40 distortion 1.1601 num_queries 10402\n",
            "Iteration  50 distortion 1.1252 num_queries 12881\n",
            "Iteration  60 distortion 1.1007 num_queries 15284\n",
            "Warning: not moving\n",
            "Warning: not moving\n",
            "Warning: not moving\n",
            "Iteration  70 distortion 1.0921 num_queries 18294\n",
            "Warning: not moving\n",
            "Warning: not moving\n",
            "Warning: not moving\n",
            "Succeed distortion 1.0921 target 8 queries 20425 LS queries 4960\n",
            "\n"
          ],
          "name": "stdout"
        },
        {
          "output_type": "display_data",
          "data": {
            "image/png": "[encoded data removed]",
            "text/plain": [
              "<Figure size 432x288 with 1 Axes>"
            ]
          },
          "metadata": {
            "tags": [],
            "needs_background": "light"
          }
        },
        {
          "output_type": "stream",
          "text": [
            "image batch: 19\n",
            "Searching for the initial direction on 100 random directions: \n",
            "--------> Found distortion 18.0859\n",
            "--------> Found distortion 17.3496\n",
            "--------> Found distortion 13.9854\n",
            "==========> Found best distortion 13.9854 in 0.1578 seconds using 207 queries\n",
            "Iteration  10 distortion 2.2534 num_queries 3217\n",
            "Iteration  20 distortion 1.7453 num_queries 5785\n",
            "Iteration  30 distortion 1.6320 num_queries 8247\n",
            "Iteration  40 distortion 1.5946 num_queries 10591\n",
            "Iteration  50 distortion 1.5735 num_queries 12923\n",
            "Iteration  60 distortion 1.5623 num_queries 15239\n",
            "Iteration  70 distortion 1.5553 num_queries 17608\n",
            "Iteration  80 distortion 1.5503 num_queries 19930\n",
            "Warning: not moving\n",
            "Warning: not moving\n",
            "Warning: not moving\n",
            "Warning: not moving\n",
            "Warning: not moving\n",
            "Warning: not moving\n",
            "Succeed distortion 1.5494 target 9 queries 23072 LS queries 5265\n",
            "\n"
          ],
          "name": "stdout"
        },
        {
          "output_type": "display_data",
          "data": {
            "image/png": "[encoded data removed]",
            "text/plain": [
              "<Figure size 432x288 with 1 Axes>"
            ]
          },
          "metadata": {
            "tags": [],
            "needs_background": "light"
          }
        },
        {
          "output_type": "stream",
          "text": [
            "image batch: 20\n",
            "Searching for the initial direction on 100 random directions: \n",
            "--------> Found distortion 13.0128\n",
            "--------> Found distortion 11.6221\n",
            "--------> Found distortion 11.3277\n",
            "--------> Found distortion 8.9500\n",
            "--------> Found distortion 8.0836\n",
            "==========> Found best distortion 8.0836 in 0.2296 seconds using 266 queries\n",
            "Iteration  10 distortion 1.2657 num_queries 3185\n",
            "Iteration  20 distortion 1.0774 num_queries 5733\n",
            "Iteration  30 distortion 0.9915 num_queries 8206\n",
            "Iteration  40 distortion 0.9519 num_queries 10581\n",
            "Iteration  50 distortion 0.9334 num_queries 12927\n",
            "Iteration  60 distortion 0.9166 num_queries 15273\n",
            "Iteration  70 distortion 0.9050 num_queries 17660\n",
            "Iteration  80 distortion 0.8961 num_queries 20057\n",
            "Iteration  90 distortion 0.8919 num_queries 22396\n",
            "Warning: not moving\n",
            "Warning: not moving\n",
            "Warning: not moving\n",
            "Iteration 100 distortion 0.8887 num_queries 25423\n"
          ],
          "name": "stdout"
        },
        {
          "output_type": "display_data",
          "data": {
            "image/png": "[encoded data removed]",
            "text/plain": [
              "<Figure size 432x288 with 1 Axes>"
            ]
          },
          "metadata": {
            "tags": [],
            "needs_background": "light"
          }
        },
        {
          "output_type": "stream",
          "text": [
            "Warning: not moving\n",
            "Warning: not moving\n",
            "Warning: not moving\n",
            "Succeed distortion 0.8887 target 7 queries 26719 LS queries 5853\n",
            "\n"
          ],
          "name": "stdout"
        },
        {
          "output_type": "display_data",
          "data": {
            "image/png": "[encoded data removed]",
            "text/plain": [
              "<Figure size 432x288 with 1 Axes>"
            ]
          },
          "metadata": {
            "tags": [],
            "needs_background": "light"
          }
        },
        {
          "output_type": "stream",
          "text": [
            "image batch: 21\n",
            "Searching for the initial direction on 100 random directions: \n",
            "--------> Found distortion 15.8862\n",
            "--------> Found distortion 13.1403\n",
            "--------> Found distortion 12.4481\n",
            "--------> Found distortion 10.2562\n",
            "--------> Found distortion 10.1710\n",
            "==========> Found best distortion 10.1710 in 0.1920 seconds using 265 queries\n",
            "Iteration  10 distortion 2.2371 num_queries 3186\n",
            "Iteration  20 distortion 1.8875 num_queries 5719\n",
            "Iteration  30 distortion 1.7459 num_queries 8158\n",
            "Iteration  40 distortion 1.7145 num_queries 10572\n",
            "Iteration  50 distortion 1.6953 num_queries 12936\n",
            "Iteration  60 distortion 1.6821 num_queries 15284\n",
            "Iteration  70 distortion 1.6712 num_queries 17620\n",
            "Iteration  80 distortion 1.6649 num_queries 19980\n",
            "Iteration  90 distortion 1.6601 num_queries 22295\n",
            "Iteration 100 distortion 1.6547 num_queries 24640\n"
          ],
          "name": "stdout"
        },
        {
          "output_type": "display_data",
          "data": {
            "image/png": "[encoded data removed]",
            "text/plain": [
              "<Figure size 432x288 with 1 Axes>"
            ]
          },
          "metadata": {
            "tags": [],
            "needs_background": "light"
          }
        },
        {
          "output_type": "stream",
          "text": [
            "Warning: not moving\n",
            "Warning: not moving\n",
            "Warning: not moving\n",
            "Iteration 110 distortion 1.6542 num_queries 27567\n",
            "Warning: not moving\n",
            "Warning: not moving\n",
            "Warning: not moving\n",
            "Succeed distortion 1.6540 target 8 queries 30277 LS queries 6412\n",
            "\n"
          ],
          "name": "stdout"
        },
        {
          "output_type": "display_data",
          "data": {
            "image/png": "[encoded data removed]",
            "text/plain": [
              "<Figure size 432x288 with 1 Axes>"
            ]
          },
          "metadata": {
            "tags": [],
            "needs_background": "light"
          }
        },
        {
          "output_type": "stream",
          "text": [
            "image batch: 22\n",
            "Searching for the initial direction on 100 random directions: \n",
            "--------> Found distortion 18.2294\n",
            "--------> Found distortion 15.8489\n",
            "--------> Found distortion 14.4772\n",
            "--------> Found distortion 13.5335\n",
            "--------> Found distortion 12.9801\n",
            "--------> Found distortion 11.5699\n",
            "==========> Found best distortion 11.5699 in 0.2109 seconds using 276 queries\n",
            "Iteration  10 distortion 2.7582 num_queries 3230\n",
            "Iteration  20 distortion 2.2185 num_queries 5754\n",
            "Iteration  30 distortion 2.0763 num_queries 8190\n",
            "Iteration  40 distortion 2.0248 num_queries 10591\n",
            "Iteration  50 distortion 1.9930 num_queries 12970\n",
            "Iteration  60 distortion 1.9732 num_queries 15308\n",
            "Iteration  70 distortion 1.9646 num_queries 17668\n",
            "Iteration  80 distortion 1.9591 num_queries 20028\n",
            "Iteration  90 distortion 1.9547 num_queries 22403\n",
            "Iteration 100 distortion 1.9513 num_queries 24733\n"
          ],
          "name": "stdout"
        },
        {
          "output_type": "display_data",
          "data": {
            "image/png": "[encoded data removed]",
            "text/plain": [
              "<Figure size 432x288 with 1 Axes>"
            ]
          },
          "metadata": {
            "tags": [],
            "needs_background": "light"
          }
        },
        {
          "output_type": "stream",
          "text": [
            "Iteration 110 distortion 1.9486 num_queries 27123\n",
            "Iteration 120 distortion 1.9448 num_queries 29528\n",
            "Iteration 130 distortion 1.9397 num_queries 31933\n",
            "Iteration 140 distortion 1.9366 num_queries 34368\n",
            "Iteration 150 distortion 1.9343 num_queries 36728\n",
            "Iteration 160 distortion 1.9323 num_queries 39118\n",
            "Warning: not moving\n",
            "Iteration 170 distortion 1.9307 num_queries 41718\n",
            "Warning: not moving\n",
            "Warning: not moving\n",
            "Warning: not moving\n",
            "Warning: not moving\n",
            "Warning: not moving\n",
            "Succeed distortion 1.9306 target 8 queries 44669 LS queries 8793\n",
            "\n"
          ],
          "name": "stdout"
        },
        {
          "output_type": "display_data",
          "data": {
            "image/png": "[encoded data removed]",
            "text/plain": [
              "<Figure size 432x288 with 1 Axes>"
            ]
          },
          "metadata": {
            "tags": [],
            "needs_background": "light"
          }
        },
        {
          "output_type": "stream",
          "text": [
            "image batch: 23\n",
            "Searching for the initial direction on 100 random directions: \n",
            "--------> Found distortion 15.3467\n",
            "--------> Found distortion 11.7854\n",
            "--------> Found distortion 11.4984\n",
            "==========> Found best distortion 11.4984 in 0.1714 seconds using 240 queries\n",
            "Iteration  10 distortion 2.8823 num_queries 3138\n",
            "Iteration  20 distortion 2.3937 num_queries 5575\n",
            "Iteration  30 distortion 2.2899 num_queries 8006\n",
            "Iteration  40 distortion 2.2534 num_queries 10403\n",
            "Iteration  50 distortion 2.2331 num_queries 12788\n",
            "Iteration  60 distortion 2.2199 num_queries 15186\n",
            "Iteration  70 distortion 2.2131 num_queries 17531\n",
            "Iteration  80 distortion 2.2094 num_queries 19876\n",
            "Iteration  90 distortion 2.2071 num_queries 22236\n",
            "Iteration 100 distortion 2.2048 num_queries 24566\n"
          ],
          "name": "stdout"
        },
        {
          "output_type": "display_data",
          "data": {
            "image/png": "[encoded data removed]",
            "text/plain": [
              "<Figure size 432x288 with 1 Axes>"
            ]
          },
          "metadata": {
            "tags": [],
            "needs_background": "light"
          }
        },
        {
          "output_type": "stream",
          "text": [
            "Iteration 110 distortion 2.2032 num_queries 26881\n",
            "Iteration 120 distortion 2.2021 num_queries 29196\n",
            "Iteration 130 distortion 2.2011 num_queries 31541\n",
            "Warning: not moving\n",
            "Warning: not moving\n",
            "Warning: not moving\n",
            "Warning: not moving\n",
            "Warning: not moving\n",
            "Warning: not moving\n",
            "\n",
            "Failed: distortion 2.2011\n"
          ],
          "name": "stdout"
        },
        {
          "output_type": "display_data",
          "data": {
            "image/png": "[encoded data removed]",
            "text/plain": [
              "<Figure size 432x288 with 1 Axes>"
            ]
          },
          "metadata": {
            "tags": [],
            "needs_background": "light"
          }
        },
        {
          "output_type": "stream",
          "text": [
            "image batch: 24\n",
            "Searching for the initial direction on 100 random directions: \n",
            "--------> Found distortion 17.9779\n",
            "--------> Found distortion 17.0458\n",
            "--------> Found distortion 15.1341\n",
            "--------> Found distortion 14.3849\n",
            "--------> Found distortion 14.0434\n",
            "--------> Found distortion 14.0237\n",
            "--------> Found distortion 11.9643\n",
            "==========> Found best distortion 11.9643 in 0.2146 seconds using 265 queries\n",
            "Iteration  10 distortion 1.5322 num_queries 3236\n",
            "Iteration  20 distortion 1.1778 num_queries 5738\n",
            "Iteration  30 distortion 1.1006 num_queries 8060\n",
            "Iteration  40 distortion 1.0719 num_queries 10375\n",
            "Iteration  50 distortion 1.0564 num_queries 12754\n",
            "Warning: not moving\n",
            "Iteration  60 distortion 1.0547 num_queries 15439\n",
            "Iteration  70 distortion 1.0541 num_queries 18000\n",
            "Warning: not moving\n",
            "Warning: not moving\n",
            "Warning: not moving\n",
            "Iteration  80 distortion 1.0539 num_queries 20996\n",
            "Warning: not moving\n",
            "Warning: not moving\n",
            "Succeed distortion 1.0539 target 9 queries 21911 LS queries 5046\n",
            "\n"
          ],
          "name": "stdout"
        },
        {
          "output_type": "display_data",
          "data": {
            "image/png": "[encoded data removed]",
            "text/plain": [
              "<Figure size 432x288 with 1 Axes>"
            ]
          },
          "metadata": {
            "tags": [],
            "needs_background": "light"
          }
        },
        {
          "output_type": "stream",
          "text": [
            "image batch: 25\n",
            "Searching for the initial direction on 100 random directions: \n",
            "--------> Found distortion 18.2700\n",
            "==========> Found best distortion 18.2700 in 0.1217 seconds using 163 queries\n",
            "Iteration  10 distortion 3.2202 num_queries 3222\n",
            "Iteration  20 distortion 2.5167 num_queries 5807\n",
            "Iteration  30 distortion 2.3668 num_queries 8243\n",
            "Iteration  40 distortion 2.2986 num_queries 10612\n",
            "Iteration  50 distortion 2.2634 num_queries 12995\n",
            "Iteration  60 distortion 2.2373 num_queries 15412\n",
            "Iteration  70 distortion 2.2206 num_queries 17765\n",
            "Iteration  80 distortion 2.2034 num_queries 20112\n",
            "Iteration  90 distortion 2.1890 num_queries 22487\n",
            "Iteration 100 distortion 2.1823 num_queries 24892\n"
          ],
          "name": "stdout"
        },
        {
          "output_type": "display_data",
          "data": {
            "image/png": "[encoded data removed]",
            "text/plain": [
              "<Figure size 432x288 with 1 Axes>"
            ]
          },
          "metadata": {
            "tags": [],
            "needs_background": "light"
          }
        },
        {
          "output_type": "stream",
          "text": [
            "Iteration 110 distortion 2.1768 num_queries 27239\n",
            "Iteration 120 distortion 2.1739 num_queries 29629\n",
            "Iteration 130 distortion 2.1692 num_queries 32021\n",
            "Iteration 140 distortion 2.1645 num_queries 34411\n",
            "Iteration 150 distortion 2.1618 num_queries 36756\n",
            "Warning: not moving\n",
            "Warning: not moving\n",
            "Warning: not moving\n",
            "Warning: not moving\n",
            "Iteration 160 distortion 2.1613 num_queries 39695\n",
            "Warning: not moving\n",
            "Warning: not moving\n",
            "\n",
            "Failed: distortion 2.1613\n"
          ],
          "name": "stdout"
        },
        {
          "output_type": "display_data",
          "data": {
            "image/png": "[encoded data removed]",
            "text/plain": [
              "<Figure size 432x288 with 1 Axes>"
            ]
          },
          "metadata": {
            "tags": [],
            "needs_background": "light"
          }
        },
        {
          "output_type": "stream",
          "text": [
            "image batch: 26\n",
            "Searching for the initial direction on 100 random directions: \n",
            "--------> Found distortion 14.1679\n",
            "--------> Found distortion 14.0589\n",
            "--------> Found distortion 10.6317\n",
            "==========> Found best distortion 10.6317 in 0.1798 seconds using 234 queries\n",
            "Iteration  10 distortion 1.9711 num_queries 3158\n",
            "Iteration  20 distortion 1.6135 num_queries 5697\n",
            "Iteration  30 distortion 1.5180 num_queries 8157\n",
            "Iteration  40 distortion 1.4609 num_queries 10530\n",
            "Iteration  50 distortion 1.4246 num_queries 12890\n",
            "Iteration  60 distortion 1.4040 num_queries 15266\n",
            "Iteration  70 distortion 1.3906 num_queries 17611\n",
            "Iteration  80 distortion 1.3856 num_queries 19933\n",
            "Iteration  90 distortion 1.3801 num_queries 22287\n",
            "Iteration 100 distortion 1.3771 num_queries 24651\n"
          ],
          "name": "stdout"
        },
        {
          "output_type": "display_data",
          "data": {
            "image/png": "[encoded data removed]",
            "text/plain": [
              "<Figure size 432x288 with 1 Axes>"
            ]
          },
          "metadata": {
            "tags": [],
            "needs_background": "light"
          }
        },
        {
          "output_type": "stream",
          "text": [
            "Iteration 110 distortion 1.3753 num_queries 27029\n",
            "Iteration 120 distortion 1.3740 num_queries 29393\n",
            "Iteration 130 distortion 1.3728 num_queries 31715\n",
            "Iteration 140 distortion 1.3718 num_queries 34065\n",
            "Iteration 150 distortion 1.3712 num_queries 36401\n",
            "Warning: not moving\n",
            "Warning: not moving\n",
            "Iteration 160 distortion 1.3705 num_queries 39193\n",
            "Warning: not moving\n",
            "Warning: not moving\n",
            "Warning: not moving\n",
            "Warning: not moving\n",
            "Succeed distortion 1.3705 target 3 queries 41021 LS queries 7987\n",
            "\n"
          ],
          "name": "stdout"
        },
        {
          "output_type": "display_data",
          "data": {
            "image/png": "[encoded data removed]",
            "text/plain": [
              "<Figure size 432x288 with 1 Axes>"
            ]
          },
          "metadata": {
            "tags": [],
            "needs_background": "light"
          }
        },
        {
          "output_type": "stream",
          "text": [
            "image batch: 27\n",
            "Searching for the initial direction on 100 random directions: \n",
            "--------> Found distortion 17.3775\n",
            "==========> Found best distortion 17.3775 in 0.1373 seconds using 151 queries\n",
            "Iteration  10 distortion 2.6641 num_queries 3096\n",
            "Iteration  20 distortion 2.0908 num_queries 5723\n",
            "Iteration  30 distortion 1.8864 num_queries 8177\n",
            "Iteration  40 distortion 1.8097 num_queries 10567\n",
            "Iteration  50 distortion 1.7662 num_queries 12933\n",
            "Iteration  60 distortion 1.7442 num_queries 15312\n",
            "Warning: not moving\n",
            "Iteration  70 distortion 1.7308 num_queries 17858\n",
            "Warning: not moving\n",
            "Warning: not moving\n",
            "Warning: not moving\n",
            "Warning: not moving\n",
            "Iteration  80 distortion 1.7305 num_queries 21260\n",
            "Warning: not moving\n",
            "Succeed distortion 1.7305 target 9 queries 21260 LS queries 5109\n",
            "\n"
          ],
          "name": "stdout"
        },
        {
          "output_type": "display_data",
          "data": {
            "image/png": "[encoded data removed]",
            "text/plain": [
              "<Figure size 432x288 with 1 Axes>"
            ]
          },
          "metadata": {
            "tags": [],
            "needs_background": "light"
          }
        },
        {
          "output_type": "stream",
          "text": [
            "image batch: 28\n",
            "Searching for the initial direction on 100 random directions: \n",
            "--------> Found distortion 24.7778\n",
            "--------> Found distortion 23.0152\n",
            "--------> Found distortion 22.4371\n",
            "--------> Found distortion 18.7533\n",
            "--------> Found distortion 18.1484\n",
            "--------> Found distortion 16.5744\n",
            "==========> Found best distortion 16.5744 in 0.1805 seconds using 234 queries\n",
            "Iteration  10 distortion 3.0384 num_queries 3130\n",
            "Iteration  20 distortion 2.5117 num_queries 5674\n",
            "Iteration  30 distortion 2.3704 num_queries 8123\n",
            "Iteration  40 distortion 2.3290 num_queries 10498\n",
            "Iteration  50 distortion 2.3069 num_queries 12852\n",
            "Iteration  60 distortion 2.2946 num_queries 15214\n",
            "Iteration  70 distortion 2.2897 num_queries 17574\n",
            "Iteration  80 distortion 2.2868 num_queries 19934\n",
            "Iteration  90 distortion 2.2845 num_queries 22309\n",
            "Warning: not moving\n",
            "Warning: not moving\n",
            "Warning: not moving\n",
            "Warning: not moving\n",
            "Warning: not moving\n",
            "Warning: not moving\n",
            "\n",
            "Failed: distortion 2.2844\n"
          ],
          "name": "stdout"
        },
        {
          "output_type": "display_data",
          "data": {
            "image/png": "[encoded data removed]",
            "text/plain": [
              "<Figure size 432x288 with 1 Axes>"
            ]
          },
          "metadata": {
            "tags": [],
            "needs_background": "light"
          }
        },
        {
          "output_type": "stream",
          "text": [
            "image batch: 29\n",
            "Searching for the initial direction on 100 random directions: \n",
            "--------> Found distortion 8.1937\n",
            "--------> Found distortion 8.1807\n",
            "--------> Found distortion 7.6364\n",
            "--------> Found distortion 6.9382\n",
            "--------> Found distortion 6.6503\n",
            "--------> Found distortion 6.6251\n",
            "--------> Found distortion 6.6186\n",
            "--------> Found distortion 6.2817\n",
            "==========> Found best distortion 6.2817 in 0.2299 seconds using 299 queries\n",
            "Iteration  10 distortion 1.8104 num_queries 3229\n",
            "Iteration  20 distortion 1.2908 num_queries 5823\n",
            "Iteration  30 distortion 1.1950 num_queries 8254\n",
            "Iteration  40 distortion 1.1503 num_queries 10690\n",
            "Iteration  50 distortion 1.1256 num_queries 13081\n",
            "Iteration  60 distortion 1.1140 num_queries 15427\n",
            "Iteration  70 distortion 1.1078 num_queries 17767\n",
            "Iteration  80 distortion 1.1027 num_queries 20079\n",
            "Iteration  90 distortion 1.1007 num_queries 22387\n",
            "Iteration 100 distortion 1.0987 num_queries 24709\n"
          ],
          "name": "stdout"
        },
        {
          "output_type": "display_data",
          "data": {
            "image/png": "[encoded data removed]",
            "text/plain": [
              "<Figure size 432x288 with 1 Axes>"
            ]
          },
          "metadata": {
            "tags": [],
            "needs_background": "light"
          }
        },
        {
          "output_type": "stream",
          "text": [
            "Iteration 110 distortion 1.0971 num_queries 27045\n",
            "Iteration 120 distortion 1.0960 num_queries 29409\n",
            "Iteration 130 distortion 1.0950 num_queries 31731\n",
            "Iteration 140 distortion 1.0943 num_queries 34067\n",
            "Iteration 150 distortion 1.0938 num_queries 36389\n",
            "Warning: not moving\n",
            "Iteration 160 distortion 1.0933 num_queries 38967\n",
            "Warning: not moving\n",
            "Warning: not moving\n",
            "Warning: not moving\n",
            "Warning: not moving\n",
            "Warning: not moving\n",
            "Succeed distortion 1.0933 target 8 queries 41020 LS queries 7721\n",
            "\n"
          ],
          "name": "stdout"
        },
        {
          "output_type": "display_data",
          "data": {
            "image/png": "[encoded data removed]",
            "text/plain": [
              "<Figure size 432x288 with 1 Axes>"
            ]
          },
          "metadata": {
            "tags": [],
            "needs_background": "light"
          }
        },
        {
          "output_type": "stream",
          "text": [
            "image batch: 30\n",
            "Searching for the initial direction on 100 random directions: \n",
            "--------> Found distortion 21.9769\n",
            "--------> Found distortion 19.1238\n",
            "--------> Found distortion 19.1139\n",
            "--------> Found distortion 19.0136\n",
            "--------> Found distortion 18.0318\n",
            "--------> Found distortion 17.6158\n",
            "--------> Found distortion 14.9913\n",
            "==========> Found best distortion 14.9913 in 0.2079 seconds using 260 queries\n",
            "Iteration  10 distortion 4.2101 num_queries 3197\n",
            "Iteration  20 distortion 3.4829 num_queries 5729\n",
            "Iteration  30 distortion 3.2931 num_queries 8128\n",
            "Iteration  40 distortion 3.2042 num_queries 10504\n",
            "Iteration  50 distortion 3.1604 num_queries 12919\n",
            "Iteration  60 distortion 3.1231 num_queries 15287\n",
            "Iteration  70 distortion 3.1045 num_queries 17655\n",
            "Iteration  80 distortion 3.0862 num_queries 20023\n",
            "Iteration  90 distortion 3.0711 num_queries 22462\n",
            "Iteration 100 distortion 3.0608 num_queries 24822\n"
          ],
          "name": "stdout"
        },
        {
          "output_type": "display_data",
          "data": {
            "image/png": "[encoded data removed]",
            "text/plain": [
              "<Figure size 432x288 with 1 Axes>"
            ]
          },
          "metadata": {
            "tags": [],
            "needs_background": "light"
          }
        },
        {
          "output_type": "stream",
          "text": [
            "Iteration 110 distortion 3.0544 num_queries 27182\n",
            "Iteration 120 distortion 3.0494 num_queries 29527\n",
            "Iteration 130 distortion 3.0458 num_queries 31902\n",
            "Iteration 140 distortion 3.0404 num_queries 34262\n",
            "Iteration 150 distortion 3.0381 num_queries 36712\n",
            "Warning: not moving\n",
            "Warning: not moving\n",
            "Warning: not moving\n",
            "Warning: not moving\n",
            "Warning: not moving\n",
            "Warning: not moving\n",
            "\n",
            "Failed: distortion 3.0369\n"
          ],
          "name": "stdout"
        },
        {
          "output_type": "display_data",
          "data": {
            "image/png": "[encoded data removed]",
            "text/plain": [
              "<Figure size 432x288 with 1 Axes>"
            ]
          },
          "metadata": {
            "tags": [],
            "needs_background": "light"
          }
        },
        {
          "output_type": "stream",
          "text": [
            "image batch: 31\n",
            "Searching for the initial direction on 100 random directions: \n",
            "--------> Found distortion 8.9170\n",
            "--------> Found distortion 8.7652\n",
            "--------> Found distortion 8.4480\n",
            "--------> Found distortion 8.1592\n",
            "--------> Found distortion 7.0636\n",
            "==========> Found best distortion 7.0636 in 0.1966 seconds using 265 queries\n",
            "Iteration  10 distortion 1.5979 num_queries 3113\n",
            "Iteration  20 distortion 1.4105 num_queries 5576\n",
            "Iteration  30 distortion 1.3206 num_queries 8004\n",
            "Iteration  40 distortion 1.2913 num_queries 10341\n",
            "Iteration  50 distortion 1.2731 num_queries 12727\n",
            "Iteration  60 distortion 1.2660 num_queries 15067\n",
            "Iteration  70 distortion 1.2614 num_queries 17473\n",
            "Iteration  80 distortion 1.2584 num_queries 19781\n",
            "Iteration  90 distortion 1.2552 num_queries 22117\n",
            "Iteration 100 distortion 1.2519 num_queries 24453\n"
          ],
          "name": "stdout"
        },
        {
          "output_type": "display_data",
          "data": {
            "image/png": "[encoded data removed]",
            "text/plain": [
              "<Figure size 432x288 with 1 Axes>"
            ]
          },
          "metadata": {
            "tags": [],
            "needs_background": "light"
          }
        },
        {
          "output_type": "stream",
          "text": [
            "Iteration 110 distortion 1.2474 num_queries 26789\n",
            "Iteration 120 distortion 1.2448 num_queries 29083\n",
            "Warning: not moving\n",
            "Warning: not moving\n",
            "Warning: not moving\n",
            "Warning: not moving\n",
            "Warning: not moving\n",
            "Warning: not moving\n",
            "Succeed distortion 1.2440 target 8 queries 31960 LS queries 6295\n",
            "\n"
          ],
          "name": "stdout"
        },
        {
          "output_type": "display_data",
          "data": {
            "image/png": "[encoded data removed]",
            "text/plain": [
              "<Figure size 432x288 with 1 Axes>"
            ]
          },
          "metadata": {
            "tags": [],
            "needs_background": "light"
          }
        },
        {
          "output_type": "stream",
          "text": [
            "image batch: 32\n",
            "Searching for the initial direction on 100 random directions: \n",
            "--------> Found distortion 19.1406\n",
            "--------> Found distortion 18.1003\n",
            "--------> Found distortion 17.7827\n",
            "--------> Found distortion 15.9565\n",
            "--------> Found distortion 14.9135\n",
            "==========> Found best distortion 14.9135 in 0.1888 seconds using 251 queries\n",
            "Iteration  10 distortion 4.5898 num_queries 3039\n",
            "Iteration  20 distortion 2.9368 num_queries 5716\n",
            "Iteration  30 distortion 2.6556 num_queries 8222\n",
            "Iteration  40 distortion 2.5869 num_queries 10622\n",
            "Iteration  50 distortion 2.5523 num_queries 13006\n",
            "Iteration  60 distortion 2.5261 num_queries 15370\n",
            "Iteration  70 distortion 2.5122 num_queries 17720\n",
            "Iteration  80 distortion 2.5003 num_queries 20129\n",
            "Iteration  90 distortion 2.4948 num_queries 22474\n",
            "Iteration 100 distortion 2.4902 num_queries 24879\n"
          ],
          "name": "stdout"
        },
        {
          "output_type": "display_data",
          "data": {
            "image/png": "[encoded data removed]",
            "text/plain": [
              "<Figure size 432x288 with 1 Axes>"
            ]
          },
          "metadata": {
            "tags": [],
            "needs_background": "light"
          }
        },
        {
          "output_type": "stream",
          "text": [
            "Iteration 110 distortion 2.4872 num_queries 27224\n",
            "Iteration 120 distortion 2.4842 num_queries 29689\n",
            "Iteration 130 distortion 2.4818 num_queries 32064\n",
            "Iteration 140 distortion 2.4798 num_queries 34409\n",
            "Iteration 150 distortion 2.4777 num_queries 36829\n",
            "Iteration 160 distortion 2.4769 num_queries 39234\n",
            "Iteration 170 distortion 2.4756 num_queries 41579\n",
            "Iteration 180 distortion 2.4746 num_queries 43939\n",
            "Warning: not moving\n",
            "Warning: not moving\n",
            "Warning: not moving\n",
            "Warning: not moving\n",
            "Warning: not moving\n",
            "Warning: not moving\n",
            "\n",
            "Failed: distortion 2.4742\n"
          ],
          "name": "stdout"
        },
        {
          "output_type": "display_data",
          "data": {
            "image/png": "[encoded data removed]",
            "text/plain": [
              "<Figure size 432x288 with 1 Axes>"
            ]
          },
          "metadata": {
            "tags": [],
            "needs_background": "light"
          }
        },
        {
          "output_type": "stream",
          "text": [
            "image batch: 33\n",
            "Searching for the initial direction on 100 random directions: \n",
            "--------> Found distortion 27.3642\n",
            "--------> Found distortion 23.5557\n",
            "--------> Found distortion 22.1892\n",
            "--------> Found distortion 20.0033\n",
            "--------> Found distortion 18.5132\n",
            "==========> Found best distortion 18.5132 in 0.1629 seconds using 204 queries\n",
            "Iteration  10 distortion 3.8286 num_queries 3071\n",
            "Iteration  20 distortion 2.5492 num_queries 5783\n",
            "Iteration  30 distortion 2.3446 num_queries 8253\n",
            "Iteration  40 distortion 2.2555 num_queries 10692\n",
            "Iteration  50 distortion 2.2233 num_queries 13096\n",
            "Iteration  60 distortion 2.2095 num_queries 15426\n",
            "Iteration  70 distortion 2.2005 num_queries 17866\n",
            "Iteration  80 distortion 2.1935 num_queries 20226\n",
            "Iteration  90 distortion 2.1868 num_queries 22586\n",
            "Iteration 100 distortion 2.1808 num_queries 24931\n"
          ],
          "name": "stdout"
        },
        {
          "output_type": "display_data",
          "data": {
            "image/png": "[encoded data removed]",
            "text/plain": [
              "<Figure size 432x288 with 1 Axes>"
            ]
          },
          "metadata": {
            "tags": [],
            "needs_background": "light"
          }
        },
        {
          "output_type": "stream",
          "text": [
            "Iteration 110 distortion 2.1763 num_queries 27291\n",
            "Warning: not moving\n",
            "Warning: not moving\n",
            "Iteration 120 distortion 2.1738 num_queries 30065\n",
            "Warning: not moving\n",
            "Warning: not moving\n",
            "Warning: not moving\n",
            "Warning: not moving\n",
            "\n",
            "Failed: distortion 2.1738\n"
          ],
          "name": "stdout"
        },
        {
          "output_type": "display_data",
          "data": {
            "image/png": "[encoded data removed]",
            "text/plain": [
              "<Figure size 432x288 with 1 Axes>"
            ]
          },
          "metadata": {
            "tags": [],
            "needs_background": "light"
          }
        },
        {
          "output_type": "stream",
          "text": [
            "image batch: 34\n",
            "Searching for the initial direction on 100 random directions: \n",
            "--------> Found distortion 19.8532\n",
            "--------> Found distortion 17.5945\n",
            "--------> Found distortion 17.0414\n",
            "--------> Found distortion 12.3250\n",
            "--------> Found distortion 11.2793\n",
            "==========> Found best distortion 11.2793 in 0.2160 seconds using 266 queries\n",
            "Iteration  10 distortion 2.9006 num_queries 3223\n",
            "Iteration  20 distortion 2.3320 num_queries 5840\n",
            "Iteration  30 distortion 2.1843 num_queries 8302\n",
            "Iteration  40 distortion 2.1038 num_queries 10653\n",
            "Iteration  50 distortion 2.0354 num_queries 13010\n",
            "Iteration  60 distortion 2.0095 num_queries 15453\n",
            "Iteration  70 distortion 1.9883 num_queries 17820\n",
            "Iteration  80 distortion 1.9694 num_queries 20201\n",
            "Iteration  90 distortion 1.9591 num_queries 22534\n",
            "Iteration 100 distortion 1.9499 num_queries 24942\n"
          ],
          "name": "stdout"
        },
        {
          "output_type": "display_data",
          "data": {
            "image/png": "[encoded data removed]",
            "text/plain": [
              "<Figure size 432x288 with 1 Axes>"
            ]
          },
          "metadata": {
            "tags": [],
            "needs_background": "light"
          }
        },
        {
          "output_type": "stream",
          "text": [
            "Iteration 110 distortion 1.9447 num_queries 27272\n",
            "Iteration 120 distortion 1.9400 num_queries 29632\n",
            "Iteration 130 distortion 1.9370 num_queries 31977\n",
            "Iteration 140 distortion 1.9344 num_queries 34382\n",
            "Iteration 150 distortion 1.9317 num_queries 36727\n",
            "Iteration 160 distortion 1.9289 num_queries 39132\n",
            "Warning: not moving\n",
            "Warning: not moving\n",
            "Warning: not moving\n",
            "Warning: not moving\n",
            "Iteration 170 distortion 1.9276 num_queries 42120\n",
            "Warning: not moving\n",
            "Warning: not moving\n",
            "Succeed distortion 1.9276 target 2 queries 42989 LS queries 8323\n",
            "\n"
          ],
          "name": "stdout"
        },
        {
          "output_type": "display_data",
          "data": {
            "image/png": "[encoded data removed]",
            "text/plain": [
              "<Figure size 432x288 with 1 Axes>"
            ]
          },
          "metadata": {
            "tags": [],
            "needs_background": "light"
          }
        },
        {
          "output_type": "stream",
          "text": [
            "image batch: 35\n",
            "Searching for the initial direction on 100 random directions: \n",
            "--------> Found distortion 23.9416\n",
            "--------> Found distortion 23.7765\n",
            "--------> Found distortion 19.2712\n",
            "--------> Found distortion 15.4755\n",
            "--------> Found distortion 15.3612\n",
            "==========> Found best distortion 15.3612 in 0.1660 seconds using 221 queries\n",
            "Iteration  10 distortion 4.0922 num_queries 3103\n",
            "Iteration  20 distortion 3.4744 num_queries 5604\n",
            "Iteration  30 distortion 3.3237 num_queries 8019\n",
            "Iteration  40 distortion 3.2525 num_queries 10431\n",
            "Iteration  50 distortion 3.2183 num_queries 12788\n",
            "Iteration  60 distortion 3.1916 num_queries 15156\n",
            "Iteration  70 distortion 3.1737 num_queries 17524\n",
            "Iteration  80 distortion 3.1622 num_queries 19929\n",
            "Iteration  90 distortion 3.1570 num_queries 22274\n",
            "Iteration 100 distortion 3.1524 num_queries 24649\n"
          ],
          "name": "stdout"
        },
        {
          "output_type": "display_data",
          "data": {
            "image/png": "[encoded data removed]",
            "text/plain": [
              "<Figure size 432x288 with 1 Axes>"
            ]
          },
          "metadata": {
            "tags": [],
            "needs_background": "light"
          }
        },
        {
          "output_type": "stream",
          "text": [
            "Iteration 110 distortion 3.1475 num_queries 27024\n",
            "Iteration 120 distortion 3.1454 num_queries 29414\n",
            "Iteration 130 distortion 3.1435 num_queries 31789\n",
            "Warning: not moving\n",
            "Warning: not moving\n",
            "Warning: not moving\n",
            "Warning: not moving\n",
            "Warning: not moving\n",
            "Warning: not moving\n",
            "\n",
            "Failed: distortion 3.1426\n"
          ],
          "name": "stdout"
        },
        {
          "output_type": "display_data",
          "data": {
            "image/png": "[encoded data removed]",
            "text/plain": [
              "<Figure size 432x288 with 1 Axes>"
            ]
          },
          "metadata": {
            "tags": [],
            "needs_background": "light"
          }
        },
        {
          "output_type": "stream",
          "text": [
            "image batch: 36\n",
            "Searching for the initial direction on 100 random directions: \n",
            "--------> Found distortion 17.1144\n",
            "--------> Found distortion 16.4292\n",
            "--------> Found distortion 14.7024\n",
            "--------> Found distortion 9.5282\n",
            "--------> Found distortion 9.3654\n",
            "==========> Found best distortion 9.3654 in 0.2184 seconds using 262 queries\n",
            "Iteration  10 distortion 1.5402 num_queries 3224\n",
            "Iteration  20 distortion 1.2604 num_queries 5766\n",
            "Iteration  30 distortion 1.1704 num_queries 8159\n",
            "Iteration  40 distortion 1.1326 num_queries 10528\n",
            "Iteration  50 distortion 1.1126 num_queries 12964\n",
            "Iteration  60 distortion 1.1005 num_queries 15336\n",
            "Iteration  70 distortion 1.0933 num_queries 17690\n",
            "Iteration  80 distortion 1.0883 num_queries 20012\n",
            "Iteration  90 distortion 1.0844 num_queries 22348\n",
            "Iteration 100 distortion 1.0802 num_queries 24712\n"
          ],
          "name": "stdout"
        },
        {
          "output_type": "display_data",
          "data": {
            "image/png": "[encoded data removed]",
            "text/plain": [
              "<Figure size 432x288 with 1 Axes>"
            ]
          },
          "metadata": {
            "tags": [],
            "needs_background": "light"
          }
        },
        {
          "output_type": "stream",
          "text": [
            "Warning: not moving\n",
            "Warning: not moving\n",
            "Iteration 110 distortion 1.0787 num_queries 27400\n",
            "Warning: not moving\n",
            "Warning: not moving\n",
            "Warning: not moving\n",
            "Warning: not moving\n",
            "Succeed distortion 1.0787 target 2 queries 28723 LS queries 5861\n",
            "\n"
          ],
          "name": "stdout"
        },
        {
          "output_type": "display_data",
          "data": {
            "image/png": "[encoded data removed]",
            "text/plain": [
              "<Figure size 432x288 with 1 Axes>"
            ]
          },
          "metadata": {
            "tags": [],
            "needs_background": "light"
          }
        },
        {
          "output_type": "stream",
          "text": [
            "image batch: 37\n",
            "Searching for the initial direction on 100 random directions: \n",
            "--------> Found distortion 13.0367\n",
            "--------> Found distortion 8.7121\n",
            "--------> Found distortion 8.3000\n",
            "--------> Found distortion 7.3035\n",
            "==========> Found best distortion 7.3035 in 0.2055 seconds using 253 queries\n",
            "Iteration  10 distortion 1.8828 num_queries 3131\n",
            "Iteration  20 distortion 1.5163 num_queries 5649\n",
            "Iteration  30 distortion 1.4215 num_queries 8064\n",
            "Iteration  40 distortion 1.3880 num_queries 10438\n",
            "Iteration  50 distortion 1.3698 num_queries 12814\n",
            "Iteration  60 distortion 1.3610 num_queries 15178\n",
            "Iteration  70 distortion 1.3553 num_queries 17556\n",
            "Iteration  80 distortion 1.3520 num_queries 19864\n",
            "Iteration  90 distortion 1.3495 num_queries 22172\n",
            "Iteration 100 distortion 1.3479 num_queries 24508\n"
          ],
          "name": "stdout"
        },
        {
          "output_type": "display_data",
          "data": {
            "image/png": "[encoded data removed]",
            "text/plain": [
              "<Figure size 432x288 with 1 Axes>"
            ]
          },
          "metadata": {
            "tags": [],
            "needs_background": "light"
          }
        },
        {
          "output_type": "stream",
          "text": [
            "Iteration 110 distortion 1.3469 num_queries 26816\n",
            "Iteration 120 distortion 1.3462 num_queries 29194\n",
            "Warning: not moving\n",
            "Warning: not moving\n",
            "Warning: not moving\n",
            "Warning: not moving\n",
            "Warning: not moving\n",
            "Warning: not moving\n",
            "Succeed distortion 1.3461 target 8 queries 32157 LS queries 6304\n",
            "\n"
          ],
          "name": "stdout"
        },
        {
          "output_type": "display_data",
          "data": {
            "image/png": "[encoded data removed]",
            "text/plain": [
              "<Figure size 432x288 with 1 Axes>"
            ]
          },
          "metadata": {
            "tags": [],
            "needs_background": "light"
          }
        },
        {
          "output_type": "stream",
          "text": [
            "image batch: 38\n",
            "Searching for the initial direction on 100 random directions: \n",
            "--------> Found distortion 17.1043\n",
            "--------> Found distortion 16.1188\n",
            "--------> Found distortion 11.8127\n",
            "--------> Found distortion 9.3289\n",
            "--------> Found distortion 8.9411\n",
            "--------> Found distortion 8.7452\n",
            "--------> Found distortion 7.7348\n",
            "--------> Found distortion 7.5998\n",
            "==========> Found best distortion 7.5998 in 0.2443 seconds using 301 queries\n",
            "Iteration  10 distortion 1.2128 num_queries 3208\n",
            "Iteration  20 distortion 1.0345 num_queries 5749\n",
            "Iteration  30 distortion 0.9741 num_queries 8170\n",
            "Warning: not moving\n",
            "Warning: not moving\n",
            "Warning: not moving\n",
            "Warning: not moving\n",
            "Warning: not moving\n",
            "Warning: not moving\n",
            "Succeed distortion 0.9692 target 3 queries 11193 LS queries 3492\n",
            "\n"
          ],
          "name": "stdout"
        },
        {
          "output_type": "display_data",
          "data": {
            "image/png": "[encoded data removed]",
            "text/plain": [
              "<Figure size 432x288 with 1 Axes>"
            ]
          },
          "metadata": {
            "tags": [],
            "needs_background": "light"
          }
        },
        {
          "output_type": "stream",
          "text": [
            "image batch: 39\n",
            "Searching for the initial direction on 100 random directions: \n",
            "--------> Found distortion 12.3863\n",
            "--------> Found distortion 9.5762\n",
            "--------> Found distortion 8.6469\n",
            "--------> Found distortion 8.3345\n",
            "--------> Found distortion 7.7052\n",
            "--------> Found distortion 7.5773\n",
            "==========> Found best distortion 7.5773 in 0.2156 seconds using 278 queries\n",
            "Iteration  10 distortion 1.6094 num_queries 3218\n",
            "Iteration  20 distortion 1.3016 num_queries 5736\n",
            "Iteration  30 distortion 1.2367 num_queries 8146\n",
            "Iteration  40 distortion 1.2150 num_queries 10506\n",
            "Iteration  50 distortion 1.2032 num_queries 12864\n",
            "Iteration  60 distortion 1.1983 num_queries 15172\n",
            "Iteration  70 distortion 1.1964 num_queries 17494\n",
            "Iteration  80 distortion 1.1939 num_queries 19830\n",
            "Iteration  90 distortion 1.1922 num_queries 22152\n",
            "Iteration 100 distortion 1.1915 num_queries 24474\n"
          ],
          "name": "stdout"
        },
        {
          "output_type": "display_data",
          "data": {
            "image/png": "[encoded data removed]",
            "text/plain": [
              "<Figure size 432x288 with 1 Axes>"
            ]
          },
          "metadata": {
            "tags": [],
            "needs_background": "light"
          }
        },
        {
          "output_type": "stream",
          "text": [
            "Warning: not moving\n",
            "Warning: not moving\n",
            "Warning: not moving\n",
            "Warning: not moving\n",
            "Iteration 110 distortion 1.1910 num_queries 27647\n",
            "Warning: not moving\n",
            "Warning: not moving\n",
            "Succeed distortion 1.1910 target 8 queries 28225 LS queries 5747\n",
            "\n"
          ],
          "name": "stdout"
        },
        {
          "output_type": "display_data",
          "data": {
            "image/png": "[encoded data removed]",
            "text/plain": [
              "<Figure size 432x288 with 1 Axes>"
            ]
          },
          "metadata": {
            "tags": [],
            "needs_background": "light"
          }
        },
        {
          "output_type": "stream",
          "text": [
            "image batch: 40\n",
            "clean count: 40\n",
            "acc under attack count: 0\n",
            "avg total queries used: 1280633\n",
            "avg stop queries used: 29031.678571428572\n",
            "average distortion: 1.672504523396492\n",
            "robust accuracy: 0.30000000000000004\n"
          ],
          "name": "stdout"
        }
      ]
    }
  ]
}