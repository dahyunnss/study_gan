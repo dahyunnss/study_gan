{
  "nbformat": 4,
  "nbformat_minor": 0,
  "metadata": {
    "colab": {
      "name": "Untargeted HopSkipJumpAttack Using CIFAR10",
      "provenance": [],
      "collapsed_sections": [],
      "include_colab_link": true
    },
    "kernelspec": {
      "name": "python3",
      "display_name": "Python 3"
    },
    "accelerator": "GPU",
    "widgets": {
      "application/vnd.jupyter.widget-state+json": {
        "4dd687f4ae4143aa98bc49b7d785c4bd": {
          "model_module": "@jupyter-widgets/controls",
          "model_name": "HBoxModel",
          "state": {
            "_view_name": "HBoxView",
            "_dom_classes": [],
            "_model_name": "HBoxModel",
            "_view_module": "@jupyter-widgets/controls",
            "_model_module_version": "1.5.0",
            "_view_count": null,
            "_view_module_version": "1.5.0",
            "box_style": "",
            "layout": "IPY_MODEL_0bf38487484a45c4aae22105fc9fc99a",
            "_model_module": "@jupyter-widgets/controls",
            "children": [
              "IPY_MODEL_65f37636c715405bad82ef222d0c2b34",
              "IPY_MODEL_f3c6c2ea3af542778bdaaf68ea0ecbd3"
            ]
          }
        },
        "0bf38487484a45c4aae22105fc9fc99a": {
          "model_module": "@jupyter-widgets/base",
          "model_name": "LayoutModel",
          "state": {
            "_view_name": "LayoutView",
            "grid_template_rows": null,
            "right": null,
            "justify_content": null,
            "_view_module": "@jupyter-widgets/base",
            "overflow": null,
            "_model_module_version": "1.2.0",
            "_view_count": null,
            "flex_flow": null,
            "width": null,
            "min_width": null,
            "border": null,
            "align_items": null,
            "bottom": null,
            "_model_module": "@jupyter-widgets/base",
            "top": null,
            "grid_column": null,
            "overflow_y": null,
            "overflow_x": null,
            "grid_auto_flow": null,
            "grid_area": null,
            "grid_template_columns": null,
            "flex": null,
            "_model_name": "LayoutModel",
            "justify_items": null,
            "grid_row": null,
            "max_height": null,
            "align_content": null,
            "visibility": null,
            "align_self": null,
            "height": null,
            "min_height": null,
            "padding": null,
            "grid_auto_rows": null,
            "grid_gap": null,
            "max_width": null,
            "order": null,
            "_view_module_version": "1.2.0",
            "grid_template_areas": null,
            "object_position": null,
            "object_fit": null,
            "grid_auto_columns": null,
            "margin": null,
            "display": null,
            "left": null
          }
        },
        "65f37636c715405bad82ef222d0c2b34": {
          "model_module": "@jupyter-widgets/controls",
          "model_name": "FloatProgressModel",
          "state": {
            "_view_name": "ProgressView",
            "style": "IPY_MODEL_b6a3ceb66a6a454bb3873b619b745082",
            "_dom_classes": [],
            "description": "",
            "_model_name": "FloatProgressModel",
            "bar_style": "success",
            "max": 170498071,
            "_view_module": "@jupyter-widgets/controls",
            "_model_module_version": "1.5.0",
            "value": 170498071,
            "_view_count": null,
            "_view_module_version": "1.5.0",
            "orientation": "horizontal",
            "min": 0,
            "description_tooltip": null,
            "_model_module": "@jupyter-widgets/controls",
            "layout": "IPY_MODEL_c368666d4f5e4c8a8868c9a885a00d63"
          }
        },
        "f3c6c2ea3af542778bdaaf68ea0ecbd3": {
          "model_module": "@jupyter-widgets/controls",
          "model_name": "HTMLModel",
          "state": {
            "_view_name": "HTMLView",
            "style": "IPY_MODEL_e3981453854c4c07b5172f36a6ef6f84",
            "_dom_classes": [],
            "description": "",
            "_model_name": "HTMLModel",
            "placeholder": "​",
            "_view_module": "@jupyter-widgets/controls",
            "_model_module_version": "1.5.0",
            "value": " 170499072/? [00:16&lt;00:00, 10491354.72it/s]",
            "_view_count": null,
            "_view_module_version": "1.5.0",
            "description_tooltip": null,
            "_model_module": "@jupyter-widgets/controls",
            "layout": "IPY_MODEL_056e19bbfb2f472988a84db4eaa2d3c3"
          }
        },
        "b6a3ceb66a6a454bb3873b619b745082": {
          "model_module": "@jupyter-widgets/controls",
          "model_name": "ProgressStyleModel",
          "state": {
            "_view_name": "StyleView",
            "_model_name": "ProgressStyleModel",
            "description_width": "initial",
            "_view_module": "@jupyter-widgets/base",
            "_model_module_version": "1.5.0",
            "_view_count": null,
            "_view_module_version": "1.2.0",
            "bar_color": null,
            "_model_module": "@jupyter-widgets/controls"
          }
        },
        "c368666d4f5e4c8a8868c9a885a00d63": {
          "model_module": "@jupyter-widgets/base",
          "model_name": "LayoutModel",
          "state": {
            "_view_name": "LayoutView",
            "grid_template_rows": null,
            "right": null,
            "justify_content": null,
            "_view_module": "@jupyter-widgets/base",
            "overflow": null,
            "_model_module_version": "1.2.0",
            "_view_count": null,
            "flex_flow": null,
            "width": null,
            "min_width": null,
            "border": null,
            "align_items": null,
            "bottom": null,
            "_model_module": "@jupyter-widgets/base",
            "top": null,
            "grid_column": null,
            "overflow_y": null,
            "overflow_x": null,
            "grid_auto_flow": null,
            "grid_area": null,
            "grid_template_columns": null,
            "flex": null,
            "_model_name": "LayoutModel",
            "justify_items": null,
            "grid_row": null,
            "max_height": null,
            "align_content": null,
            "visibility": null,
            "align_self": null,
            "height": null,
            "min_height": null,
            "padding": null,
            "grid_auto_rows": null,
            "grid_gap": null,
            "max_width": null,
            "order": null,
            "_view_module_version": "1.2.0",
            "grid_template_areas": null,
            "object_position": null,
            "object_fit": null,
            "grid_auto_columns": null,
            "margin": null,
            "display": null,
            "left": null
          }
        },
        "e3981453854c4c07b5172f36a6ef6f84": {
          "model_module": "@jupyter-widgets/controls",
          "model_name": "DescriptionStyleModel",
          "state": {
            "_view_name": "StyleView",
            "_model_name": "DescriptionStyleModel",
            "description_width": "",
            "_view_module": "@jupyter-widgets/base",
            "_model_module_version": "1.5.0",
            "_view_count": null,
            "_view_module_version": "1.2.0",
            "_model_module": "@jupyter-widgets/controls"
          }
        },
        "056e19bbfb2f472988a84db4eaa2d3c3": {
          "model_module": "@jupyter-widgets/base",
          "model_name": "LayoutModel",
          "state": {
            "_view_name": "LayoutView",
            "grid_template_rows": null,
            "right": null,
            "justify_content": null,
            "_view_module": "@jupyter-widgets/base",
            "overflow": null,
            "_model_module_version": "1.2.0",
            "_view_count": null,
            "flex_flow": null,
            "width": null,
            "min_width": null,
            "border": null,
            "align_items": null,
            "bottom": null,
            "_model_module": "@jupyter-widgets/base",
            "top": null,
            "grid_column": null,
            "overflow_y": null,
            "overflow_x": null,
            "grid_auto_flow": null,
            "grid_area": null,
            "grid_template_columns": null,
            "flex": null,
            "_model_name": "LayoutModel",
            "justify_items": null,
            "grid_row": null,
            "max_height": null,
            "align_content": null,
            "visibility": null,
            "align_self": null,
            "height": null,
            "min_height": null,
            "padding": null,
            "grid_auto_rows": null,
            "grid_gap": null,
            "max_width": null,
            "order": null,
            "_view_module_version": "1.2.0",
            "grid_template_areas": null,
            "object_position": null,
            "object_fit": null,
            "grid_auto_columns": null,
            "margin": null,
            "display": null,
            "left": null
          }
        }
      }
    }
  },
  "cells": [
    {
      "cell_type": "markdown",
      "metadata": {
        "id": "view-in-github",
        "colab_type": "text"
      },
      "source": [
        "<a href=\"https://colab.research.google.com/github/ndb796/Deep-Learning-Paper-Review-and-Practice/blob/master/code_practices/Untargeted_HopSkipJumpAttack_Using_CIFAR10.ipynb\" target=\"_parent\"><img src=\"https://colab.research.google.com/assets/colab-badge.svg\" alt=\"Open In Colab\"/></a>"
      ]
    },
    {
      "cell_type": "markdown",
      "metadata": {
        "id": "fNO5NTvp7A51"
      },
      "source": [
        "#### <b>Load Required Libraries</b>"
      ]
    },
    {
      "cell_type": "code",
      "metadata": {
        "id": "dEj-mAoV6y8p"
      },
      "source": [
        "# load required PyTorch libraries\n",
        "import torch\n",
        "import torch.nn as nn\n",
        "import torch.nn.functional as F\n",
        "\n",
        "import torchvision\n",
        "import torchvision.transforms as transforms"
      ],
      "execution_count": null,
      "outputs": []
    },
    {
      "cell_type": "code",
      "metadata": {
        "id": "mQ23hJMr7CGt"
      },
      "source": [
        "use_cuda = True\n",
        "device = torch.device(\"cuda\" if use_cuda else \"cpu\")"
      ],
      "execution_count": null,
      "outputs": []
    },
    {
      "cell_type": "markdown",
      "metadata": {
        "id": "odJwpeAn7D4A"
      },
      "source": [
        "#### <b>Image Visualization</b>\n",
        "\n",
        "* Resize the displayed image to be large enough."
      ]
    },
    {
      "cell_type": "code",
      "metadata": {
        "id": "Yb-N4li87DEE"
      },
      "source": [
        "# load an image visualization library\n",
        "import matplotlib.pyplot as plt\n",
        "import PIL\n",
        "\n",
        "plt.rcParams['figure.figsize'] = [12, 8]\n",
        "plt.rcParams['figure.dpi'] = 60\n",
        "plt.rcParams.update({'font.size': 20})"
      ],
      "execution_count": null,
      "outputs": []
    },
    {
      "cell_type": "code",
      "metadata": {
        "id": "4z3JPKfY7Ejb"
      },
      "source": [
        "# show torch.Tensor image\n",
        "def imshow(tensor):\n",
        "    image = tensor.cpu().clone()\n",
        "    image = image.squeeze(0) # [3, H, W]\n",
        "    image = transforms.ToPILImage()(image)\n",
        "    # show an image whose values are between [0, 1]\n",
        "    plt.imshow(image)\n",
        "    plt.show()"
      ],
      "execution_count": null,
      "outputs": []
    },
    {
      "cell_type": "markdown",
      "metadata": {
        "id": "cdByU-R37GQ3"
      },
      "source": [
        "#### <b>Load Pre-trained Classification Model</b>\n",
        "\n",
        "* <b>The attack target model</b>: ResNet-18\n",
        "* <b>Dataset</b>: CIFAR-10"
      ]
    },
    {
      "cell_type": "code",
      "metadata": {
        "colab": {
          "base_uri": "https://localhost:8080/"
        },
        "id": "53055YYa7FT0",
        "outputId": "e94f3e16-b7d8-483d-ff51-24d9f4b9a9fe"
      },
      "source": [
        "!wget https://postechackr-my.sharepoint.com/:u:/g/personal/dongbinna_postech_ac_kr/EcpGMF03mR9Ko1MM-kMSmloB4ceabuYCvnHaGZPgLNMzrA?download=1 -O cifar10_model.pth"
      ],
      "execution_count": null,
      "outputs": [
        {
          "output_type": "stream",
          "text": [
            "--2021-06-10 08:01:39--  https://postechackr-my.sharepoint.com/:u:/g/personal/dongbinna_postech_ac_kr/EcpGMF03mR9Ko1MM-kMSmloB4ceabuYCvnHaGZPgLNMzrA?download=1\n",
            "Resolving postechackr-my.sharepoint.com (postechackr-my.sharepoint.com)... 13.107.136.9\n",
            "Connecting to postechackr-my.sharepoint.com (postechackr-my.sharepoint.com)|13.107.136.9|:443... connected.\n",
            "HTTP request sent, awaiting response... 302 Found\n",
            "Location: /personal/dongbinna_postech_ac_kr/Documents/Research/Pytorch%20Adversarial%20Training%20on%20CIFAR-10/Pre-trained/basic_training?originalPath=aHR0cHM6Ly9wb3N0ZWNoYWNrci1teS5zaGFyZXBvaW50LmNvbS86dTovZy9wZXJzb25hbC9kb25nYmlubmFfcG9zdGVjaF9hY19rci9FY3BHTUYwM21SOUtvMU1NLWtNU21sb0I0Y2VhYnVZQ3ZuSGFHWlBnTE5NenJBP3J0aW1lPXZGSEctdVVyMlVn [following]\n",
            "--2021-06-10 08:01:40--  https://postechackr-my.sharepoint.com/personal/dongbinna_postech_ac_kr/Documents/Research/Pytorch%20Adversarial%20Training%20on%20CIFAR-10/Pre-trained/basic_training?originalPath=aHR0cHM6Ly9wb3N0ZWNoYWNrci1teS5zaGFyZXBvaW50LmNvbS86dTovZy9wZXJzb25hbC9kb25nYmlubmFfcG9zdGVjaF9hY19rci9FY3BHTUYwM21SOUtvMU1NLWtNU21sb0I0Y2VhYnVZQ3ZuSGFHWlBnTE5NenJBP3J0aW1lPXZGSEctdVVyMlVn\n",
            "Reusing existing connection to postechackr-my.sharepoint.com:443.\n",
            "HTTP request sent, awaiting response... 200 OK\n",
            "Length: 44755840 (43M) [application/octet-stream]\n",
            "Saving to: ‘cifar10_model.pth’\n",
            "\n",
            "cifar10_model.pth   100%[===================>]  42.68M  59.9MB/s    in 0.7s    \n",
            "\n",
            "2021-06-10 08:01:43 (59.9 MB/s) - ‘cifar10_model.pth’ saved [44755840/44755840]\n",
            "\n"
          ],
          "name": "stdout"
        }
      ]
    },
    {
      "cell_type": "code",
      "metadata": {
        "id": "DVTe-3Y57HAr"
      },
      "source": [
        "# Define a basic block for the ResNet architecture\n",
        "class BasicBlock(nn.Module):\n",
        "    expansion = 1\n",
        "\n",
        "    def __init__(self, in_planes, planes, stride=1):\n",
        "        super(BasicBlock, self).__init__()\n",
        "        self.conv1 = nn.Conv2d(in_planes, planes, kernel_size=3, stride=stride, padding=1, bias=False)\n",
        "        self.bn1 = nn.BatchNorm2d(planes)\n",
        "        self.conv2 = nn.Conv2d(planes, planes, kernel_size=3, stride=1, padding=1, bias=False)\n",
        "        self.bn2 = nn.BatchNorm2d(planes)\n",
        "\n",
        "        self.shortcut = nn.Sequential()\n",
        "        if stride != 1 or in_planes != self.expansion * planes:\n",
        "            self.shortcut = nn.Sequential(\n",
        "                nn.Conv2d(in_planes, self.expansion * planes, kernel_size=1, stride=stride, bias=False),\n",
        "                nn.BatchNorm2d(self.expansion * planes)\n",
        "            )\n",
        "\n",
        "    def forward(self, x):\n",
        "        out = F.relu(self.bn1(self.conv1(x)))\n",
        "        out = self.bn2(self.conv2(out))\n",
        "        out += self.shortcut(x) # residual connection\n",
        "        out = F.relu(out)\n",
        "        return out\n",
        "\n",
        "\n",
        "class ResNet(nn.Module):\n",
        "    def __init__(self, block, num_blocks, num_classes=10):\n",
        "        super(ResNet, self).__init__()\n",
        "        self.in_planes = 64\n",
        "\n",
        "        self.conv1 = nn.Conv2d(3, 64, kernel_size=3, stride=1, padding=1, bias=False)\n",
        "        self.bn1 = nn.BatchNorm2d(64)\n",
        "        self.layer1 = self._make_layer(block, 64, num_blocks[0], stride=1)\n",
        "        self.layer2 = self._make_layer(block, 128, num_blocks[1], stride=2)\n",
        "        self.layer3 = self._make_layer(block, 256, num_blocks[2], stride=2)\n",
        "        self.layer4 = self._make_layer(block, 512, num_blocks[3], stride=2)\n",
        "        self.linear = nn.Linear(512 * block.expansion, num_classes)\n",
        "\n",
        "    def _make_layer(self, block, planes, num_blocks, stride):\n",
        "        strides = [stride] + [1] * (num_blocks - 1)\n",
        "        layers = []\n",
        "        for stride in strides:\n",
        "            layers.append(block(self.in_planes, planes, stride))\n",
        "            self.in_planes = planes * block.expansion\n",
        "        return nn.Sequential(*layers)\n",
        "\n",
        "    def forward(self, x):\n",
        "        out = F.relu(self.bn1(self.conv1(x)))\n",
        "        out = self.layer1(out)\n",
        "        out = self.layer2(out)\n",
        "        out = self.layer3(out)\n",
        "        out = self.layer4(out)\n",
        "        out = F.avg_pool2d(out, 4)\n",
        "        out = out.view(out.size(0), -1)\n",
        "        out = self.linear(out)\n",
        "        return out\n",
        "\n",
        "\n",
        "# (The number of layers that contain trainable weights == 18)\n",
        "def ResNet18():\n",
        "    return ResNet(BasicBlock, [2, 2, 2, 2])"
      ],
      "execution_count": null,
      "outputs": []
    },
    {
      "cell_type": "code",
      "metadata": {
        "colab": {
          "base_uri": "https://localhost:8080/"
        },
        "id": "N1NW6vbz7Hxj",
        "outputId": "947b5f41-28b9-403c-e1d2-595107b1fc8f"
      },
      "source": [
        "model = ResNet18()\n",
        "model = model.to(device)\n",
        "model = torch.nn.DataParallel(model)\n",
        "checkpoint = torch.load('./cifar10_model.pth')\n",
        "model.load_state_dict(checkpoint['net'])"
      ],
      "execution_count": null,
      "outputs": [
        {
          "output_type": "execute_result",
          "data": {
            "text/plain": [
              "<All keys matched successfully>"
            ]
          },
          "metadata": {
            "tags": []
          },
          "execution_count": 7
        }
      ]
    },
    {
      "cell_type": "markdown",
      "metadata": {
        "id": "xBvLIuzy7Jlu"
      },
      "source": [
        "#### <b>Load Test Dataset</b>"
      ]
    },
    {
      "cell_type": "code",
      "metadata": {
        "colab": {
          "base_uri": "https://localhost:8080/",
          "height": 102,
          "referenced_widgets": [
            "4dd687f4ae4143aa98bc49b7d785c4bd",
            "0bf38487484a45c4aae22105fc9fc99a",
            "65f37636c715405bad82ef222d0c2b34",
            "f3c6c2ea3af542778bdaaf68ea0ecbd3",
            "b6a3ceb66a6a454bb3873b619b745082",
            "c368666d4f5e4c8a8868c9a885a00d63",
            "e3981453854c4c07b5172f36a6ef6f84",
            "056e19bbfb2f472988a84db4eaa2d3c3"
          ]
        },
        "id": "4vahIMZ_7Ig0",
        "outputId": "26bd0eb1-e4bb-4208-d3b3-24316291fcaf"
      },
      "source": [
        "class_names = ['airplane', 'automobile', 'bird', 'cat', 'deer', 'dog', 'frog', 'horse', 'ship', 'truck']\n",
        "\n",
        "transform_test = transforms.Compose([\n",
        "    transforms.ToTensor(),\n",
        "])\n",
        "\n",
        "test_dataset = torchvision.datasets.CIFAR10(root='./data', train=False, download=True, transform=transform_test)\n",
        "test_dataloader = torch.utils.data.DataLoader(test_dataset, batch_size=64, shuffle=True, num_workers=2)"
      ],
      "execution_count": null,
      "outputs": [
        {
          "output_type": "stream",
          "text": [
            "Downloading https://www.cs.toronto.edu/~kriz/cifar-10-python.tar.gz to ./data/cifar-10-python.tar.gz\n"
          ],
          "name": "stdout"
        },
        {
          "output_type": "display_data",
          "data": {
            "application/vnd.jupyter.widget-view+json": {
              "model_id": "4dd687f4ae4143aa98bc49b7d785c4bd",
              "version_minor": 0,
              "version_major": 2
            },
            "text/plain": [
              "HBox(children=(FloatProgress(value=0.0, max=170498071.0), HTML(value='')))"
            ]
          },
          "metadata": {
            "tags": []
          }
        },
        {
          "output_type": "stream",
          "text": [
            "\n",
            "Extracting ./data/cifar-10-python.tar.gz to ./data\n"
          ],
          "name": "stdout"
        }
      ]
    },
    {
      "cell_type": "code",
      "metadata": {
        "colab": {
          "base_uri": "https://localhost:8080/",
          "height": 306
        },
        "id": "dvRvW4SV7LEU",
        "outputId": "590e73b4-ce1e-4f03-8db2-7d33c852f6f0"
      },
      "source": [
        "import numpy as np\n",
        "\n",
        "\n",
        "# Display images in a batch\n",
        "def imshow_batch(input, title):\n",
        "    # torch.Tensor => numpy\n",
        "    input = input.numpy().transpose((1, 2, 0))\n",
        "    # display images\n",
        "    plt.imshow(input)\n",
        "    plt.title(title)\n",
        "    plt.show()\n",
        "\n",
        "# load a batch of validation image\n",
        "iterator = iter(test_dataloader)\n",
        "\n",
        "# visualize a batch of validation image (the first 4 images)\n",
        "inputs, classes = next(iterator)\n",
        "out = torchvision.utils.make_grid(inputs[:4])\n",
        "imshow_batch(out, title='original labels: ' + str([class_names[x] for x in classes[:4]]))\n",
        "\n",
        "print('Original labels >>>>>>>>>>>>>>>>>>>>>>>>>')\n",
        "for i, label in enumerate(classes[:4]):\n",
        "    print(f'Image #{i + 1}: {class_names[label]} ({label})')"
      ],
      "execution_count": null,
      "outputs": [
        {
          "output_type": "display_data",
          "data": {
            "image/png": "[encoded data removed]",
            "text/plain": [
              "<Figure size 720x480 with 1 Axes>"
            ]
          },
          "metadata": {
            "tags": [],
            "needs_background": "light"
          }
        },
        {
          "output_type": "stream",
          "text": [
            "Original labels >>>>>>>>>>>>>>>>>>>>>>>>>\n",
            "Image #1: frog (6)\n",
            "Image #2: airplane (0)\n",
            "Image #3: ship (8)\n",
            "Image #4: dog (5)\n"
          ],
          "name": "stdout"
        }
      ]
    },
    {
      "cell_type": "markdown",
      "metadata": {
        "id": "3QeGpQKo7MsE"
      },
      "source": [
        "#### <b>Test Phase</b>\n",
        "\n",
        "* Check the test accuracy of the pre-trained classification model."
      ]
    },
    {
      "cell_type": "code",
      "metadata": {
        "colab": {
          "base_uri": "https://localhost:8080/",
          "height": 850
        },
        "id": "DmQtvmN47Loz",
        "outputId": "39456c53-edaa-4b3c-b320-7044161746ef"
      },
      "source": [
        "import time\n",
        "\n",
        "criterion = nn.CrossEntropyLoss()\n",
        "model.eval()\n",
        "start_time = time.time()\n",
        "\n",
        "with torch.no_grad():\n",
        "    running_loss = 0.\n",
        "    running_corrects = 0\n",
        "\n",
        "    for i, (inputs, labels) in enumerate(test_dataloader):\n",
        "        inputs = inputs.to(device)\n",
        "        labels = labels.to(device)\n",
        "\n",
        "        outputs = model(inputs)\n",
        "        _, preds = torch.max(outputs, 1)\n",
        "        loss = criterion(outputs, labels)\n",
        "\n",
        "        running_loss += loss.item()\n",
        "        running_corrects += torch.sum(preds == labels.data)\n",
        "\n",
        "        if i == 0:\n",
        "            # Display the first 4 images in the first batch.\n",
        "            print('[Prediction Result Examples]')\n",
        "            images = torchvision.utils.make_grid(inputs[:4])\n",
        "            imshow_batch(images.cpu(), title='original labels: ' + str([int(x) for x in labels[:4]]) +\n",
        "                         '\\npredicted labels: ' + str([int(x) for x in preds[:4]]))\n",
        "            print('Original labels >>>>>>>>>>>>>>>>>>>>>>>>>')\n",
        "            for j, label in enumerate(labels[:4]):\n",
        "                print(f'Image #{j + 1}: {class_names[label]} ({label})')\n",
        "            print('Predicted labels >>>>>>>>>>>>>>>>>>>>>>>>>')\n",
        "            for j, label in enumerate(preds[:4]):\n",
        "                print(f'Image #{j + 1}: {class_names[label]} ({label})')\n",
        "\n",
        "            # Display the second 4 images in the first batch.\n",
        "            images = torchvision.utils.make_grid(inputs[4:8])\n",
        "            imshow_batch(images.cpu(), title='original labels: ' + str([int(x) for x in labels[4:8]]) +\n",
        "                         '\\npredicted labels: ' + str([int(x) for x in preds[4:8]]))\n",
        "            print('Original labels >>>>>>>>>>>>>>>>>>>>>>>>>')\n",
        "            for j, label in enumerate(labels[4:8]):\n",
        "                print(f'Image #{j + 5}: {class_names[label]} ({label})')\n",
        "            print('Predicted labels >>>>>>>>>>>>>>>>>>>>>>>>>')\n",
        "            for j, label in enumerate(preds[4:8]):\n",
        "                print(f'Image #{j + 5}: {class_names[label]} ({label})')\n",
        "\n",
        "    epoch_loss = running_loss / len(test_dataset)\n",
        "    epoch_acc = running_corrects / len(test_dataset) * 100.\n",
        "    print('[Validation] Loss: {:.4f} Accuracy: {:.4f}% Time elapsed: {:.4f}s (total {} images)'.format(epoch_loss, epoch_acc, time.time() - start_time, len(test_dataset)))"
      ],
      "execution_count": null,
      "outputs": [
        {
          "output_type": "stream",
          "text": [
            "[Prediction Result Examples]\n"
          ],
          "name": "stdout"
        },
        {
          "output_type": "display_data",
          "data": {
            "image/png": "[encoded data removed]",
            "text/plain": [
              "<Figure size 720x480 with 1 Axes>"
            ]
          },
          "metadata": {
            "tags": [],
            "needs_background": "light"
          }
        },
        {
          "output_type": "stream",
          "text": [
            "Original labels >>>>>>>>>>>>>>>>>>>>>>>>>\n",
            "Image #1: deer (4)\n",
            "Image #2: horse (7)\n",
            "Image #3: truck (9)\n",
            "Image #4: horse (7)\n",
            "Predicted labels >>>>>>>>>>>>>>>>>>>>>>>>>\n",
            "Image #1: deer (4)\n",
            "Image #2: horse (7)\n",
            "Image #3: truck (9)\n",
            "Image #4: horse (7)\n"
          ],
          "name": "stdout"
        },
        {
          "output_type": "display_data",
          "data": {
            "image/png": "[encoded data removed]",
            "text/plain": [
              "<Figure size 720x480 with 1 Axes>"
            ]
          },
          "metadata": {
            "tags": [],
            "needs_background": "light"
          }
        },
        {
          "output_type": "stream",
          "text": [
            "Original labels >>>>>>>>>>>>>>>>>>>>>>>>>\n",
            "Image #1: ship (8)\n",
            "Image #2: automobile (1)\n",
            "Image #3: frog (6)\n",
            "Image #4: ship (8)\n",
            "Predicted labels >>>>>>>>>>>>>>>>>>>>>>>>>\n",
            "Image #1: ship (8)\n",
            "Image #2: automobile (1)\n",
            "Image #3: frog (6)\n",
            "Image #4: ship (8)\n",
            "[Validation] Loss: 0.0031 Accuracy: 95.2800% Time elapsed: 7.0879s (total 10000 images)\n"
          ],
          "name": "stdout"
        }
      ]
    },
    {
      "cell_type": "markdown",
      "metadata": {
        "id": "c_EVasbm7Pao"
      },
      "source": [
        "#### <b>Prepare Adversarial Attack Libraries</b>"
      ]
    },
    {
      "cell_type": "code",
      "metadata": {
        "colab": {
          "base_uri": "https://localhost:8080/"
        },
        "id": "8Rwgci4t7OIz",
        "outputId": "5788a277-4f41-4f78-98b4-5e28577aa43b"
      },
      "source": [
        "!pip install foolbox\n",
        "!pip install advertorch"
      ],
      "execution_count": null,
      "outputs": [
        {
          "output_type": "stream",
          "text": [
            "Requirement already satisfied: foolbox in /usr/local/lib/python3.7/dist-packages (3.3.1)\n",
            "Requirement already satisfied: eagerpy==0.29.0 in /usr/local/lib/python3.7/dist-packages (from foolbox) (0.29.0)\n",
            "Requirement already satisfied: typing-extensions>=3.7.4.1 in /usr/local/lib/python3.7/dist-packages (from foolbox) (3.7.4.3)\n",
            "Requirement already satisfied: scipy in /usr/local/lib/python3.7/dist-packages (from foolbox) (1.4.1)\n",
            "Requirement already satisfied: numpy in /usr/local/lib/python3.7/dist-packages (from foolbox) (1.19.5)\n",
            "Requirement already satisfied: requests>=2.24.0 in /usr/local/lib/python3.7/dist-packages (from foolbox) (2.25.1)\n",
            "Requirement already satisfied: setuptools in /usr/local/lib/python3.7/dist-packages (from foolbox) (57.0.0)\n",
            "Requirement already satisfied: GitPython>=3.0.7 in /usr/local/lib/python3.7/dist-packages (from foolbox) (3.1.17)\n",
            "Requirement already satisfied: certifi>=2017.4.17 in /usr/local/lib/python3.7/dist-packages (from requests>=2.24.0->foolbox) (2020.12.5)\n",
            "Requirement already satisfied: chardet<5,>=3.0.2 in /usr/local/lib/python3.7/dist-packages (from requests>=2.24.0->foolbox) (3.0.4)\n",
            "Requirement already satisfied: urllib3<1.27,>=1.21.1 in /usr/local/lib/python3.7/dist-packages (from requests>=2.24.0->foolbox) (1.24.3)\n",
            "Requirement already satisfied: idna<3,>=2.5 in /usr/local/lib/python3.7/dist-packages (from requests>=2.24.0->foolbox) (2.10)\n",
            "Requirement already satisfied: gitdb<5,>=4.0.1 in /usr/local/lib/python3.7/dist-packages (from GitPython>=3.0.7->foolbox) (4.0.7)\n",
            "Requirement already satisfied: smmap<5,>=3.0.1 in /usr/local/lib/python3.7/dist-packages (from gitdb<5,>=4.0.1->GitPython>=3.0.7->foolbox) (4.0.0)\n",
            "Requirement already satisfied: advertorch in /usr/local/lib/python3.7/dist-packages (0.2.3)\n"
          ],
          "name": "stdout"
        }
      ]
    },
    {
      "cell_type": "code",
      "metadata": {
        "id": "a-bT17uz7QPU"
      },
      "source": [
        "def get_distance(a, b):\n",
        "    l0 = torch.norm((a - b).view(a.shape[0], -1), p=0, dim=1)\n",
        "    l2 = torch.norm((a - b).view(a.shape[0], -1), p=2, dim=1)\n",
        "    mse = (a - b).view(a.shape[0], -1).pow(2).mean(1)\n",
        "    linf = torch.norm((a - b).view(a.shape[0], -1), p=float('inf'), dim=1)\n",
        "    return l0, l2, mse, linf"
      ],
      "execution_count": null,
      "outputs": []
    },
    {
      "cell_type": "markdown",
      "metadata": {
        "id": "yNO0lKnzeU2y"
      },
      "source": [
        "#### <b>HopSkipJumpAttack</b>\n",
        "\n",
        "* <b>Foolbox documentation</b>: https://foolbox.readthedocs.io/en/stable/\n",
        "* <b>HopSkipJumpAttack implementation</b>: [HopSkipJumpAttack](https://github.com/bethgelab/foolbox/blob/master/foolbox/attacks/hop_skip_jump.py)\n",
        "* <b>init_attack</b>: Attack to use to find starting points.\n",
        "    * The targeted attack does not use this parameter.\n",
        "    * The untargeted attack can use a random uniform noise.\n",
        "* <b>steps</b>: Number of optimization steps.\n",
        "* <b>initial_gradient_eval_steps</b>: Initial number of evaluations for gradient estimation.\n",
        "* <b>max_gradient_eval_steps</b>: Maximum number of evaluations for gradient estimation.\n",
        "* <b>stepsize_search</b>: \"geometric_progression\" or \"grid_search\".\n",
        "* <b>gamma</b>: It's for the binary search threshold.\n",
        "* <b>constraint</b>: Norm to minimize, either \"l2\" or \"linf\".\n",
        "\n",
        "<pre>\n",
        "def __init__(\n",
        "    self,\n",
        "    init_attack: Optional[MinimizationAttack] = None,\n",
        "    steps: int = 64,\n",
        "    initial_gradient_eval_steps: int = 100,\n",
        "    max_gradient_eval_steps: int = 10000,\n",
        "    stepsize_search: Union[\n",
        "        Literal[\"geometric_progression\"], Literal[\"grid_search\"]\n",
        "    ] = \"geometric_progression\",\n",
        "    gamma: float = 1.0,\n",
        "    tensorboard: Union[Literal[False], None, str] = False,\n",
        "    constraint: Union[Literal[\"linf\"], Literal[\"l2\"]] = \"l2\",\n",
        "):\n",
        "</pre>"
      ]
    },
    {
      "cell_type": "markdown",
      "metadata": {
        "id": "2QWqjr-Y7R75"
      },
      "source": [
        "#### <b>Adversarial Attack Example</b>\n",
        "\n",
        "* <b>Attack method</b>: HopSkipJump Attack\n",
        "* <b>Options</b>: 10 iterations + start from a random target (untargeted attack)\n",
        "    * Each iteration includes a binary search step, gradient approximation step, and geometric progression step.\n",
        "* <b>Images</b>: 1,000 test images"
      ]
    },
    {
      "cell_type": "code",
      "metadata": {
        "colab": {
          "base_uri": "https://localhost:8080/",
          "height": 991
        },
        "id": "wnQGScAe7Q_1",
        "outputId": "80a4b332-f27a-4049-9905-0aeab66d8278"
      },
      "source": [
        "import time\n",
        "import random\n",
        "import foolbox as fb\n",
        "\n",
        "criterion = nn.CrossEntropyLoss()\n",
        "model.eval()\n",
        "start_time = time.time()\n",
        "\n",
        "fmodel = fb.PyTorchModel(model, bounds=(0, 1))\n",
        "attack = fb.attacks.HopSkipJump(init_attack=None, steps=10,\n",
        "                                initial_gradient_eval_steps=100, max_gradient_eval_steps=100)\n",
        "\n",
        "running_loss = 0.\n",
        "running_corrects = 0\n",
        "running_success = 0\n",
        "running_length = 0\n",
        "\n",
        "running_l0 = 0\n",
        "running_l2 = 0\n",
        "running_mse = 0\n",
        "running_linf = 0\n",
        "\n",
        "num_images = 1000\n",
        "\n",
        "for i, (inputs, labels) in enumerate(test_dataloader):\n",
        "    num_images -= labels.shape[0]\n",
        "\n",
        "    inputs = inputs.to(device)\n",
        "    labels = labels.to(device)\n",
        "\n",
        "    # generate \"random target instances\" that are correctly classified.\n",
        "    starting_points = torch.zeros(labels.shape[0], 3, 32, 32).to(device)\n",
        "    target_labels = torch.zeros(labels.shape[0]).long().to(device)\n",
        "    for k in range(labels.shape[0]):\n",
        "        starting_points[k], target_labels[k] = test_dataset[random.randint(0, len(test_dataset) - 1)]\n",
        "    outputs = model(starting_points)\n",
        "    _, preds = torch.max(outputs, 1)\n",
        "    while True:\n",
        "        condition = 0\n",
        "        idx = torch.tensor([], dtype=torch.long)\n",
        "        if target_labels.ne(preds).sum() > 0: # to be correctly classified\n",
        "            idx = torch.cat([idx, torch.arange(0, labels.shape[0]).long()[target_labels.ne(preds)]], dim=0)\n",
        "            condition += 1\n",
        "        if target_labels.eq(labels).sum() > 0: # to be different from the original labels\n",
        "            idx = torch.cat([idx, torch.arange(0, labels.shape[0]).long()[target_labels.eq(labels)]], dim=0)\n",
        "            condition += 1\n",
        "        idx = torch.unique(idx)\n",
        "        if condition == 0:\n",
        "            break\n",
        "        for k in list(idx):\n",
        "            starting_points[k], target_labels[k] = test_dataset[random.randint(0, len(test_dataset) - 1)]\n",
        "        outputs = model(starting_points[idx])\n",
        "        _, preds[idx] = torch.max(outputs, 1)\n",
        "\n",
        "    attack_criterion = fb.criteria.Misclassification(labels)\n",
        "    _, adv_untargeted, _ = attack(fmodel, inputs, criterion=attack_criterion, starting_points=starting_points, epsilons=None) # adversarial attack\n",
        "\n",
        "    outputs = model(adv_untargeted)\n",
        "    _, preds = torch.max(outputs, 1)\n",
        "    loss = criterion(outputs, labels)\n",
        "\n",
        "    running_loss += loss.item()\n",
        "    running_corrects += torch.sum(preds == labels.data)\n",
        "    running_success += torch.sum(preds != labels.data)\n",
        "    running_length += labels.shape[0]\n",
        "\n",
        "    l0, l2, mse, linf = get_distance(adv_untargeted, inputs)\n",
        "    running_l0 += l0.sum().item()\n",
        "    running_l2 += l2.sum().item()\n",
        "    running_mse += mse.sum().item()\n",
        "    running_linf += linf.sum().item()\n",
        "\n",
        "    if i == 0:\n",
        "        # Display the first 4 images in the first batch.\n",
        "        print('The dimension of an image tensor:', inputs.shape[1:])\n",
        "        print('[Prediction Result Examples]')\n",
        "        images = torchvision.utils.make_grid(adv_untargeted[:4])\n",
        "        imshow_batch(images.cpu(), title='original labels: ' + str([int(x) for x in labels[:4]]) +\n",
        "                      '\\npredicted labels: ' + str([int(x) for x in preds[:4]]))\n",
        "        print('Original labels >>>>>>>>>>>>>>>>>>>>>>>>>')\n",
        "        for j, label in enumerate(labels[:4]):\n",
        "            print(f'Image #{j + 1}: {class_names[label]} ({label})')\n",
        "        print('Predicted labels >>>>>>>>>>>>>>>>>>>>>>>>>')\n",
        "        for j, label in enumerate(preds[:4]):\n",
        "            print(f'Image #{j + 1}: {class_names[label]} ({label})')\n",
        "\n",
        "        # Display the second 4 images in the first batch.\n",
        "        images = torchvision.utils.make_grid(adv_untargeted[4:8])\n",
        "        imshow_batch(images.cpu(), title='original labels: ' + str([int(x) for x in labels[4:8]]) +\n",
        "                      '\\npredicted labels: ' + str([int(x) for x in preds[4:8]]))\n",
        "        print('Original labels >>>>>>>>>>>>>>>>>>>>>>>>>')\n",
        "        for j, label in enumerate(labels[4:8]):\n",
        "            print(f'Image #{j + 5}: {class_names[label]} ({label})')\n",
        "        print('Predicted labels >>>>>>>>>>>>>>>>>>>>>>>>>')\n",
        "        for j, label in enumerate(preds[4:8]):\n",
        "            print(f'Image #{j + 5}: {class_names[label]} ({label})')\n",
        "\n",
        "    if i % 10 == 0:\n",
        "        cur_running_loss = running_loss / running_length\n",
        "        running_acc = running_corrects / running_length * 100.\n",
        "        running_asr = running_success / running_length * 100.\n",
        "        print('[Step #{}] Loss: {:.4f} Accuracy: {:.4f}% Attack success rate: {:.4f}% Time elapsed: {:.4f}s (total {} images)'.format(i, cur_running_loss, running_acc, running_asr, time.time() - start_time, running_length))\n",
        "\n",
        "    if num_images <= 0:\n",
        "        break\n",
        "\n",
        "epoch_loss = running_loss / running_length\n",
        "epoch_acc = running_corrects / running_length * 100.\n",
        "epoch_asr = running_success / running_length * 100.\n",
        "print('[Validation] Loss: {:.4f} Accuracy: {:.4f}% Attack success rate: {:.4f}% Time elapsed: {:.4f}s (total {} images)'.format(epoch_loss, epoch_acc, epoch_asr, time.time() - start_time, running_length))\n",
        "\n",
        "print('[Size of Perturbation]')\n",
        "print('Average L0 distance (the number of changed parameters):', running_l0 / running_length)\n",
        "print('Average L2 distance:', running_l2 / running_length)\n",
        "print('Average MSE:', running_mse / running_length)\n",
        "print('Average Linf distance (the maximum changed values):', running_linf / running_length)"
      ],
      "execution_count": null,
      "outputs": [
        {
          "output_type": "stream",
          "text": [
            "The dimension of an image tensor: torch.Size([3, 32, 32])\n",
            "[Prediction Result Examples]\n"
          ],
          "name": "stdout"
        },
        {
          "output_type": "display_data",
          "data": {
            "image/png": "[encoded data removed]",
            "text/plain": [
              "<Figure size 720x480 with 1 Axes>"
            ]
          },
          "metadata": {
            "tags": [],
            "needs_background": "light"
          }
        },
        {
          "output_type": "stream",
          "text": [
            "Original labels >>>>>>>>>>>>>>>>>>>>>>>>>\n",
            "Image #1: cat (3)\n",
            "Image #2: bird (2)\n",
            "Image #3: ship (8)\n",
            "Image #4: bird (2)\n",
            "Predicted labels >>>>>>>>>>>>>>>>>>>>>>>>>\n",
            "Image #1: frog (6)\n",
            "Image #2: deer (4)\n",
            "Image #3: cat (3)\n",
            "Image #4: airplane (0)\n"
          ],
          "name": "stdout"
        },
        {
          "output_type": "display_data",
          "data": {
            "image/png": "[encoded data removed]",
            "text/plain": [
              "<Figure size 720x480 with 1 Axes>"
            ]
          },
          "metadata": {
            "tags": [],
            "needs_background": "light"
          }
        },
        {
          "output_type": "stream",
          "text": [
            "Original labels >>>>>>>>>>>>>>>>>>>>>>>>>\n",
            "Image #5: airplane (0)\n",
            "Image #6: dog (5)\n",
            "Image #7: truck (9)\n",
            "Image #8: bird (2)\n",
            "Predicted labels >>>>>>>>>>>>>>>>>>>>>>>>>\n",
            "Image #5: ship (8)\n",
            "Image #6: bird (2)\n",
            "Image #7: cat (3)\n",
            "Image #8: dog (5)\n",
            "[Step #0] Loss: 0.0133 Accuracy: 0.0000% Attack success rate: 100.0000% Time elapsed: 46.6765s (total 64 images)\n",
            "[Step #10] Loss: 0.0140 Accuracy: 0.0000% Attack success rate: 100.0000% Time elapsed: 508.1112s (total 704 images)\n",
            "[Validation] Loss: 0.0137 Accuracy: 0.0000% Attack success rate: 100.0000% Time elapsed: 738.7502s (total 1024 images)\n",
            "[Size of Perturbation]\n",
            "Average L0 distance (the number of changed parameters): 2954.9228515625\n",
            "Average L2 distance: 2.029694177210331\n",
            "Average MSE: 0.0015759490706841461\n",
            "Average Linf distance (the maximum changed values): 0.10391072370111942\n"
          ],
          "name": "stdout"
        }
      ]
    }
  ]
}