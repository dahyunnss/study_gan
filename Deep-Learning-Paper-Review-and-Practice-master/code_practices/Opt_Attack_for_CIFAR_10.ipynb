{
  "nbformat": 4,
  "nbformat_minor": 0,
  "metadata": {
    "colab": {
      "name": "Opt Attack for CIFAR-10",
      "provenance": [],
      "collapsed_sections": [],
      "include_colab_link": true
    },
    "kernelspec": {
      "name": "python3",
      "display_name": "Python 3"
    },
    "language_info": {
      "name": "python"
    },
    "accelerator": "GPU"
  },
  "cells": [
    {
      "cell_type": "markdown",
      "metadata": {
        "id": "view-in-github",
        "colab_type": "text"
      },
      "source": [
        "<a href=\"https://colab.research.google.com/github/ndb796/Deep-Learning-Paper-Review-and-Practice/blob/master/code_practices/Opt_Attack_for_CIFAR_10.ipynb\" target=\"_parent\"><img src=\"https://colab.research.google.com/assets/colab-badge.svg\" alt=\"Open In Colab\"/></a>"
      ]
    },
    {
      "cell_type": "markdown",
      "metadata": {
        "id": "OrPgZRyVo_dJ"
      },
      "source": [
        "#### <b>Load Required Libraries</b>"
      ]
    },
    {
      "cell_type": "code",
      "metadata": {
        "colab": {
          "base_uri": "https://localhost:8080/"
        },
        "id": "3NN3tJgCjttX",
        "outputId": "56a50523-2e21-4e3c-8c66-4f5277acd84e"
      },
      "source": [
        "!git clone https://github.com/ndb796/attackbox"
      ],
      "execution_count": null,
      "outputs": [
        {
          "output_type": "stream",
          "text": [
            "Cloning into 'attackbox'...\n",
            "remote: Enumerating objects: 594, done.\u001b[K\n",
            "remote: Counting objects: 100% (19/19), done.\u001b[K\n",
            "remote: Compressing objects: 100% (13/13), done.\u001b[K\n",
            "remote: Total 594 (delta 7), reused 14 (delta 6), pack-reused 575\u001b[K\n",
            "Receiving objects: 100% (594/594), 74.55 MiB | 23.69 MiB/s, done.\n",
            "Resolving deltas: 100% (298/298), done.\n",
            "Checking out files: 100% (191/191), done.\n"
          ],
          "name": "stdout"
        }
      ]
    },
    {
      "cell_type": "code",
      "metadata": {
        "id": "orvMQ3aUpNQl"
      },
      "source": [
        "import torch\n",
        "import torch.nn as nn\n",
        "from torch.autograd import Variable\n",
        "import torchvision\n",
        "\n",
        "import numpy as np\n",
        "from numpy import linalg as LA\n",
        "import matplotlib.pyplot as plt\n",
        "\n",
        "import os\n",
        "import time\n",
        "import shutil"
      ],
      "execution_count": null,
      "outputs": []
    },
    {
      "cell_type": "markdown",
      "metadata": {
        "id": "8_8c9VyHpYxN"
      },
      "source": [
        "#### <b>Load Dataset</b>"
      ]
    },
    {
      "cell_type": "code",
      "metadata": {
        "colab": {
          "base_uri": "https://localhost:8080/"
        },
        "id": "E0pIjQB-pEeA",
        "outputId": "2f13cf11-61e6-4329-a671-b1c7df83511f"
      },
      "source": [
        "def load_model(model, filename):\n",
        "    \"\"\" Load the training model \"\"\"\n",
        "    model.load_state_dict(torch.load(filename))\n",
        "\n",
        "\n",
        "def load_cifar10_data(batch_size=1):\n",
        "    \"\"\" Load MNIST data from torchvision.datasets \n",
        "        input: None\n",
        "        output: minibatches of train and test sets \n",
        "    \"\"\"\n",
        "    # CIFAR10 Dataset\n",
        "    train_dataset = torchvision.datasets.CIFAR10('./data/cifar10-py', download=True, train=True, transform=torchvision.transforms.ToTensor())\n",
        "    test_dataset = torchvision.datasets.CIFAR10('./data/cifar10-py', download=True, train=False, transform=torchvision.transforms.ToTensor())\n",
        "\n",
        "    # Data Loader (Input Pipeline)\n",
        "    train_loader = torch.utils.data.DataLoader(dataset=train_dataset, batch_size=batch_size, shuffle=True)\n",
        "    test_loader = torch.utils.data.DataLoader(dataset=test_dataset, batch_size=batch_size, shuffle=False)\n",
        "\n",
        "    return train_loader, test_loader, train_dataset, test_dataset\n",
        "\n",
        "\n",
        "test_batch_size = 1\n",
        "train_loader, test_loader, train_dataset, test_dataset = load_cifar10_data(test_batch_size)"
      ],
      "execution_count": null,
      "outputs": [
        {
          "output_type": "stream",
          "text": [
            "Files already downloaded and verified\n",
            "Files already downloaded and verified\n"
          ],
          "name": "stdout"
        }
      ]
    },
    {
      "cell_type": "markdown",
      "metadata": {
        "id": "qIuRnHrPpO7c"
      },
      "source": [
        "#### <b>Load Pre-trained Classification Model</b>"
      ]
    },
    {
      "cell_type": "code",
      "metadata": {
        "colab": {
          "base_uri": "https://localhost:8080/"
        },
        "id": "YKwl6DoNAm94",
        "outputId": "c7c9a601-0000-4bc4-814d-13068beaf704"
      },
      "source": [
        "cfg = {\n",
        "    'VGG11': [64, 'M', 128, 'M', 256, 256, 'M', 512, 512, 'M', 512, 512, 'M'],\n",
        "    'VGG13': [64, 64, 'M', 128, 128, 'M', 256, 256, 'M', 512, 512, 'M', 512, 512, 'M'],\n",
        "    'VGG16': [64, 64, 'M', 128, 128, 'M', 256, 256, 256, 'M', 512, 512, 512, 'M', 512, 512, 512, 'M'],\n",
        "    'VGG19': [64, 64, 'M', 128, 128, 'M', 256, 256, 256, 256, 'M', 512, 512, 512, 512, 'M', 512, 512, 512, 512, 'M'],\n",
        "}\n",
        "\n",
        "\n",
        "class VGG_plain(nn.Module):\n",
        "    def __init__(self, vgg_name, nclass, img_width=32):\n",
        "        super(VGG_plain, self).__init__()\n",
        "        self.img_width = img_width\n",
        "        self.features = self._make_layers(cfg[vgg_name])\n",
        "        self.classifier = nn.Linear(512, nclass)\n",
        "\n",
        "    def forward(self, x):\n",
        "        out = self.features(x)\n",
        "        out = out.view(out.size(0), -1)\n",
        "        out = self.classifier(out)\n",
        "        return out\n",
        "\n",
        "    def _make_layers(self, cfg):\n",
        "        layers = []\n",
        "        in_channels = 3\n",
        "        width = self.img_width\n",
        "        for x in cfg:\n",
        "            if x == 'M':\n",
        "                layers += [nn.MaxPool2d(kernel_size=2, stride=2)]\n",
        "                width = width // 2\n",
        "            else:\n",
        "                layers += [nn.Conv2d(in_channels, x, kernel_size=3, padding=1),\n",
        "                           nn.BatchNorm2d(x),\n",
        "                           nn.ReLU(inplace=True)]\n",
        "                in_channels = x\n",
        "        layers += [nn.AvgPool2d(kernel_size=width, stride=1)]\n",
        "        return nn.Sequential(*layers)\n",
        "\n",
        "    def predict(self, image):\n",
        "        self.eval()\n",
        "        image = torch.clamp(image,0,1)\n",
        "        image = Variable(image, volatile=True).view(1,3, 32,32)\n",
        "        if torch.cuda.is_available():\n",
        "            image = image.cuda()\n",
        "        output = self(image)[0]\n",
        "        print(output)\n",
        "        _, predict = torch.max(output.data, 1)\n",
        "        return predict[0]\n",
        "    \n",
        "    def predict_batch(self, image):\n",
        "        self.eval()\n",
        "        image = torch.clamp(image,0,1)\n",
        "        image = Variable(image, volatile=True)\n",
        "        if torch.cuda.is_available():\n",
        "            image = image.cuda()\n",
        "        output = self(image)[0]\n",
        "        _, predict = torch.max(output.data, 1)\n",
        "        return predict\n",
        "\n",
        "\n",
        "def vgg16():\n",
        "    return VGG_plain('VGG16', nclass=10)\n",
        "\n",
        "\n",
        "model_dir = 'attackbox/model/cifar10_vgg_plain.pth'\n",
        "net = vgg16()\n",
        "net = torch.nn.DataParallel(net, device_ids=[0])\n",
        "load_model(net, model_dir)\n",
        "net.cuda()\n",
        "net.eval()"
      ],
      "execution_count": null,
      "outputs": [
        {
          "output_type": "execute_result",
          "data": {
            "text/plain": [
              "DataParallel(\n",
              "  (module): VGG_plain(\n",
              "    (features): Sequential(\n",
              "      (0): Conv2d(3, 64, kernel_size=(3, 3), stride=(1, 1), padding=(1, 1))\n",
              "      (1): BatchNorm2d(64, eps=1e-05, momentum=0.1, affine=True, track_running_stats=True)\n",
              "      (2): ReLU(inplace=True)\n",
              "      (3): Conv2d(64, 64, kernel_size=(3, 3), stride=(1, 1), padding=(1, 1))\n",
              "      (4): BatchNorm2d(64, eps=1e-05, momentum=0.1, affine=True, track_running_stats=True)\n",
              "      (5): ReLU(inplace=True)\n",
              "      (6): MaxPool2d(kernel_size=2, stride=2, padding=0, dilation=1, ceil_mode=False)\n",
              "      (7): Conv2d(64, 128, kernel_size=(3, 3), stride=(1, 1), padding=(1, 1))\n",
              "      (8): BatchNorm2d(128, eps=1e-05, momentum=0.1, affine=True, track_running_stats=True)\n",
              "      (9): ReLU(inplace=True)\n",
              "      (10): Conv2d(128, 128, kernel_size=(3, 3), stride=(1, 1), padding=(1, 1))\n",
              "      (11): BatchNorm2d(128, eps=1e-05, momentum=0.1, affine=True, track_running_stats=True)\n",
              "      (12): ReLU(inplace=True)\n",
              "      (13): MaxPool2d(kernel_size=2, stride=2, padding=0, dilation=1, ceil_mode=False)\n",
              "      (14): Conv2d(128, 256, kernel_size=(3, 3), stride=(1, 1), padding=(1, 1))\n",
              "      (15): BatchNorm2d(256, eps=1e-05, momentum=0.1, affine=True, track_running_stats=True)\n",
              "      (16): ReLU(inplace=True)\n",
              "      (17): Conv2d(256, 256, kernel_size=(3, 3), stride=(1, 1), padding=(1, 1))\n",
              "      (18): BatchNorm2d(256, eps=1e-05, momentum=0.1, affine=True, track_running_stats=True)\n",
              "      (19): ReLU(inplace=True)\n",
              "      (20): Conv2d(256, 256, kernel_size=(3, 3), stride=(1, 1), padding=(1, 1))\n",
              "      (21): BatchNorm2d(256, eps=1e-05, momentum=0.1, affine=True, track_running_stats=True)\n",
              "      (22): ReLU(inplace=True)\n",
              "      (23): MaxPool2d(kernel_size=2, stride=2, padding=0, dilation=1, ceil_mode=False)\n",
              "      (24): Conv2d(256, 512, kernel_size=(3, 3), stride=(1, 1), padding=(1, 1))\n",
              "      (25): BatchNorm2d(512, eps=1e-05, momentum=0.1, affine=True, track_running_stats=True)\n",
              "      (26): ReLU(inplace=True)\n",
              "      (27): Conv2d(512, 512, kernel_size=(3, 3), stride=(1, 1), padding=(1, 1))\n",
              "      (28): BatchNorm2d(512, eps=1e-05, momentum=0.1, affine=True, track_running_stats=True)\n",
              "      (29): ReLU(inplace=True)\n",
              "      (30): Conv2d(512, 512, kernel_size=(3, 3), stride=(1, 1), padding=(1, 1))\n",
              "      (31): BatchNorm2d(512, eps=1e-05, momentum=0.1, affine=True, track_running_stats=True)\n",
              "      (32): ReLU(inplace=True)\n",
              "      (33): MaxPool2d(kernel_size=2, stride=2, padding=0, dilation=1, ceil_mode=False)\n",
              "      (34): Conv2d(512, 512, kernel_size=(3, 3), stride=(1, 1), padding=(1, 1))\n",
              "      (35): BatchNorm2d(512, eps=1e-05, momentum=0.1, affine=True, track_running_stats=True)\n",
              "      (36): ReLU(inplace=True)\n",
              "      (37): Conv2d(512, 512, kernel_size=(3, 3), stride=(1, 1), padding=(1, 1))\n",
              "      (38): BatchNorm2d(512, eps=1e-05, momentum=0.1, affine=True, track_running_stats=True)\n",
              "      (39): ReLU(inplace=True)\n",
              "      (40): Conv2d(512, 512, kernel_size=(3, 3), stride=(1, 1), padding=(1, 1))\n",
              "      (41): BatchNorm2d(512, eps=1e-05, momentum=0.1, affine=True, track_running_stats=True)\n",
              "      (42): ReLU(inplace=True)\n",
              "      (43): MaxPool2d(kernel_size=2, stride=2, padding=0, dilation=1, ceil_mode=False)\n",
              "      (44): AvgPool2d(kernel_size=1, stride=1, padding=0)\n",
              "    )\n",
              "    (classifier): Linear(in_features=512, out_features=10, bias=True)\n",
              "  )\n",
              ")"
            ]
          },
          "metadata": {
            "tags": []
          },
          "execution_count": 40
        }
      ]
    },
    {
      "cell_type": "code",
      "metadata": {
        "id": "kLnrkPAbp2Ec"
      },
      "source": [
        "class PytorchModel(object):\n",
        "    def __init__(self,model, bounds, num_classes):\n",
        "        self.model = model\n",
        "        self.model.eval()\n",
        "        self.bounds = bounds\n",
        "        self.num_classes = num_classes\n",
        "        self.num_queries = 0\n",
        "\n",
        "    def predict(self,image):\n",
        "        image = torch.clamp(image,self.bounds[0],self.bounds[1]).cuda()\n",
        "        if len(image.size())!=4:\n",
        "            image = image.unsqueeze(0)\n",
        "        output = self.model(image)\n",
        "        self.num_queries += 1\n",
        "        return output\n",
        " \n",
        "    def predict_prob(self,image):\n",
        "        with torch.no_grad():\n",
        "            image = torch.clamp(image,self.bounds[0],self.bounds[1]).cuda()\n",
        "            if len(image.size())!=4:\n",
        "                image = image.unsqueeze(0)\n",
        "            output = self.model(image)\n",
        "            self.num_queries += image.size(0)\n",
        "        return output\n",
        "\n",
        "    def predict_label(self, image, batch=False):\n",
        "        if isinstance(image, np.ndarray):\n",
        "            image = torch.from_numpy(image).type(torch.FloatTensor)\n",
        "        image = torch.clamp(image,self.bounds[0],self.bounds[1]).cuda()\n",
        "        if len(image.size())!=4:\n",
        "            image = image.unsqueeze(0)\n",
        "        with torch.no_grad():\n",
        "            output = self.model(image)\n",
        "            self.num_queries += image.size(0)\n",
        "        _, predict = torch.max(output.data, 1)\n",
        "        if batch:\n",
        "            return predict\n",
        "        else:\n",
        "            return predict[0]\n",
        "\n",
        "    def predict_ensemble(self, image):\n",
        "        if isinstance(image, np.ndarray):\n",
        "            image = torch.from_numpy(image).type(torch.FloatTensor)\n",
        "        image = torch.clamp(image,self.bounds[0],self.bounds[1]).cuda()\n",
        "        if len(image.size())!=4:\n",
        "            image = image.unsqueeze(0)\n",
        "        with torch.no_grad():\n",
        "            output = self.model(image)\n",
        "            output.zero_()\n",
        "            for i in range(10):\n",
        "                output += self.model(image)\n",
        "                self.num_queries += image.size(0)\n",
        "\n",
        "        _, predict = torch.max(output.data, 1)\n",
        "\n",
        "        return predict[0]\n",
        "\n",
        "    def get_num_queries(self):\n",
        "        return self.num_queries\n",
        "\n",
        "    def get_gradient(self,loss):\n",
        "        loss.backward()"
      ],
      "execution_count": null,
      "outputs": []
    },
    {
      "cell_type": "markdown",
      "metadata": {
        "id": "D8gtuAehpsSu"
      },
      "source": [
        "#### <b>Adversarial Attack</b>"
      ]
    },
    {
      "cell_type": "code",
      "metadata": {
        "id": "5-rNUNmBl2mI"
      },
      "source": [
        "MAX_ITER = 1000\n",
        "\n",
        "\n",
        "class OPT_attack(object):\n",
        "    def __init__(self, model):\n",
        "        self.model = model\n",
        "        self.log = torch.ones(MAX_ITER, 2)\n",
        "\n",
        "    def get_log(self):\n",
        "        return self.log\n",
        "\n",
        "    def attack_untargeted(self, x0, y0, alpha=0.2, beta=0.001, iterations=1500, query_limit=20000):\n",
        "        \"\"\" Attack the original image and return adversarial example\n",
        "            model: (pytorch model)\n",
        "            train_dataset: set of training data\n",
        "            (x0, y0): original image\n",
        "        \"\"\"\n",
        "        model = self.model\n",
        "        if type(x0) is torch.Tensor:\n",
        "            x0 = x0.cpu().numpy()\n",
        "        if type(y0) is torch.Tensor:\n",
        "            y0 = y0.item()\n",
        "        if (model.predict_label(x0) != y0):\n",
        "            print(\"Fail to classify the image. No need to attack.\")\n",
        "            return torch.tensor(x0).cuda()\n",
        "\n",
        "        # 공격을 위한 초기 방향(initial direction) theta 찾기 / g_theta: 거리(짧을수록 좋음)\n",
        "        num_directions = 100\n",
        "        best_theta, g_theta = None, float('inf')\n",
        "        query_count = 0\n",
        "        print(\"Searching for the initial direction on %d random directions: \" % (num_directions))\n",
        "        np.random.seed(args.seed)\n",
        "        timestart = time.time()\n",
        "        for i in range(num_directions):\n",
        "            query_count += 1\n",
        "            theta = np.random.randn(*x0.shape) # 랜덤 theta 샘플링\n",
        "            if model.predict_label(x0 + theta) != y0:\n",
        "                initial_lbd = LA.norm(theta)\n",
        "                theta /= initial_lbd # 단위 방향 벡터\n",
        "                lbd, count = self.fine_grained_binary_search(model, x0, y0, theta, initial_lbd, g_theta)\n",
        "                query_count += count\n",
        "                if lbd < g_theta: # 더 짧은 거리(g_theta)를 찾았다면\n",
        "                    best_theta, g_theta = theta, lbd\n",
        "                    print(\"--------> Found distortion %.4f\" % g_theta)\n",
        "        if g_theta == float('inf'): # 만약 적절한 theta를 찾지 못했다면 500회 더 반복\n",
        "            num_directions = 500\n",
        "            best_theta, g_theta = None, float('inf')\n",
        "            print(\"Searching for the initial direction on %d random directions: \" % (num_directions))\n",
        "            timestart = time.time()\n",
        "            for i in range(num_directions):\n",
        "                query_count += 1\n",
        "                theta = np.random.randn(*x0.shape) # 랜덤 theta 샘플링\n",
        "                if model.predict_label(x0 + theta) != y0:\n",
        "                    initial_lbd = LA.norm(theta)\n",
        "                    theta /= initial_lbd # 단위 방향 벡터\n",
        "                    lbd, count = self.fine_grained_binary_search(model, x0, y0, theta, initial_lbd, g_theta)\n",
        "                    query_count += count\n",
        "                    if lbd < g_theta: # 더 짧은 거리(g_theta)를 찾았다면\n",
        "                        best_theta, g_theta = theta, lbd\n",
        "                        print(\"--------> Found distortion %.4f\" % g_theta)\n",
        "\n",
        "        if g_theta == float('inf'):    \n",
        "            print(\"Couldn't find valid initial, failed\")\n",
        "            return torch.tensor(x0).cuda()\n",
        "        timeend = time.time()\n",
        "        print(\"==========> Found best distortion %.4f in %.4f seconds using %d queries\" % (g_theta, timeend - timestart, query_count))    \n",
        "        self.log[0][0], self.log[0][1] = g_theta, query_count\n",
        "\n",
        "        # 반복적으로 theta를 업데이트하며 공격 수행\n",
        "        timestart = time.time()\n",
        "        g1 = 1.0\n",
        "        theta, g2 = best_theta, g_theta\n",
        "        opt_count = 0\n",
        "        stopping = 0.01\n",
        "        prev_obj = 100000\n",
        "        for i in range(iterations):\n",
        "            # theta의 기울기(gradient) 예측\n",
        "            gradient = np.zeros(theta.shape)\n",
        "            q = 10\n",
        "            min_g1 = float('inf')\n",
        "            for _ in range(q):\n",
        "                u = np.random.randn(*theta.shape)\n",
        "                u /= LA.norm(u)\n",
        "                ttt = theta+beta * u\n",
        "                ttt /= LA.norm(ttt)\n",
        "                g1, count = self.fine_grained_binary_search_local(model, x0, y0, ttt, initial_lbd = g2, tol=beta/500)\n",
        "                opt_count += count\n",
        "                gradient += (g1 - g2) / beta * u # 기울기 구하기\n",
        "                if g1 < min_g1:\n",
        "                    min_g1 = g1\n",
        "                    min_ttt = ttt\n",
        "            gradient = 1.0 / q * gradient\n",
        "\n",
        "            # 쿼리 한도(query limit)를 초과했다면 종료\n",
        "            if opt_count > query_limit:\n",
        "                break\n",
        "\n",
        "            # 공격이 진행되는 상황에서 로깅(logging)\n",
        "            if (i + 1) % 10 == 0:\n",
        "                print(\"Iteration %3d distortion %.4f num_queries %d\" % (i + 1, LA.norm(g2 * theta), opt_count))\n",
        "                prev_obj = g2\n",
        "            self.log[i+1][0], self.log[i+1][1] = g2, opt_count + query_count\n",
        "\n",
        "            if (i + 1) % 50 == 0:\n",
        "                # 화면에 이미지 출력하기\n",
        "                img = torch.tensor(x0 + g2 * theta, dtype=torch.float) # [batch_size, 1, H, W]\n",
        "                img = torch.clamp(img, min=0, max=1).squeeze(0) # [1, H, W]\n",
        "                img = torchvision.transforms.ToPILImage()(img)\n",
        "                plt.imshow(img)\n",
        "                plt.show()\n",
        "\n",
        "            # 예측된 기울기를 이용하여 theta를 업데이트할 것임\n",
        "            min_theta = theta\n",
        "            min_g2 = g2\n",
        "\n",
        "            for _ in range(15): # 예측된 기울기를 이용해 alpha만큼 업데이트했을 때 거리(g_2)가 줄어드는지 확인하여 기록\n",
        "                new_theta = theta - alpha * gradient\n",
        "                new_theta /= LA.norm(new_theta)\n",
        "                new_g2, count = self.fine_grained_binary_search_local(model, x0, y0, new_theta, initial_lbd = min_g2, tol=beta/500)\n",
        "                opt_count += count\n",
        "                alpha = alpha * 2\n",
        "                if new_g2 < min_g2:\n",
        "                    min_theta = new_theta \n",
        "                    min_g2 = new_g2\n",
        "                else:\n",
        "                    break\n",
        "\n",
        "            if min_g2 >= g2: # 필요하다면 alpha를 조금 더 줄여서 거리(g_2)가 줄어드는지 다시 확인하여 기록\n",
        "                for _ in range(15):\n",
        "                    alpha = alpha * 0.25\n",
        "                    new_theta = theta - alpha * gradient\n",
        "                    new_theta /= LA.norm(new_theta)\n",
        "                    new_g2, count = self.fine_grained_binary_search_local(model, x0, y0, new_theta, initial_lbd = min_g2, tol=beta/500)\n",
        "                    opt_count += count\n",
        "                    if new_g2 < g2:\n",
        "                        min_theta = new_theta \n",
        "                        min_g2 = new_g2\n",
        "                        break\n",
        "\n",
        "            # 결과적으로 theta(방향)와 g_theta(거리) 정보를 업데이트\n",
        "            if min_g2 <= min_g1:\n",
        "                theta, g2 = min_theta, min_g2\n",
        "            else:\n",
        "                theta, g2 = min_ttt, min_g1\n",
        "\n",
        "            if g2 < g_theta:\n",
        "                best_theta, g_theta = theta, g2\n",
        "\n",
        "            if alpha < 1e-4:\n",
        "                alpha = 1.0\n",
        "                print(\"Warning: not moving, g2 %lf gtheta %lf\" % (g2, g_theta))\n",
        "                beta = beta * 0.1\n",
        "                if (beta < 1e-8):\n",
        "                   break\n",
        "\n",
        "        target = model.predict_label(x0 + g_theta * best_theta)\n",
        "        timeend = time.time()\n",
        "        print(\"\\nAdversarial Example Found Successfully: distortion %.4f target %d queries %d \\nTime: %.4f seconds\" % (g_theta, target, query_count + opt_count, timeend-timestart))\n",
        "\n",
        "        self.log[i+1:,0] = g_theta\n",
        "        self.log[i+1:,1] = opt_count + query_count\n",
        "        return torch.tensor(x0 + g_theta * best_theta, dtype=torch.float).cuda()\n",
        "\n",
        "    # theta를 업데이트할 때 사용\n",
        "    def fine_grained_binary_search_local(self, model, x0, y0, theta, initial_lbd=1.0, tol=1e-5):\n",
        "        nquery = 0\n",
        "        lbd = initial_lbd\n",
        "\n",
        "        if model.predict_label(x0 + lbd * theta) == y0:\n",
        "            lbd_lo = lbd\n",
        "            lbd_hi = lbd * 1.01\n",
        "            nquery += 1\n",
        "            while model.predict_label(x0 + lbd_hi * theta) == y0:\n",
        "                lbd_hi = lbd_hi * 1.01\n",
        "                nquery += 1\n",
        "                if lbd_hi > 20:\n",
        "                    return float('inf'), nquery\n",
        "        else:\n",
        "            lbd_hi = lbd\n",
        "            lbd_lo = lbd * 0.99\n",
        "            nquery += 1\n",
        "            while model.predict_label(x0 + lbd_lo * theta) != y0 :\n",
        "                lbd_lo = lbd_lo * 0.99\n",
        "                nquery += 1\n",
        "\n",
        "        while (lbd_hi - lbd_lo) > tol:\n",
        "            lbd_mid = (lbd_lo + lbd_hi) / 2.0\n",
        "            nquery += 1\n",
        "            if model.predict_label(x0 + lbd_mid * theta) != y0:\n",
        "                lbd_hi = lbd_mid\n",
        "            else:\n",
        "                lbd_lo = lbd_mid\n",
        "        return lbd_hi, nquery\n",
        "\n",
        "    # 처음에 initial theta를 찾을 때 사용\n",
        "    def fine_grained_binary_search(self, model, x0, y0, theta, initial_lbd, current_best):\n",
        "        nquery = 0\n",
        "        if initial_lbd > current_best: \n",
        "            if model.predict_label(x0 + current_best * theta) == y0:\n",
        "                nquery += 1\n",
        "                return float('inf'), nquery\n",
        "            lbd = current_best\n",
        "        else:\n",
        "            lbd = initial_lbd\n",
        "\n",
        "        lbd_hi = lbd\n",
        "        lbd_lo = 0.0\n",
        "\n",
        "        while (lbd_hi - lbd_lo) > 1e-5:\n",
        "            lbd_mid = (lbd_lo + lbd_hi) / 2.0\n",
        "            nquery += 1\n",
        "            if model.predict_label(x0 + lbd_mid * theta) != y0:\n",
        "                lbd_hi = lbd_mid\n",
        "            else:\n",
        "                lbd_lo = lbd_mid\n",
        "        return lbd_hi, nquery\n",
        "\n",
        "    def __call__(self, input_xi, label_or_target, TARGETED=False, epsilon=None):\n",
        "        if TARGETED:\n",
        "            print(\"Not Implemented.\")\n",
        "        else:\n",
        "            adv = self.attack_untargeted(input_xi, label_or_target)\n",
        "        return adv"
      ],
      "execution_count": null,
      "outputs": []
    },
    {
      "cell_type": "code",
      "metadata": {
        "id": "ytpMQL5stsQD"
      },
      "source": [
        "# 단순히 p-norm 거리(distance) 계산\n",
        "def distance(x_adv, x, norm='l2'):\n",
        "    diff = (x_adv - x).view(x.size(0), -1)\n",
        "    if norm == 'l2':\n",
        "        out = torch.sqrt(torch.sum(diff * diff)).item()\n",
        "        return out\n",
        "    elif norm == 'linf':\n",
        "        out = torch.sum(torch.max(torch.abs(diff), 1)[0]).item()\n",
        "        return out"
      ],
      "execution_count": null,
      "outputs": []
    },
    {
      "cell_type": "code",
      "metadata": {
        "id": "ksIwqNi9hrEs"
      },
      "source": [
        "from types import SimpleNamespace\n",
        "\n",
        "args = SimpleNamespace()\n",
        "\n",
        "args.attack = 'OPT_attack' # Attack to be used.\n",
        "args.targeted = False # Targeted attack.\n",
        "args.random_start = False # PGD attack with random start.\n",
        "args.epsilon = 1.0\n",
        "args.seed = 123\n",
        "args.norm = 'l2'\n",
        "args.test_batch = 3 # The number of test batch."
      ],
      "execution_count": null,
      "outputs": []
    },
    {
      "cell_type": "code",
      "metadata": {
        "colab": {
          "base_uri": "https://localhost:8080/",
          "height": 1000
        },
        "id": "Ftqcu-xFmF-i",
        "outputId": "68eb3a69-3337-4a6f-f043-fb6a94596718"
      },
      "source": [
        "amodel = PytorchModel(net, bounds=[0, 1], num_classes=10)\n",
        "attack = OPT_attack(amodel)\n",
        "\n",
        "total_r_count = 0\n",
        "total_clean_count = 0\n",
        "total_distance = 0\n",
        "\n",
        "for i, (xi, yi) in enumerate(test_loader):\n",
        "    print(f\"image batch: {i}\")\n",
        "    if i == args.test_batch:\n",
        "        break\n",
        "\n",
        "    xi, yi = xi.cuda(), yi.cuda()\n",
        "    adv = attack(xi, yi, epsilon=args.epsilon, TARGETED=args.targeted)\n",
        "\n",
        "    # 결과 출력(l_2 distortion이 충분히 감소했을 때 성공)\n",
        "    img = torchvision.transforms.ToPILImage()(torch.clamp(adv, min=0, max=1).squeeze(0))\n",
        "    plt.imshow(img)\n",
        "    plt.show()\n",
        "\n",
        "    if args.targeted == False:\n",
        "        r_count = (torch.max(amodel.predict(adv), 1)[1] == yi).nonzero().shape[0]\n",
        "        clean_count = (torch.max(amodel.predict(xi), 1)[1] == yi).nonzero().shape[0]\n",
        "        total_r_count += r_count\n",
        "        total_clean_count += clean_count\n",
        "        total_distance += distance(adv, xi, norm=args.norm)\n",
        "\n",
        "    if i == 0:\n",
        "        logs = torch.zeros(attack.get_log().size())\n",
        "    logs += attack.get_log()\n",
        "\n",
        "logs /= args.test_batch\n",
        "print(\"saving logs to numpy array\")\n",
        "npy_file = \"log.npy\"\n",
        "np.save(npy_file,logs.numpy())\n",
        "\n",
        "plot_log = np.load(npy_file)\n",
        "plt.plot(plot_log[:,1], plot_log[:,0])\n",
        "plt.ylabel('Distortion')\n",
        "plt.xlabel('Num of queries')\n",
        "plt.show()"
      ],
      "execution_count": null,
      "outputs": [
        {
          "output_type": "stream",
          "text": [
            "image batch: 0\n",
            "Searching for the initial direction on 100 random directions: \n",
            "--------> Found distortion 3.7202\n",
            "--------> Found distortion 3.7017\n",
            "--------> Found distortion 3.5716\n",
            "--------> Found distortion 2.9893\n",
            "--------> Found distortion 2.8506\n",
            "--------> Found distortion 2.7356\n",
            "==========> Found best distortion 2.7356 in 3.2823 seconds using 312 queries\n",
            "Iteration  10 distortion 1.8053 num_queries 2103\n",
            "Iteration  20 distortion 1.0979 num_queries 4027\n",
            "Iteration  30 distortion 0.8589 num_queries 5969\n",
            "Iteration  40 distortion 0.7311 num_queries 7772\n",
            "Iteration  50 distortion 0.6423 num_queries 9536\n"
          ],
          "name": "stdout"
        },
        {
          "output_type": "display_data",
          "data": {
            "image/png": "[encoded data removed]",
            "text/plain": [
              "<Figure size 432x288 with 1 Axes>"
            ]
          },
          "metadata": {
            "tags": [],
            "needs_background": "light"
          }
        },
        {
          "output_type": "stream",
          "text": [
            "Iteration  60 distortion 0.5951 num_queries 11179\n",
            "Iteration  70 distortion 0.5617 num_queries 12839\n",
            "Iteration  80 distortion 0.5255 num_queries 14509\n",
            "Iteration  90 distortion 0.4884 num_queries 16200\n",
            "Iteration 100 distortion 0.4657 num_queries 17840\n"
          ],
          "name": "stdout"
        },
        {
          "output_type": "display_data",
          "data": {
            "image/png": "[encoded data removed]",
            "text/plain": [
              "<Figure size 432x288 with 1 Axes>"
            ]
          },
          "metadata": {
            "tags": [],
            "needs_background": "light"
          }
        },
        {
          "output_type": "stream",
          "text": [
            "Iteration 110 distortion 0.4451 num_queries 19486\n",
            "\n",
            "Adversarial Example Found Successfully: distortion 0.4412 target 6 queries 20440 \n",
            "Time: 212.0795 seconds\n"
          ],
          "name": "stdout"
        },
        {
          "output_type": "display_data",
          "data": {
            "image/png": "[encoded data removed]",
            "text/plain": [
              "<Figure size 432x288 with 1 Axes>"
            ]
          },
          "metadata": {
            "tags": [],
            "needs_background": "light"
          }
        },
        {
          "output_type": "stream",
          "text": [
            "image batch: 1\n",
            "Searching for the initial direction on 100 random directions: \n",
            "--------> Found distortion 4.5299\n",
            "--------> Found distortion 4.0619\n",
            "--------> Found distortion 3.9259\n",
            "--------> Found distortion 3.8379\n",
            "--------> Found distortion 3.4344\n",
            "--------> Found distortion 3.3284\n",
            "==========> Found best distortion 3.3284 in 3.1464 seconds using 312 queries\n",
            "Iteration  10 distortion 2.0991 num_queries 2245\n",
            "Iteration  20 distortion 1.7654 num_queries 4296\n",
            "Iteration  30 distortion 1.4610 num_queries 6263\n",
            "Iteration  40 distortion 1.0342 num_queries 8254\n",
            "Iteration  50 distortion 0.7985 num_queries 10143\n"
          ],
          "name": "stdout"
        },
        {
          "output_type": "display_data",
          "data": {
            "image/png": "[encoded data removed]",
            "text/plain": [
              "<Figure size 432x288 with 1 Axes>"
            ]
          },
          "metadata": {
            "tags": [],
            "needs_background": "light"
          }
        },
        {
          "output_type": "stream",
          "text": [
            "Iteration  60 distortion 0.6608 num_queries 11884\n",
            "Iteration  70 distortion 0.5963 num_queries 13592\n",
            "Iteration  80 distortion 0.5478 num_queries 15331\n",
            "Iteration  90 distortion 0.5143 num_queries 17071\n",
            "Iteration 100 distortion 0.4827 num_queries 18770\n"
          ],
          "name": "stdout"
        },
        {
          "output_type": "display_data",
          "data": {
            "image/png": "[encoded data removed]",
            "text/plain": [
              "<Figure size 432x288 with 1 Axes>"
            ]
          },
          "metadata": {
            "tags": [],
            "needs_background": "light"
          }
        },
        {
          "output_type": "stream",
          "text": [
            "\n",
            "Adversarial Example Found Successfully: distortion 0.4606 target 1 queries 20410 \n",
            "Time: 212.6560 seconds\n"
          ],
          "name": "stdout"
        },
        {
          "output_type": "display_data",
          "data": {
            "image/png": "[encoded data removed]",
            "text/plain": [
              "<Figure size 432x288 with 1 Axes>"
            ]
          },
          "metadata": {
            "tags": [],
            "needs_background": "light"
          }
        },
        {
          "output_type": "stream",
          "text": [
            "image batch: 2\n",
            "Searching for the initial direction on 100 random directions: \n",
            "--------> Found distortion 2.2699\n",
            "--------> Found distortion 1.8510\n",
            "--------> Found distortion 1.6913\n",
            "--------> Found distortion 1.5024\n",
            "==========> Found best distortion 1.5024 in 2.7768 seconds using 273 queries\n",
            "Iteration  10 distortion 0.8068 num_queries 1969\n",
            "Iteration  20 distortion 0.6085 num_queries 3722\n",
            "Iteration  30 distortion 0.5042 num_queries 5532\n",
            "Iteration  40 distortion 0.4492 num_queries 7233\n",
            "Iteration  50 distortion 0.4066 num_queries 8893\n"
          ],
          "name": "stdout"
        },
        {
          "output_type": "display_data",
          "data": {
            "image/png": "[encoded data removed]",
            "text/plain": [
              "<Figure size 432x288 with 1 Axes>"
            ]
          },
          "metadata": {
            "tags": [],
            "needs_background": "light"
          }
        },
        {
          "output_type": "stream",
          "text": [
            "Iteration  60 distortion 0.3604 num_queries 10573\n",
            "Iteration  70 distortion 0.3374 num_queries 12166\n",
            "Iteration  80 distortion 0.3159 num_queries 13751\n",
            "Iteration  90 distortion 0.2970 num_queries 15362\n",
            "Iteration 100 distortion 0.2859 num_queries 16886\n"
          ],
          "name": "stdout"
        },
        {
          "output_type": "display_data",
          "data": {
            "image/png": "[encoded data removed]",
            "text/plain": [
              "<Figure size 432x288 with 1 Axes>"
            ]
          },
          "metadata": {
            "tags": [],
            "needs_background": "light"
          }
        },
        {
          "output_type": "stream",
          "text": [
            "Iteration 110 distortion 0.2694 num_queries 18447\n",
            "Iteration 120 distortion 0.2587 num_queries 19946\n",
            "\n",
            "Adversarial Example Found Successfully: distortion 0.2581 target 9 queries 20365 \n",
            "Time: 214.3301 seconds\n"
          ],
          "name": "stdout"
        },
        {
          "output_type": "display_data",
          "data": {
            "image/png": "[encoded data removed]",
            "text/plain": [
              "<Figure size 432x288 with 1 Axes>"
            ]
          },
          "metadata": {
            "tags": [],
            "needs_background": "light"
          }
        },
        {
          "output_type": "stream",
          "text": [
            "image batch: 3\n",
            "saving logs to numpy array\n"
          ],
          "name": "stdout"
        },
        {
          "output_type": "display_data",
          "data": {
            "image/png": "[encoded data removed]",
            "text/plain": [
              "<Figure size 432x288 with 1 Axes>"
            ]
          },
          "metadata": {
            "tags": [],
            "needs_background": "light"
          }
        }
      ]
    }
  ]
}